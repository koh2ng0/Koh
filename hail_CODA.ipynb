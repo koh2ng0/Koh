{
 "cells": [
  {
   "cell_type": "markdown",
   "id": "4c694497",
   "metadata": {},
   "source": [
    "# Analysis of CODA data\n",
    "- optic nerve developmental disorder samples data"
   ]
  },
  {
   "cell_type": "markdown",
   "id": "e4d410c9",
   "metadata": {},
   "source": [
    "## Importing package and initializing"
   ]
  },
  {
   "cell_type": "code",
   "execution_count": null,
   "id": "9fc7e669",
   "metadata": {},
   "outputs": [],
   "source": [
    "import hail as hl\n",
    "from bokeh.io import output_notebook, show\n",
    "\n",
    "output_notebook()"
   ]
  },
  {
   "cell_type": "code",
   "execution_count": null,
   "id": "be791ab1",
   "metadata": {},
   "outputs": [],
   "source": [
    "hl.init()"
   ]
  },
  {
   "cell_type": "markdown",
   "id": "4970c123",
   "metadata": {},
   "source": [
    "## Data preparing"
   ]
  },
  {
   "cell_type": "code",
   "execution_count": null,
   "id": "fd3dd4ca",
   "metadata": {},
   "outputs": [],
   "source": [
    "mt = hl.read_matrix_table(\"./data/CODA_vep_20210923.mt\")"
   ]
  },
  {
   "cell_type": "code",
   "execution_count": null,
   "id": "6fb111eb",
   "metadata": {},
   "outputs": [],
   "source": [
    "mt.row.show()\n",
    "mt.describe(widget=True)"
   ]
  },
  {
   "cell_type": "code",
   "execution_count": null,
   "id": "586d92d4",
   "metadata": {},
   "outputs": [],
   "source": [
    "mt.info.show(20)"
   ]
  },
  {
   "cell_type": "code",
   "execution_count": null,
   "id": "3f27fc4c",
   "metadata": {},
   "outputs": [],
   "source": [
    "res_mt = mt.filter_rows(mt.info.VQSLOD > 0)\n",
    "res_mt.row.show()"
   ]
  },
  {
   "cell_type": "code",
   "execution_count": null,
   "id": "f9ca34e0",
   "metadata": {},
   "outputs": [],
   "source": [
    "sorted(mt.aggregate_rows(hl.agg.counter(mt.vep.seq_region_name)).items())"
   ]
  },
  {
   "cell_type": "markdown",
   "id": "a5444236",
   "metadata": {},
   "source": [
    "## Data description\n",
    "### Row fields\n",
    "1. locus : \\<chromosome\\>:\\<position in chromosome\\> e.g. chr1:69270  \n",
    "2. alleles : [\"REF\", \"ALT\"]\n",
    "3. rsid : variant ID of dbSNP\n",
    "4. qual : phred-scaled quality score for the assertion made in ALT, i.e. −10log10 prob(call in ALT is wrong).  \n",
    "5. filters : filter status\n",
    "6. info  \n",
    "    1) AC : alternative allele(chromosome) count in genotype, for each ALT allele  \n",
    "    2) AF : alternative allele frequency for each ALT allele (AC/AN)  \n",
    "    3) AN : Total number of alleles in called genotypes, (n.REF + n.ALT)  \n",
    "    4) AS_InbreedingCoeff : Allele-specific likelihood-based test for the consanguinity among samples. This annotation estimates whether there is evidence of inbreeding in a population. The higher the score, the higher the chance that there is inbreeding.    \n",
    "    5) AS_RAW_BaseQRankSum : Allele-specific rank sum test of REF versus ALT base quality scores(AS)  \n",
    "    6) AS_RAW_MQ : Allele-specific root-mean-square of the mapping quality of reads across all samples  \n",
    "    7) AS_RAW_MQRankSum : Allele-specific rank sum test for mapping qualities of REF versus ALT reads  \n",
    "    8) AS_RAW_ReadPosRankSum : Allele-specific rank sum test for relative positioning of REF versus ALT allele within reads  \n",
    "    9) AS_SB_TABLE : forward and reverse read counts for each allele   \n",
    "    10) BaseQRankSum : Z-score from Wilcoxon rank sum test of Alt vs. Ref base qualities  \n",
    "    11) DP : combined depth across samples / Approximate read depth; some reads may have been filtered  \n",
    "    12) END : end position of the variant described in this record (for use with symbolic alleles) / stop position in interval  \n",
    "    13) ExcessHet : Phred-scaled p-value for exact test of excess heterozygosity  \n",
    "    14) FS : Strand bias estimated using Fisher's exact test  \n",
    "    15) InbreedingCoeff : Inbreeding coefficient as estimated from the genotype likelihoods per-sample when compared against the Hardy-Weinberg expectation  \n",
    "    16) MLEAC : Maximum likelihood expectation (MLE) for the allele counts (not necessarily the same as the AC), for each ALT allele  \n",
    "    17) MLEAF : Maximum likelihood expectation (MLE) for the allele frequency (not necessarily the same as the AF), for each ALT allele  \n",
    "    18) MQ : RMS mapping quality  \n",
    "    19) MQRankSum : Z-score From Wilcoxon rank sum test of Alt vs. Ref read mapping qualities  \n",
    "    20) NEGATIVE_TRAIN_SITE : variants used in the GATK VQSR negative training set  \n",
    "    21) POSITIVE_TRAIN_SITE : variants used in the GATK VQSR negative training set  \n",
    "    _*VQSR : Variant Quality Score Recalibration, it's for Variant Filtering_  \n",
    "    22) QD : Variant confidence normalized by unfiltered depth of variant samples, QD is the QUAL score normalized by allele depth (AD) for a variant   \n",
    "    23) RAW_MQandDP : Raw data (sum of squared MQ and total depth) for improved RMS Mapping Quality calculation. Incompatible with deprecated RAW_MQ formulation.  \n",
    "    24) ReadPosRankSum : Z-score from Wilcoxon rank sum test of Alt vs. Ref read position bias  \n",
    "    25) SOR : Symmetric Odds Ratio of 2x2 contingency table to detect strand biasIN  \n",
    "    26) VQSLOD : variant quality score log-odds, Log odds of being a true variant versus being false under the trained gaussian mixture model  \n",
    "    27) culprit : The annotation which was the worst performing in the Gaussian mixture model, likely the reason why the variant was filtered out   \n",
    "    \n",
    "7. vep  \n",
    "    _*VEP : Variant Effect Predictor(https://asia.ensembl.org/info/docs/tools/vep/index.html)_  \n",
    "    1) assembly_name : reference build   \n",
    "    2) allele_string : \\<REF\\>/\\<ATL\\>   \n",
    "    3) ancestral    \n",
    "    4) colocated_variants : known identifier of existing variant, extra informations of variants   \n",
    "    5) context    \n",
    "    6) end : end position of variant   \n",
    "    7) id    \n",
    "    8) input    \n",
    "    9) intergenic_consequences    \n",
    "    10) most_severe_consequence    \n",
    "    11) motif_feature_consequences    \n",
    "    12) regulatory_feature_consequences    \n",
    "    13) seq_region_name : chromosome   \n",
    "    14) nearest : Identifier(s)(Ensembl) of nearest transcription start site  \n",
    "    15) start : start position of variant   \n",
    "    16) strand : the DNA strand (1 or -1) on which the transcript/feature lies   \n",
    "    17) transcript_consequences    \n",
    "    18) variant_class : variant type   \n",
    "\n",
    "### Column fields  \n",
    "* s : sample name  \n",
    "\n",
    "### Entry fields    \n",
    "1. AD : unfiltered allelic depths for the ref and alt alleles in the order listed     \n",
    "2. DP : read depth at this position for this sample / 'DP' in row is reads depth at this position for all samples    \n",
    "3. GQ : conditional genotype quality, encoded as a phred quality −10log10 p(genotype call is wrong, conditioned on the site’s being variant)    \n",
    "4. GT : genotype  \n",
    "5. MIN_DP : Minimum DP observed within the GVCF block  \n",
    "6. PGT : Physical phasing haplotype information, describing how the alternate alleles are phased in relation to one another  \n",
    "7. PID : Physical phasing ID information, where each unique ID within a given sample (but not across samples) connects records within a phasing group  \n",
    "8. PL : Normalized, Phred-scaled likelihoods for genotypes as defined in the VCF specification  \n",
    "9. PS : phase set, defined as a set of phased genotypes to which this genotype belongs  \n",
    "10. RGQ : Unconditional reference genotype confidence, encoded as a phred quality -10*log10 p(genotype call is wrong)  \n",
    "11. SB : Per-sample component statistics which comprise the Fisher's Exact Test to detect strand bias   \n"
   ]
  },
  {
   "cell_type": "code",
   "execution_count": null,
   "id": "e3a8ee19",
   "metadata": {},
   "outputs": [],
   "source": [
    "fam = hl.import_fam(\"./data/CODA_0322.fam\")\n",
    "fam.describe(widget=True)"
   ]
  },
  {
   "cell_type": "code",
   "execution_count": null,
   "id": "b4152ffc",
   "metadata": {
    "scrolled": true
   },
   "outputs": [],
   "source": [
    "fam.show()\n",
    "fam.count()"
   ]
  },
  {
   "cell_type": "markdown",
   "id": "d65e9eb5",
   "metadata": {},
   "source": [
    "## Fam data description\n",
    "* PLINK sample information file  \n",
    "* hail.methods.import_fam(path, quant_pheno=False, delimiter='\\\\\\\\s+', missing='NA')  \n",
    "\n",
    "### Fields\n",
    "1. id : sample ID, key column  \n",
    "2. fam_id : Family ID(missing = \"0\")   \n",
    "3. pat_id : Paternal ID(missing = \"0\")  \n",
    "4. mat_id : Maternal ID(missing = \"0\")   \n",
    "5. is_female : Sex(missing = \"NA\", \"-9\", \"0\")  \n",
    "6. is_case : Case-control phenotype(missing = \"-9\", \"0\", non-numeric or the missing argument, if given.)  \n",
    "7. quant_pheno : Quantitative phenotype (missing = “NA” or the missing argument, if given.)  "
   ]
  },
  {
   "cell_type": "code",
   "execution_count": null,
   "id": "44a4ac37",
   "metadata": {},
   "outputs": [],
   "source": [
    "print(fam.aggregate(hl.agg.counter(fam.is_case)))\n",
    "print(fam.aggregate(hl.agg.counter(fam.is_female)))"
   ]
  },
  {
   "cell_type": "code",
   "execution_count": null,
   "id": "510e18a2",
   "metadata": {},
   "outputs": [],
   "source": [
    "fam.aggregate(hl.agg.counter(fam.is_female & fam.is_case))"
   ]
  },
  {
   "cell_type": "code",
   "execution_count": null,
   "id": "2b21d956",
   "metadata": {},
   "outputs": [],
   "source": [
    "import numpy as np"
   ]
  },
  {
   "cell_type": "code",
   "execution_count": null,
   "id": "04c21c39",
   "metadata": {},
   "outputs": [],
   "source": [
    "filt_fam = fam.filter(fam.is_female==0)\n",
    "filt_fam.aggregate(hl.agg.counter(filt_fam.is_case))"
   ]
  },
  {
   "cell_type": "code",
   "execution_count": null,
   "id": "7bba01c3",
   "metadata": {},
   "outputs": [],
   "source": [
    "filt_fam.show()"
   ]
  }
 ],
 "metadata": {
  "kernelspec": {
   "display_name": "Python 3 (ipykernel)",
   "language": "python",
   "name": "python3"
  },
  "language_info": {
   "codemirror_mode": {
    "name": "ipython",
    "version": 3
   },
   "file_extension": ".py",
   "mimetype": "text/x-python",
   "name": "python",
   "nbconvert_exporter": "python",
   "pygments_lexer": "ipython3",
   "version": "3.7.11"
  }
 },
 "nbformat": 4,
 "nbformat_minor": 5
}
