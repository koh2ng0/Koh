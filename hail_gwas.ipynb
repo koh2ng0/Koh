{
 "cells": [
  {
   "cell_type": "markdown",
   "id": "0d66f89f",
   "metadata": {},
   "source": [
    "# Hail tutorials - (1) GWAS tutorial"
   ]
  },
  {
   "cell_type": "markdown",
   "id": "fea78424",
   "metadata": {},
   "source": [
    "## Import hail and required other libraries"
   ]
  },
  {
   "cell_type": "code",
   "execution_count": 1,
   "id": "e56c71fd",
   "metadata": {
    "scrolled": true
   },
   "outputs": [
    {
     "name": "stdout",
     "output_type": "stream",
     "text": [
      "2021-09-24 03:14:09 WARN  Utils:66 - Your hostname, 인경쓰그램 resolves to a loopback address: 127.0.1.1; using 192.168.0.51 instead (on interface wifi0)\n",
      "2021-09-24 03:14:09 WARN  Utils:66 - Set SPARK_LOCAL_IP if you need to bind to another address\n",
      "2021-09-24 03:14:10 WARN  NativeCodeLoader:62 - Unable to load native-hadoop library for your platform... using builtin-java classes where applicable\n"
     ]
    },
    {
     "name": "stderr",
     "output_type": "stream",
     "text": [
      "Setting default log level to \"WARN\".\n",
      "To adjust logging level use sc.setLogLevel(newLevel). For SparkR, use setLogLevel(newLevel).\n"
     ]
    },
    {
     "name": "stdout",
     "output_type": "stream",
     "text": [
      "2021-09-24 03:14:12 WARN  Hail:37 - This Hail JAR was compiled for Spark 2.4.5, running with Spark 2.4.1.\n",
      "  Compatibility is not guaranteed.\n"
     ]
    },
    {
     "name": "stderr",
     "output_type": "stream",
     "text": [
      "Running on Apache Spark version 2.4.1\n",
      "SparkUI available at http://192.168.0.51:4040\n",
      "Welcome to\n",
      "     __  __     <>__\n",
      "    / /_/ /__  __/ /\n",
      "   / __  / _ `/ / /\n",
      "  /_/ /_/\\_,_/_/_/   version 0.2.61-3c86d3ba497a\n",
      "LOGGING: writing to /home/koh/hail/hail-20210924-0313-0.2.61-3c86d3ba497a.log\n"
     ]
    },
    {
     "data": {
      "text/html": [
       "\n",
       "    <div class=\"bk-root\">\n",
       "        <a href=\"https://bokeh.pydata.org\" target=\"_blank\" class=\"bk-logo bk-logo-small bk-logo-notebook\"></a>\n",
       "        <span id=\"1001\">Loading BokehJS ...</span>\n",
       "    </div>"
      ]
     },
     "metadata": {},
     "output_type": "display_data"
    },
    {
     "data": {
      "application/javascript": [
       "\n",
       "(function(root) {\n",
       "  function now() {\n",
       "    return new Date();\n",
       "  }\n",
       "\n",
       "  var force = true;\n",
       "\n",
       "  if (typeof root._bokeh_onload_callbacks === \"undefined\" || force === true) {\n",
       "    root._bokeh_onload_callbacks = [];\n",
       "    root._bokeh_is_loading = undefined;\n",
       "  }\n",
       "\n",
       "  var JS_MIME_TYPE = 'application/javascript';\n",
       "  var HTML_MIME_TYPE = 'text/html';\n",
       "  var EXEC_MIME_TYPE = 'application/vnd.bokehjs_exec.v0+json';\n",
       "  var CLASS_NAME = 'output_bokeh rendered_html';\n",
       "\n",
       "  /**\n",
       "   * Render data to the DOM node\n",
       "   */\n",
       "  function render(props, node) {\n",
       "    var script = document.createElement(\"script\");\n",
       "    node.appendChild(script);\n",
       "  }\n",
       "\n",
       "  /**\n",
       "   * Handle when an output is cleared or removed\n",
       "   */\n",
       "  function handleClearOutput(event, handle) {\n",
       "    var cell = handle.cell;\n",
       "\n",
       "    var id = cell.output_area._bokeh_element_id;\n",
       "    var server_id = cell.output_area._bokeh_server_id;\n",
       "    // Clean up Bokeh references\n",
       "    if (id != null && id in Bokeh.index) {\n",
       "      Bokeh.index[id].model.document.clear();\n",
       "      delete Bokeh.index[id];\n",
       "    }\n",
       "\n",
       "    if (server_id !== undefined) {\n",
       "      // Clean up Bokeh references\n",
       "      var cmd = \"from bokeh.io.state import curstate; print(curstate().uuid_to_server['\" + server_id + \"'].get_sessions()[0].document.roots[0]._id)\";\n",
       "      cell.notebook.kernel.execute(cmd, {\n",
       "        iopub: {\n",
       "          output: function(msg) {\n",
       "            var id = msg.content.text.trim();\n",
       "            if (id in Bokeh.index) {\n",
       "              Bokeh.index[id].model.document.clear();\n",
       "              delete Bokeh.index[id];\n",
       "            }\n",
       "          }\n",
       "        }\n",
       "      });\n",
       "      // Destroy server and session\n",
       "      var cmd = \"import bokeh.io.notebook as ion; ion.destroy_server('\" + server_id + \"')\";\n",
       "      cell.notebook.kernel.execute(cmd);\n",
       "    }\n",
       "  }\n",
       "\n",
       "  /**\n",
       "   * Handle when a new output is added\n",
       "   */\n",
       "  function handleAddOutput(event, handle) {\n",
       "    var output_area = handle.output_area;\n",
       "    var output = handle.output;\n",
       "\n",
       "    // limit handleAddOutput to display_data with EXEC_MIME_TYPE content only\n",
       "    if ((output.output_type != \"display_data\") || (!output.data.hasOwnProperty(EXEC_MIME_TYPE))) {\n",
       "      return\n",
       "    }\n",
       "\n",
       "    var toinsert = output_area.element.find(\".\" + CLASS_NAME.split(' ')[0]);\n",
       "\n",
       "    if (output.metadata[EXEC_MIME_TYPE][\"id\"] !== undefined) {\n",
       "      toinsert[toinsert.length - 1].firstChild.textContent = output.data[JS_MIME_TYPE];\n",
       "      // store reference to embed id on output_area\n",
       "      output_area._bokeh_element_id = output.metadata[EXEC_MIME_TYPE][\"id\"];\n",
       "    }\n",
       "    if (output.metadata[EXEC_MIME_TYPE][\"server_id\"] !== undefined) {\n",
       "      var bk_div = document.createElement(\"div\");\n",
       "      bk_div.innerHTML = output.data[HTML_MIME_TYPE];\n",
       "      var script_attrs = bk_div.children[0].attributes;\n",
       "      for (var i = 0; i < script_attrs.length; i++) {\n",
       "        toinsert[toinsert.length - 1].firstChild.setAttribute(script_attrs[i].name, script_attrs[i].value);\n",
       "      }\n",
       "      // store reference to server id on output_area\n",
       "      output_area._bokeh_server_id = output.metadata[EXEC_MIME_TYPE][\"server_id\"];\n",
       "    }\n",
       "  }\n",
       "\n",
       "  function register_renderer(events, OutputArea) {\n",
       "\n",
       "    function append_mime(data, metadata, element) {\n",
       "      // create a DOM node to render to\n",
       "      var toinsert = this.create_output_subarea(\n",
       "        metadata,\n",
       "        CLASS_NAME,\n",
       "        EXEC_MIME_TYPE\n",
       "      );\n",
       "      this.keyboard_manager.register_events(toinsert);\n",
       "      // Render to node\n",
       "      var props = {data: data, metadata: metadata[EXEC_MIME_TYPE]};\n",
       "      render(props, toinsert[toinsert.length - 1]);\n",
       "      element.append(toinsert);\n",
       "      return toinsert\n",
       "    }\n",
       "\n",
       "    /* Handle when an output is cleared or removed */\n",
       "    events.on('clear_output.CodeCell', handleClearOutput);\n",
       "    events.on('delete.Cell', handleClearOutput);\n",
       "\n",
       "    /* Handle when a new output is added */\n",
       "    events.on('output_added.OutputArea', handleAddOutput);\n",
       "\n",
       "    /**\n",
       "     * Register the mime type and append_mime function with output_area\n",
       "     */\n",
       "    OutputArea.prototype.register_mime_type(EXEC_MIME_TYPE, append_mime, {\n",
       "      /* Is output safe? */\n",
       "      safe: true,\n",
       "      /* Index of renderer in `output_area.display_order` */\n",
       "      index: 0\n",
       "    });\n",
       "  }\n",
       "\n",
       "  // register the mime type if in Jupyter Notebook environment and previously unregistered\n",
       "  if (root.Jupyter !== undefined) {\n",
       "    var events = require('base/js/events');\n",
       "    var OutputArea = require('notebook/js/outputarea').OutputArea;\n",
       "\n",
       "    if (OutputArea.prototype.mime_types().indexOf(EXEC_MIME_TYPE) == -1) {\n",
       "      register_renderer(events, OutputArea);\n",
       "    }\n",
       "  }\n",
       "\n",
       "  \n",
       "  if (typeof (root._bokeh_timeout) === \"undefined\" || force === true) {\n",
       "    root._bokeh_timeout = Date.now() + 5000;\n",
       "    root._bokeh_failed_load = false;\n",
       "  }\n",
       "\n",
       "  var NB_LOAD_WARNING = {'data': {'text/html':\n",
       "     \"<div style='background-color: #fdd'>\\n\"+\n",
       "     \"<p>\\n\"+\n",
       "     \"BokehJS does not appear to have successfully loaded. If loading BokehJS from CDN, this \\n\"+\n",
       "     \"may be due to a slow or bad network connection. Possible fixes:\\n\"+\n",
       "     \"</p>\\n\"+\n",
       "     \"<ul>\\n\"+\n",
       "     \"<li>re-rerun `output_notebook()` to attempt to load from CDN again, or</li>\\n\"+\n",
       "     \"<li>use INLINE resources instead, as so:</li>\\n\"+\n",
       "     \"</ul>\\n\"+\n",
       "     \"<code>\\n\"+\n",
       "     \"from bokeh.resources import INLINE\\n\"+\n",
       "     \"output_notebook(resources=INLINE)\\n\"+\n",
       "     \"</code>\\n\"+\n",
       "     \"</div>\"}};\n",
       "\n",
       "  function display_loaded() {\n",
       "    var el = document.getElementById(\"1001\");\n",
       "    if (el != null) {\n",
       "      el.textContent = \"BokehJS is loading...\";\n",
       "    }\n",
       "    if (root.Bokeh !== undefined) {\n",
       "      if (el != null) {\n",
       "        el.textContent = \"BokehJS \" + root.Bokeh.version + \" successfully loaded.\";\n",
       "      }\n",
       "    } else if (Date.now() < root._bokeh_timeout) {\n",
       "      setTimeout(display_loaded, 100)\n",
       "    }\n",
       "  }\n",
       "\n",
       "\n",
       "  function run_callbacks() {\n",
       "    try {\n",
       "      root._bokeh_onload_callbacks.forEach(function(callback) {\n",
       "        if (callback != null)\n",
       "          callback();\n",
       "      });\n",
       "    } finally {\n",
       "      delete root._bokeh_onload_callbacks\n",
       "    }\n",
       "    console.debug(\"Bokeh: all callbacks have finished\");\n",
       "  }\n",
       "\n",
       "  function load_libs(css_urls, js_urls, callback) {\n",
       "    if (css_urls == null) css_urls = [];\n",
       "    if (js_urls == null) js_urls = [];\n",
       "\n",
       "    root._bokeh_onload_callbacks.push(callback);\n",
       "    if (root._bokeh_is_loading > 0) {\n",
       "      console.debug(\"Bokeh: BokehJS is being loaded, scheduling callback at\", now());\n",
       "      return null;\n",
       "    }\n",
       "    if (js_urls == null || js_urls.length === 0) {\n",
       "      run_callbacks();\n",
       "      return null;\n",
       "    }\n",
       "    console.debug(\"Bokeh: BokehJS not loaded, scheduling load and callback at\", now());\n",
       "    root._bokeh_is_loading = css_urls.length + js_urls.length;\n",
       "\n",
       "    function on_load() {\n",
       "      root._bokeh_is_loading--;\n",
       "      if (root._bokeh_is_loading === 0) {\n",
       "        console.debug(\"Bokeh: all BokehJS libraries/stylesheets loaded\");\n",
       "        run_callbacks()\n",
       "      }\n",
       "    }\n",
       "\n",
       "    function on_error() {\n",
       "      console.error(\"failed to load \" + url);\n",
       "    }\n",
       "\n",
       "    for (var i = 0; i < css_urls.length; i++) {\n",
       "      var url = css_urls[i];\n",
       "      const element = document.createElement(\"link\");\n",
       "      element.onload = on_load;\n",
       "      element.onerror = on_error;\n",
       "      element.rel = \"stylesheet\";\n",
       "      element.type = \"text/css\";\n",
       "      element.href = url;\n",
       "      console.debug(\"Bokeh: injecting link tag for BokehJS stylesheet: \", url);\n",
       "      document.body.appendChild(element);\n",
       "    }\n",
       "\n",
       "    for (var i = 0; i < js_urls.length; i++) {\n",
       "      var url = js_urls[i];\n",
       "      var element = document.createElement('script');\n",
       "      element.onload = on_load;\n",
       "      element.onerror = on_error;\n",
       "      element.async = false;\n",
       "      element.src = url;\n",
       "      console.debug(\"Bokeh: injecting script tag for BokehJS library: \", url);\n",
       "      document.head.appendChild(element);\n",
       "    }\n",
       "  };var element = document.getElementById(\"1001\");\n",
       "  if (element == null) {\n",
       "    console.error(\"Bokeh: ERROR: autoload.js configured with elementid '1001' but no matching script tag was found. \")\n",
       "    return false;\n",
       "  }\n",
       "\n",
       "  function inject_raw_css(css) {\n",
       "    const element = document.createElement(\"style\");\n",
       "    element.appendChild(document.createTextNode(css));\n",
       "    document.body.appendChild(element);\n",
       "  }\n",
       "\n",
       "  var js_urls = [\"https://cdn.pydata.org/bokeh/release/bokeh-1.2.0.min.js\", \"https://cdn.pydata.org/bokeh/release/bokeh-widgets-1.2.0.min.js\", \"https://cdn.pydata.org/bokeh/release/bokeh-tables-1.2.0.min.js\", \"https://cdn.pydata.org/bokeh/release/bokeh-gl-1.2.0.min.js\"];\n",
       "  var css_urls = [\"https://cdn.pydata.org/bokeh/release/bokeh-1.2.0.min.css\", \"https://cdn.pydata.org/bokeh/release/bokeh-widgets-1.2.0.min.css\", \"https://cdn.pydata.org/bokeh/release/bokeh-tables-1.2.0.min.css\"];\n",
       "\n",
       "  var inline_js = [\n",
       "    function(Bokeh) {\n",
       "      Bokeh.set_log_level(\"info\");\n",
       "    },\n",
       "    \n",
       "    function(Bokeh) {\n",
       "      \n",
       "    },\n",
       "    function(Bokeh) {} // ensure no trailing comma for IE\n",
       "  ];\n",
       "\n",
       "  function run_inline_js() {\n",
       "    \n",
       "    if ((root.Bokeh !== undefined) || (force === true)) {\n",
       "      for (var i = 0; i < inline_js.length; i++) {\n",
       "        inline_js[i].call(root, root.Bokeh);\n",
       "      }if (force === true) {\n",
       "        display_loaded();\n",
       "      }} else if (Date.now() < root._bokeh_timeout) {\n",
       "      setTimeout(run_inline_js, 100);\n",
       "    } else if (!root._bokeh_failed_load) {\n",
       "      console.log(\"Bokeh: BokehJS failed to load within specified timeout.\");\n",
       "      root._bokeh_failed_load = true;\n",
       "    } else if (force !== true) {\n",
       "      var cell = $(document.getElementById(\"1001\")).parents('.cell').data().cell;\n",
       "      cell.output_area.append_execute_result(NB_LOAD_WARNING)\n",
       "    }\n",
       "\n",
       "  }\n",
       "\n",
       "  if (root._bokeh_is_loading === 0) {\n",
       "    console.debug(\"Bokeh: BokehJS loaded, going straight to plotting\");\n",
       "    run_inline_js();\n",
       "  } else {\n",
       "    load_libs(css_urls, js_urls, function() {\n",
       "      console.debug(\"Bokeh: BokehJS plotting callback run at\", now());\n",
       "      run_inline_js();\n",
       "    });\n",
       "  }\n",
       "}(window));"
      ],
      "application/vnd.bokehjs_load.v0+json": "\n(function(root) {\n  function now() {\n    return new Date();\n  }\n\n  var force = true;\n\n  if (typeof root._bokeh_onload_callbacks === \"undefined\" || force === true) {\n    root._bokeh_onload_callbacks = [];\n    root._bokeh_is_loading = undefined;\n  }\n\n  \n\n  \n  if (typeof (root._bokeh_timeout) === \"undefined\" || force === true) {\n    root._bokeh_timeout = Date.now() + 5000;\n    root._bokeh_failed_load = false;\n  }\n\n  var NB_LOAD_WARNING = {'data': {'text/html':\n     \"<div style='background-color: #fdd'>\\n\"+\n     \"<p>\\n\"+\n     \"BokehJS does not appear to have successfully loaded. If loading BokehJS from CDN, this \\n\"+\n     \"may be due to a slow or bad network connection. Possible fixes:\\n\"+\n     \"</p>\\n\"+\n     \"<ul>\\n\"+\n     \"<li>re-rerun `output_notebook()` to attempt to load from CDN again, or</li>\\n\"+\n     \"<li>use INLINE resources instead, as so:</li>\\n\"+\n     \"</ul>\\n\"+\n     \"<code>\\n\"+\n     \"from bokeh.resources import INLINE\\n\"+\n     \"output_notebook(resources=INLINE)\\n\"+\n     \"</code>\\n\"+\n     \"</div>\"}};\n\n  function display_loaded() {\n    var el = document.getElementById(\"1001\");\n    if (el != null) {\n      el.textContent = \"BokehJS is loading...\";\n    }\n    if (root.Bokeh !== undefined) {\n      if (el != null) {\n        el.textContent = \"BokehJS \" + root.Bokeh.version + \" successfully loaded.\";\n      }\n    } else if (Date.now() < root._bokeh_timeout) {\n      setTimeout(display_loaded, 100)\n    }\n  }\n\n\n  function run_callbacks() {\n    try {\n      root._bokeh_onload_callbacks.forEach(function(callback) {\n        if (callback != null)\n          callback();\n      });\n    } finally {\n      delete root._bokeh_onload_callbacks\n    }\n    console.debug(\"Bokeh: all callbacks have finished\");\n  }\n\n  function load_libs(css_urls, js_urls, callback) {\n    if (css_urls == null) css_urls = [];\n    if (js_urls == null) js_urls = [];\n\n    root._bokeh_onload_callbacks.push(callback);\n    if (root._bokeh_is_loading > 0) {\n      console.debug(\"Bokeh: BokehJS is being loaded, scheduling callback at\", now());\n      return null;\n    }\n    if (js_urls == null || js_urls.length === 0) {\n      run_callbacks();\n      return null;\n    }\n    console.debug(\"Bokeh: BokehJS not loaded, scheduling load and callback at\", now());\n    root._bokeh_is_loading = css_urls.length + js_urls.length;\n\n    function on_load() {\n      root._bokeh_is_loading--;\n      if (root._bokeh_is_loading === 0) {\n        console.debug(\"Bokeh: all BokehJS libraries/stylesheets loaded\");\n        run_callbacks()\n      }\n    }\n\n    function on_error() {\n      console.error(\"failed to load \" + url);\n    }\n\n    for (var i = 0; i < css_urls.length; i++) {\n      var url = css_urls[i];\n      const element = document.createElement(\"link\");\n      element.onload = on_load;\n      element.onerror = on_error;\n      element.rel = \"stylesheet\";\n      element.type = \"text/css\";\n      element.href = url;\n      console.debug(\"Bokeh: injecting link tag for BokehJS stylesheet: \", url);\n      document.body.appendChild(element);\n    }\n\n    for (var i = 0; i < js_urls.length; i++) {\n      var url = js_urls[i];\n      var element = document.createElement('script');\n      element.onload = on_load;\n      element.onerror = on_error;\n      element.async = false;\n      element.src = url;\n      console.debug(\"Bokeh: injecting script tag for BokehJS library: \", url);\n      document.head.appendChild(element);\n    }\n  };var element = document.getElementById(\"1001\");\n  if (element == null) {\n    console.error(\"Bokeh: ERROR: autoload.js configured with elementid '1001' but no matching script tag was found. \")\n    return false;\n  }\n\n  function inject_raw_css(css) {\n    const element = document.createElement(\"style\");\n    element.appendChild(document.createTextNode(css));\n    document.body.appendChild(element);\n  }\n\n  var js_urls = [\"https://cdn.pydata.org/bokeh/release/bokeh-1.2.0.min.js\", \"https://cdn.pydata.org/bokeh/release/bokeh-widgets-1.2.0.min.js\", \"https://cdn.pydata.org/bokeh/release/bokeh-tables-1.2.0.min.js\", \"https://cdn.pydata.org/bokeh/release/bokeh-gl-1.2.0.min.js\"];\n  var css_urls = [\"https://cdn.pydata.org/bokeh/release/bokeh-1.2.0.min.css\", \"https://cdn.pydata.org/bokeh/release/bokeh-widgets-1.2.0.min.css\", \"https://cdn.pydata.org/bokeh/release/bokeh-tables-1.2.0.min.css\"];\n\n  var inline_js = [\n    function(Bokeh) {\n      Bokeh.set_log_level(\"info\");\n    },\n    \n    function(Bokeh) {\n      \n    },\n    function(Bokeh) {} // ensure no trailing comma for IE\n  ];\n\n  function run_inline_js() {\n    \n    if ((root.Bokeh !== undefined) || (force === true)) {\n      for (var i = 0; i < inline_js.length; i++) {\n        inline_js[i].call(root, root.Bokeh);\n      }if (force === true) {\n        display_loaded();\n      }} else if (Date.now() < root._bokeh_timeout) {\n      setTimeout(run_inline_js, 100);\n    } else if (!root._bokeh_failed_load) {\n      console.log(\"Bokeh: BokehJS failed to load within specified timeout.\");\n      root._bokeh_failed_load = true;\n    } else if (force !== true) {\n      var cell = $(document.getElementById(\"1001\")).parents('.cell').data().cell;\n      cell.output_area.append_execute_result(NB_LOAD_WARNING)\n    }\n\n  }\n\n  if (root._bokeh_is_loading === 0) {\n    console.debug(\"Bokeh: BokehJS loaded, going straight to plotting\");\n    run_inline_js();\n  } else {\n    load_libs(css_urls, js_urls, function() {\n      console.debug(\"Bokeh: BokehJS plotting callback run at\", now());\n      run_inline_js();\n    });\n  }\n}(window));"
     },
     "metadata": {},
     "output_type": "display_data"
    }
   ],
   "source": [
    "import hail as hl\n",
    "#import python libraries needed\n",
    "from hail.plot import show\n",
    "from pprint import pprint # 'pprint' is pretty print, just for printing output well\n",
    "hl.init() #initialize hail\n",
    "hl.plot.output_notebook() #configure the Bokeh output state to generate output in notebook cells"
   ]
  },
  {
   "cell_type": "code",
   "execution_count": 2,
   "id": "043ee03c",
   "metadata": {},
   "outputs": [
    {
     "data": {
      "text/html": [
       "\n",
       "        <div>\n",
       "            <p><b>SparkContext</b></p>\n",
       "\n",
       "            <p><a href=\"http://192.168.0.51:4040\">Spark UI</a></p>\n",
       "\n",
       "            <dl>\n",
       "              <dt>Version</dt>\n",
       "                <dd><code>v2.4.1</code></dd>\n",
       "              <dt>Master</dt>\n",
       "                <dd><code>local[*]</code></dd>\n",
       "              <dt>AppName</dt>\n",
       "                <dd><code>pyspark-shell</code></dd>\n",
       "            </dl>\n",
       "        </div>\n",
       "        "
      ],
      "text/plain": [
       "<SparkContext master=local[*] appName=pyspark-shell>"
      ]
     },
     "execution_count": 2,
     "metadata": {},
     "output_type": "execute_result"
    }
   ],
   "source": [
    "hl.spark_context()"
   ]
  },
  {
   "cell_type": "markdown",
   "id": "56e5203b",
   "metadata": {},
   "source": [
    "## Download data and Import from VCF"
   ]
  },
  {
   "cell_type": "code",
   "execution_count": 3,
   "id": "ef8d8f96",
   "metadata": {},
   "outputs": [
    {
     "name": "stderr",
     "output_type": "stream",
     "text": [
      "2021-09-24 03:14:24 Hail: INFO: 1KG files found\n"
     ]
    }
   ],
   "source": [
    "hl.utils.get_1kg('data/') #download data from 1000 Genome project"
   ]
  },
  {
   "cell_type": "code",
   "execution_count": 4,
   "id": "cae430f9",
   "metadata": {},
   "outputs": [
    {
     "name": "stderr",
     "output_type": "stream",
     "text": [
      "[Stage 0:>                                                          (0 + 1) / 1]2021-09-24 03:14:33 Hail: INFO: Coerced sorted dataset\n",
      "[Stage 1:>                                                          (0 + 1) / 1]2021-09-24 03:14:45 Hail: INFO: wrote matrix table with 10879 rows and 284 columns in 1 partition to data/1kg.mt\n",
      "    Total size: 16.09 MiB\n",
      "    * Rows/entries: 16.09 MiB\n",
      "    * Columns: 1.31 KiB\n",
      "    * Globals: 11.00 B\n",
      "    * Smallest partition: 10879 rows (16.09 MiB)\n",
      "    * Largest partition:  10879 rows (16.09 MiB)\n"
     ]
    }
   ],
   "source": [
    "hl.import_vcf('data/1kg.vcf.bgz').write('data/1kg.mt', overwrite=True) #import data from vcf and write to Hail MatrixTable"
   ]
  },
  {
   "cell_type": "markdown",
   "id": "d7494082",
   "metadata": {},
   "source": [
    "## Expore the data"
   ]
  },
  {
   "cell_type": "code",
   "execution_count": 5,
   "id": "cd92ecee",
   "metadata": {
    "scrolled": true
   },
   "outputs": [
    {
     "data": {
      "application/vnd.jupyter.widget-view+json": {
       "model_id": "7f420c752594453e93ef0784f3c11730",
       "version_major": 2,
       "version_minor": 0
      },
      "text/plain": [
       "VBox(children=(HBox(children=(Button(description='globals', layout=Layout(height='30px', width='65px'), style=…"
      ]
     },
     "metadata": {},
     "output_type": "display_data"
    },
    {
     "data": {
      "application/vnd.jupyter.widget-view+json": {
       "model_id": "adf08bf616ba4b1eaa98b34479191b01",
       "version_major": 2,
       "version_minor": 0
      },
      "text/plain": [
       "Tab(children=(VBox(children=(HTML(value='<p><big>Global fields, with one value in the dataset.</big></p>\\n<p>C…"
      ]
     },
     "metadata": {},
     "output_type": "display_data"
    }
   ],
   "source": [
    "mt = hl.read_matrix_table('data/1kg.mt') # read the data as MatrixTable\n",
    "mt.describe(widget=True)"
   ]
  },
  {
   "cell_type": "code",
   "execution_count": 6,
   "id": "710b6304",
   "metadata": {},
   "outputs": [
    {
     "name": "stderr",
     "output_type": "stream",
     "text": [
      "2021-09-24 03:14:55 Hail: INFO: Coerced sorted dataset\n"
     ]
    },
    {
     "data": {
      "text/html": [
       "<h3>Columns</h3><p>284 records.</p><ul><li><b>s</b> (<i>str</i>):<ul><table><tbody><tr><td>Non-missing</td><td>284 (100.00%)</td></tr><tr><td>Missing</td><td>0</td></tr><tr><td>Min Size</td><td>7</td></tr><tr><td>Max Size</td><td>7</td></tr><tr><td>Mean Size</td><td>7.00</td></tr><tr><td>Sample Values</td><td>[&#x27;HG00096&#x27;, &#x27;HG00099&#x27;, &#x27;HG00105&#x27;, &#x27;HG00118&#x27;, &#x27;HG00129&#x27;]</td></tr></tbody></table></ul></li></ul>"
      ],
      "text/plain": [
       "Columns\n",
       "======\n",
       "284 records.\n",
       "\n",
       "  - s (str):\n",
       "      Non-missing: 284 (100.00%)\n",
       "          Missing: 0\n",
       "         Min Size: 7\n",
       "         Max Size: 7\n",
       "        Mean Size: 7.00\n",
       "    Sample Values: ['HG00096', 'HG00099', 'HG00105', 'HG00118', 'HG00129']"
      ]
     },
     "metadata": {},
     "output_type": "display_data"
    },
    {
     "name": "stderr",
     "output_type": "stream",
     "text": [
      "\r",
      "[Stage 4:>                                                          (0 + 1) / 1]"
     ]
    },
    {
     "data": {
      "text/html": [
       "<h3>Rows</h3><p>10879 records.</p><ul><li><b>locus</b> (<i>locus&lt;GRCh37&gt;</i>):<ul><table><tbody><tr><td>Non-missing</td><td>10879 (100.00%)</td></tr><tr><td>Missing</td><td>0</td></tr><tr><td>Contig Counts</td><td>{&#x27;X&#x27;: 273, &#x27;12&#x27;: 566, &#x27;8&#x27;: 510, &#x27;19&#x27;: 342, &#x27;4&#x27;: 640, &#x27;15&#x27;: 342, &#x27;11&#x27;: 570, &#x27;9&#x27;: 416, &#x27;22&#x27;: 170, &#x27;13&#x27;: 336, &#x27;16&#x27;: 382, &#x27;5&#x27;: 647, &#x27;10&#x27;: 532, &#x27;21&#x27;: 151, &#x27;6&#x27;: 674, &#x27;1&#x27;: 909, &#x27;17&#x27;: 347, &#x27;14&#x27;: 337, &#x27;20&#x27;: 312, &#x27;2&#x27;: 844, &#x27;18&#x27;: 298, &#x27;7&#x27;: 543, &#x27;3&#x27;: 738}</td></tr></tbody></table></ul></li><li><b>alleles</b> (<i>array&lt;str&gt;</i>):<ul><table><tbody><tr><td>Non-missing</td><td>10879 (100.00%)</td></tr><tr><td>Missing</td><td>0</td></tr><tr><td>Min Size</td><td>2</td></tr><tr><td>Max Size</td><td>2</td></tr><tr><td>Mean Size</td><td>2.00</td></tr></tbody></table><li><b>alleles[&lt;elements&gt;]</b> (<i>str</i>):<ul><table><tbody><tr><td>Non-missing</td><td>21758 (100.00%)</td></tr><tr><td>Missing</td><td>0</td></tr><tr><td>Min Size</td><td>1</td></tr><tr><td>Max Size</td><td>1</td></tr><tr><td>Mean Size</td><td>1.00</td></tr><tr><td>Sample Values</td><td>[&#x27;G&#x27;, &#x27;A&#x27;, &#x27;G&#x27;, &#x27;A&#x27;, &#x27;C&#x27;]</td></tr></tbody></table></ul></li></ul></li><li><b>rsid</b> (<i>str</i>):<ul><table><tbody><tr><td>Non-missing</td><td>0</td></tr><tr><td>Missing</td><td>10879 (100.00%)</td></tr></tbody></table></ul></li><li><b>qual</b> (<i>float64</i>):<ul><table><tbody><tr><td>Non-missing</td><td>10879 (100.00%)</td></tr><tr><td>Missing</td><td>0</td></tr><tr><td>Minimum</td><td>25.02</td></tr><tr><td>Maximum</td><td>1237211.62</td></tr><tr><td>Mean</td><td>176795.60</td></tr><tr><td>Std Dev</td><td>161120.76</td></tr></tbody></table></ul></li><li><b>filters</b> (<i>set&lt;str&gt;</i>):<ul><table><tbody><tr><td>Non-missing</td><td>0</td></tr><tr><td>Missing</td><td>10879 (100.00%)</td></tr></tbody></table></ul></li><li><b>info</b> (<i>struct with 18 fields</i>):<ul><table><tbody><tr><td>Non-missing</td><td>10879 (100.00%)</td></tr><tr><td>Missing</td><td>0</td></tr></tbody></table><li><b>info.AC</b> (<i>array&lt;int32&gt;</i>):<ul><table><tbody><tr><td>Non-missing</td><td>10879 (100.00%)</td></tr><tr><td>Missing</td><td>0</td></tr><tr><td>Min Size</td><td>1</td></tr><tr><td>Max Size</td><td>1</td></tr><tr><td>Mean Size</td><td>1.00</td></tr></tbody></table><li><b>info.AC[&lt;elements&gt;]</b> (<i>int32</i>):<ul><table><tbody><tr><td>Non-missing</td><td>10879 (100.00%)</td></tr><tr><td>Missing</td><td>0</td></tr><tr><td>Minimum</td><td>3</td></tr><tr><td>Maximum</td><td>5045</td></tr><tr><td>Mean</td><td>1551.28</td></tr><tr><td>Std Dev</td><td>1259.36</td></tr></tbody></table></ul></li></ul></li><li><b>info.AF</b> (<i>array&lt;float64&gt;</i>):<ul><table><tbody><tr><td>Non-missing</td><td>10879 (100.00%)</td></tr><tr><td>Missing</td><td>0</td></tr><tr><td>Min Size</td><td>1</td></tr><tr><td>Max Size</td><td>1</td></tr><tr><td>Mean Size</td><td>1.00</td></tr></tbody></table><li><b>info.AF[&lt;elements&gt;]</b> (<i>float64</i>):<ul><table><tbody><tr><td>Non-missing</td><td>10879 (100.00%)</td></tr><tr><td>Missing</td><td>0</td></tr><tr><td>Minimum</td><td>0.00</td></tr><tr><td>Maximum</td><td>1.00</td></tr><tr><td>Mean</td><td>0.31</td></tr><tr><td>Std Dev</td><td>0.25</td></tr></tbody></table></ul></li></ul></li><li><b>info.AN</b> (<i>int32</i>):<ul><table><tbody><tr><td>Non-missing</td><td>10879 (100.00%)</td></tr><tr><td>Missing</td><td>0</td></tr><tr><td>Minimum</td><td>2978</td></tr><tr><td>Maximum</td><td>5070</td></tr><tr><td>Mean</td><td>5002.93</td></tr><tr><td>Std Dev</td><td>97.77</td></tr></tbody></table></ul></li><li><b>info.BaseQRankSum</b> (<i>float64</i>):<ul><table><tbody><tr><td>Non-missing</td><td>10879 (100.00%)</td></tr><tr><td>Missing</td><td>0</td></tr><tr><td>Minimum</td><td>-76.54</td></tr><tr><td>Maximum</td><td>78.69</td></tr><tr><td>Mean</td><td>-0.09</td></tr><tr><td>Std Dev</td><td>24.45</td></tr></tbody></table></ul></li><li><b>info.ClippingRankSum</b> (<i>float64</i>):<ul><table><tbody><tr><td>Non-missing</td><td>10879 (100.00%)</td></tr><tr><td>Missing</td><td>0</td></tr><tr><td>Minimum</td><td>-41.69</td></tr><tr><td>Maximum</td><td>45.70</td></tr><tr><td>Mean</td><td>-2.97</td></tr><tr><td>Std Dev</td><td>6.80</td></tr></tbody></table></ul></li><li><b>info.DP</b> (<i>int32</i>):<ul><table><tbody><tr><td>Non-missing</td><td>10879 (100.00%)</td></tr><tr><td>Missing</td><td>0</td></tr><tr><td>Minimum</td><td>3665</td></tr><tr><td>Maximum</td><td>48876</td></tr><tr><td>Mean</td><td>17844.07</td></tr><tr><td>Std Dev</td><td>2499.58</td></tr></tbody></table></ul></li><li><b>info.DS</b> (<i>bool</i>):<ul><table><tbody><tr><td>Non-missing</td><td>10879 (100.00%)</td></tr><tr><td>Missing</td><td>0</td></tr><tr><td>Counts</td><td>{False: 10879}</td></tr></tbody></table></ul></li><li><b>info.FS</b> (<i>float64</i>):<ul><table><tbody><tr><td>Non-missing</td><td>10879 (100.00%)</td></tr><tr><td>Missing</td><td>0</td></tr><tr><td>Minimum</td><td>0.00</td></tr><tr><td>Maximum</td><td>3200.00</td></tr><tr><td>Mean</td><td>17.03</td></tr><tr><td>Std Dev</td><td>165.28</td></tr></tbody></table></ul></li><li><b>info.HaplotypeScore</b> (<i>float64</i>):<ul><table><tbody><tr><td>Non-missing</td><td>0</td></tr><tr><td>Missing</td><td>10879 (100.00%)</td></tr></tbody></table></ul></li><li><b>info.InbreedingCoeff</b> (<i>float64</i>):<ul><table><tbody><tr><td>Non-missing</td><td>10879 (100.00%)</td></tr><tr><td>Missing</td><td>0</td></tr><tr><td>Minimum</td><td>-0.42</td></tr><tr><td>Maximum</td><td>0.76</td></tr><tr><td>Mean</td><td>0.10</td></tr><tr><td>Std Dev</td><td>0.09</td></tr></tbody></table></ul></li><li><b>info.MLEAC</b> (<i>array&lt;int32&gt;</i>):<ul><table><tbody><tr><td>Non-missing</td><td>10879 (100.00%)</td></tr><tr><td>Missing</td><td>0</td></tr><tr><td>Min Size</td><td>1</td></tr><tr><td>Max Size</td><td>1</td></tr><tr><td>Mean Size</td><td>1.00</td></tr></tbody></table><li><b>info.MLEAC[&lt;elements&gt;]</b> (<i>int32</i>):<ul><table><tbody><tr><td>Non-missing</td><td>10879 (100.00%)</td></tr><tr><td>Missing</td><td>0</td></tr><tr><td>Minimum</td><td>2</td></tr><tr><td>Maximum</td><td>5046</td></tr><tr><td>Mean</td><td>1547.72</td></tr><tr><td>Std Dev</td><td>1264.94</td></tr></tbody></table></ul></li></ul></li><li><b>info.MLEAF</b> (<i>array&lt;float64&gt;</i>):<ul><table><tbody><tr><td>Non-missing</td><td>10879 (100.00%)</td></tr><tr><td>Missing</td><td>0</td></tr><tr><td>Min Size</td><td>1</td></tr><tr><td>Max Size</td><td>1</td></tr><tr><td>Mean Size</td><td>1.00</td></tr></tbody></table><li><b>info.MLEAF[&lt;elements&gt;]</b> (<i>float64</i>):<ul><table><tbody><tr><td>Non-missing</td><td>10879 (100.00%)</td></tr><tr><td>Missing</td><td>0</td></tr><tr><td>Minimum</td><td>0.00</td></tr><tr><td>Maximum</td><td>1.00</td></tr><tr><td>Mean</td><td>0.31</td></tr><tr><td>Std Dev</td><td>0.25</td></tr></tbody></table></ul></li></ul></li><li><b>info.MQ</b> (<i>float64</i>):<ul><table><tbody><tr><td>Non-missing</td><td>10879 (100.00%)</td></tr><tr><td>Missing</td><td>0</td></tr><tr><td>Minimum</td><td>22.09</td></tr><tr><td>Maximum</td><td>60.11</td></tr><tr><td>Mean</td><td>58.82</td></tr><tr><td>Std Dev</td><td>0.97</td></tr></tbody></table></ul></li><li><b>info.MQ0</b> (<i>int32</i>):<ul><table><tbody><tr><td>Non-missing</td><td>10879 (100.00%)</td></tr><tr><td>Missing</td><td>0</td></tr><tr><td>Minimum</td><td>0</td></tr><tr><td>Maximum</td><td>0</td></tr><tr><td>Mean</td><td>0.00</td></tr><tr><td>Std Dev</td><td>0.00</td></tr></tbody></table></ul></li><li><b>info.MQRankSum</b> (<i>float64</i>):<ul><table><tbody><tr><td>Non-missing</td><td>10879 (100.00%)</td></tr><tr><td>Missing</td><td>0</td></tr><tr><td>Minimum</td><td>-65.53</td></tr><tr><td>Maximum</td><td>38.73</td></tr><tr><td>Mean</td><td>3.64</td></tr><tr><td>Std Dev</td><td>6.14</td></tr></tbody></table></ul></li><li><b>info.QD</b> (<i>float64</i>):<ul><table><tbody><tr><td>Non-missing</td><td>10879 (100.00%)</td></tr><tr><td>Missing</td><td>0</td></tr><tr><td>Minimum</td><td>0.07</td></tr><tr><td>Maximum</td><td>37.87</td></tr><tr><td>Mean</td><td>18.18</td></tr><tr><td>Std Dev</td><td>6.22</td></tr></tbody></table></ul></li><li><b>info.ReadPosRankSum</b> (<i>float64</i>):<ul><table><tbody><tr><td>Non-missing</td><td>10879 (100.00%)</td></tr><tr><td>Missing</td><td>0</td></tr><tr><td>Minimum</td><td>-41.90</td></tr><tr><td>Maximum</td><td>40.03</td></tr><tr><td>Mean</td><td>1.58</td></tr><tr><td>Std Dev</td><td>3.62</td></tr></tbody></table></ul></li><li><b>info.set</b> (<i>str</i>):<ul><table><tbody><tr><td>Non-missing</td><td>0</td></tr><tr><td>Missing</td><td>10879 (100.00%)</td></tr></tbody></table></ul></li></ul></li></ul>"
      ],
      "text/plain": [
       "Rows\n",
       "======\n",
       "10879 records.\n",
       "\n",
       "  - locus (locus<GRCh37>):\n",
       "      Non-missing: 10879 (100.00%)\n",
       "          Missing: 0\n",
       "    Contig Counts: {'X': 273, '12': 566, '8': 510, '19': 342, '4': 640, '15': 342, '11': 570, '9': 416, '22': 170, '13': 336, '16': 382, '5': 647, '10': 532, '21': 151, '6': 674, '1': 909, '17': 347, '14': 337, '20': 312, '2': 844, '18': 298, '7': 543, '3': 738}\n",
       "\n",
       "  - alleles (array<str>):\n",
       "    Non-missing: 10879 (100.00%)\n",
       "        Missing: 0\n",
       "       Min Size: 2\n",
       "       Max Size: 2\n",
       "      Mean Size: 2.00\n",
       "\n",
       "    - alleles[<elements>] (str):\n",
       "        Non-missing: 21758 (100.00%)\n",
       "            Missing: 0\n",
       "           Min Size: 1\n",
       "           Max Size: 1\n",
       "          Mean Size: 1.00\n",
       "      Sample Values: ['G', 'A', 'G', 'A', 'C']\n",
       "\n",
       "  - rsid (str):\n",
       "    Non-missing: 0\n",
       "        Missing: 10879 (100.00%)\n",
       "\n",
       "  - qual (float64):\n",
       "    Non-missing: 10879 (100.00%)\n",
       "        Missing: 0\n",
       "        Minimum: 25.02\n",
       "        Maximum: 1237211.62\n",
       "           Mean: 176795.60\n",
       "        Std Dev: 161120.76\n",
       "\n",
       "  - filters (set<str>):\n",
       "    Non-missing: 0\n",
       "        Missing: 10879 (100.00%)\n",
       "\n",
       "  - info (struct with 18 fields):\n",
       "    Non-missing: 10879 (100.00%)\n",
       "        Missing: 0\n",
       "\n",
       "    - info.AC (array<int32>):\n",
       "      Non-missing: 10879 (100.00%)\n",
       "          Missing: 0\n",
       "         Min Size: 1\n",
       "         Max Size: 1\n",
       "        Mean Size: 1.00\n",
       "\n",
       "      - info.AC[<elements>] (int32):\n",
       "        Non-missing: 10879 (100.00%)\n",
       "            Missing: 0\n",
       "            Minimum: 3\n",
       "            Maximum: 5045\n",
       "               Mean: 1551.28\n",
       "            Std Dev: 1259.36\n",
       "\n",
       "    - info.AF (array<float64>):\n",
       "      Non-missing: 10879 (100.00%)\n",
       "          Missing: 0\n",
       "         Min Size: 1\n",
       "         Max Size: 1\n",
       "        Mean Size: 1.00\n",
       "\n",
       "      - info.AF[<elements>] (float64):\n",
       "        Non-missing: 10879 (100.00%)\n",
       "            Missing: 0\n",
       "            Minimum: 0.00\n",
       "            Maximum: 1.00\n",
       "               Mean: 0.31\n",
       "            Std Dev: 0.25\n",
       "\n",
       "    - info.AN (int32):\n",
       "      Non-missing: 10879 (100.00%)\n",
       "          Missing: 0\n",
       "          Minimum: 2978\n",
       "          Maximum: 5070\n",
       "             Mean: 5002.93\n",
       "          Std Dev: 97.77\n",
       "\n",
       "    - info.BaseQRankSum (float64):\n",
       "      Non-missing: 10879 (100.00%)\n",
       "          Missing: 0\n",
       "          Minimum: -76.54\n",
       "          Maximum: 78.69\n",
       "             Mean: -0.09\n",
       "          Std Dev: 24.45\n",
       "\n",
       "    - info.ClippingRankSum (float64):\n",
       "      Non-missing: 10879 (100.00%)\n",
       "          Missing: 0\n",
       "          Minimum: -41.69\n",
       "          Maximum: 45.70\n",
       "             Mean: -2.97\n",
       "          Std Dev: 6.80\n",
       "\n",
       "    - info.DP (int32):\n",
       "      Non-missing: 10879 (100.00%)\n",
       "          Missing: 0\n",
       "          Minimum: 3665\n",
       "          Maximum: 48876\n",
       "             Mean: 17844.07\n",
       "          Std Dev: 2499.58\n",
       "\n",
       "    - info.DS (bool):\n",
       "      Non-missing: 10879 (100.00%)\n",
       "          Missing: 0\n",
       "           Counts: {False: 10879}\n",
       "\n",
       "    - info.FS (float64):\n",
       "      Non-missing: 10879 (100.00%)\n",
       "          Missing: 0\n",
       "          Minimum: 0.00\n",
       "          Maximum: 3200.00\n",
       "             Mean: 17.03\n",
       "          Std Dev: 165.28\n",
       "\n",
       "    - info.HaplotypeScore (float64):\n",
       "      Non-missing: 0\n",
       "          Missing: 10879 (100.00%)\n",
       "\n",
       "    - info.InbreedingCoeff (float64):\n",
       "      Non-missing: 10879 (100.00%)\n",
       "          Missing: 0\n",
       "          Minimum: -0.42\n",
       "          Maximum: 0.76\n",
       "             Mean: 0.10\n",
       "          Std Dev: 0.09\n",
       "\n",
       "    - info.MLEAC (array<int32>):\n",
       "      Non-missing: 10879 (100.00%)\n",
       "          Missing: 0\n",
       "         Min Size: 1\n",
       "         Max Size: 1\n",
       "        Mean Size: 1.00\n",
       "\n",
       "      - info.MLEAC[<elements>] (int32):\n",
       "        Non-missing: 10879 (100.00%)\n",
       "            Missing: 0\n",
       "            Minimum: 2\n",
       "            Maximum: 5046\n",
       "               Mean: 1547.72\n",
       "            Std Dev: 1264.94\n",
       "\n",
       "    - info.MLEAF (array<float64>):\n",
       "      Non-missing: 10879 (100.00%)\n",
       "          Missing: 0\n",
       "         Min Size: 1\n",
       "         Max Size: 1\n",
       "        Mean Size: 1.00\n",
       "\n",
       "      - info.MLEAF[<elements>] (float64):\n",
       "        Non-missing: 10879 (100.00%)\n",
       "            Missing: 0\n",
       "            Minimum: 0.00\n",
       "            Maximum: 1.00\n",
       "               Mean: 0.31\n",
       "            Std Dev: 0.25\n",
       "\n",
       "    - info.MQ (float64):\n",
       "      Non-missing: 10879 (100.00%)\n",
       "          Missing: 0\n",
       "          Minimum: 22.09\n",
       "          Maximum: 60.11\n",
       "             Mean: 58.82\n",
       "          Std Dev: 0.97\n",
       "\n",
       "    - info.MQ0 (int32):\n",
       "      Non-missing: 10879 (100.00%)\n",
       "          Missing: 0\n",
       "          Minimum: 0\n",
       "          Maximum: 0\n",
       "             Mean: 0.00\n",
       "          Std Dev: 0.00\n",
       "\n",
       "    - info.MQRankSum (float64):\n",
       "      Non-missing: 10879 (100.00%)\n",
       "          Missing: 0\n",
       "          Minimum: -65.53\n",
       "          Maximum: 38.73\n",
       "             Mean: 3.64\n",
       "          Std Dev: 6.14\n",
       "\n",
       "    - info.QD (float64):\n",
       "      Non-missing: 10879 (100.00%)\n",
       "          Missing: 0\n",
       "          Minimum: 0.07\n",
       "          Maximum: 37.87\n",
       "             Mean: 18.18\n",
       "          Std Dev: 6.22\n",
       "\n",
       "    - info.ReadPosRankSum (float64):\n",
       "      Non-missing: 10879 (100.00%)\n",
       "          Missing: 0\n",
       "          Minimum: -41.90\n",
       "          Maximum: 40.03\n",
       "             Mean: 1.58\n",
       "          Std Dev: 3.62\n",
       "\n",
       "    - info.set (str):\n",
       "      Non-missing: 0\n",
       "          Missing: 10879 (100.00%)"
      ]
     },
     "metadata": {},
     "output_type": "display_data"
    },
    {
     "name": "stderr",
     "output_type": "stream",
     "text": [
      "\r",
      "[Stage 5:>                                                          (0 + 1) / 1]"
     ]
    },
    {
     "data": {
      "text/html": [
       "<h3>Entries</h3><p>3089636 records.</p><ul><li><b>GT</b> (<i>call</i>):<ul><table><tbody><tr><td>Non-missing</td><td>3048271 (98.66%)</td></tr><tr><td>Missing</td><td>41365 (1.34%)</td></tr><tr><td>Homozygous Reference</td><td>1730651</td></tr><tr><td>Heterozygous</td><td>741176</td></tr><tr><td>Homozygous Variant</td><td>576444</td></tr><tr><td>Ploidy</td><td>{2: 3048271}</td></tr><tr><td>Phased</td><td>{False: 3048271}</td></tr></tbody></table></ul></li><li><b>AD</b> (<i>array&lt;int32&gt;</i>):<ul><table><tbody><tr><td>Non-missing</td><td>3045432 (98.57%)</td></tr><tr><td>Missing</td><td>44204 (1.43%)</td></tr><tr><td>Min Size</td><td>2</td></tr><tr><td>Max Size</td><td>2</td></tr><tr><td>Mean Size</td><td>2.00</td></tr></tbody></table><li><b>AD[&lt;elements&gt;]</b> (<i>int32</i>):<ul><table><tbody><tr><td>Non-missing</td><td>6090864 (100.00%)</td></tr><tr><td>Missing</td><td>0</td></tr><tr><td>Minimum</td><td>0</td></tr><tr><td>Maximum</td><td>68</td></tr><tr><td>Mean</td><td>3.58</td></tr><tr><td>Std Dev</td><td>4.13</td></tr></tbody></table></ul></li></ul></li><li><b>DP</b> (<i>int32</i>):<ul><table><tbody><tr><td>Non-missing</td><td>3045432 (98.57%)</td></tr><tr><td>Missing</td><td>44204 (1.43%)</td></tr><tr><td>Minimum</td><td>0</td></tr><tr><td>Maximum</td><td>68</td></tr><tr><td>Mean</td><td>7.16</td></tr><tr><td>Std Dev</td><td>4.12</td></tr></tbody></table></ul></li><li><b>GQ</b> (<i>int32</i>):<ul><table><tbody><tr><td>Non-missing</td><td>3048271 (98.66%)</td></tr><tr><td>Missing</td><td>41365 (1.34%)</td></tr><tr><td>Minimum</td><td>0</td></tr><tr><td>Maximum</td><td>99</td></tr><tr><td>Mean</td><td>31.61</td></tr><tr><td>Std Dev</td><td>26.43</td></tr></tbody></table></ul></li><li><b>PL</b> (<i>array&lt;int32&gt;</i>):<ul><table><tbody><tr><td>Non-missing</td><td>3048271 (98.66%)</td></tr><tr><td>Missing</td><td>41365 (1.34%)</td></tr><tr><td>Min Size</td><td>3</td></tr><tr><td>Max Size</td><td>3</td></tr><tr><td>Mean Size</td><td>3.00</td></tr></tbody></table><li><b>PL[&lt;elements&gt;]</b> (<i>int32</i>):<ul><table><tbody><tr><td>Non-missing</td><td>9144813 (100.00%)</td></tr><tr><td>Missing</td><td>0</td></tr><tr><td>Minimum</td><td>0</td></tr><tr><td>Maximum</td><td>5492</td></tr><tr><td>Mean</td><td>89.67</td></tr><tr><td>Std Dev</td><td>140.24</td></tr></tbody></table></ul></li></ul></li></ul>"
      ],
      "text/plain": [
       "Entries\n",
       "======\n",
       "3089636 records.\n",
       "\n",
       "  - GT (call):\n",
       "             Non-missing: 3048271 (98.66%)\n",
       "                 Missing: 41365 (1.34%)\n",
       "    Homozygous Reference: 1730651\n",
       "            Heterozygous: 741176\n",
       "      Homozygous Variant: 576444\n",
       "                  Ploidy: {2: 3048271}\n",
       "                  Phased: {False: 3048271}\n",
       "\n",
       "  - AD (array<int32>):\n",
       "    Non-missing: 3045432 (98.57%)\n",
       "        Missing: 44204 (1.43%)\n",
       "       Min Size: 2\n",
       "       Max Size: 2\n",
       "      Mean Size: 2.00\n",
       "\n",
       "    - AD[<elements>] (int32):\n",
       "      Non-missing: 6090864 (100.00%)\n",
       "          Missing: 0\n",
       "          Minimum: 0\n",
       "          Maximum: 68\n",
       "             Mean: 3.58\n",
       "          Std Dev: 4.13\n",
       "\n",
       "  - DP (int32):\n",
       "    Non-missing: 3045432 (98.57%)\n",
       "        Missing: 44204 (1.43%)\n",
       "        Minimum: 0\n",
       "        Maximum: 68\n",
       "           Mean: 7.16\n",
       "        Std Dev: 4.12\n",
       "\n",
       "  - GQ (int32):\n",
       "    Non-missing: 3048271 (98.66%)\n",
       "        Missing: 41365 (1.34%)\n",
       "        Minimum: 0\n",
       "        Maximum: 99\n",
       "           Mean: 31.61\n",
       "        Std Dev: 26.43\n",
       "\n",
       "  - PL (array<int32>):\n",
       "    Non-missing: 3048271 (98.66%)\n",
       "        Missing: 41365 (1.34%)\n",
       "       Min Size: 3\n",
       "       Max Size: 3\n",
       "      Mean Size: 3.00\n",
       "\n",
       "    - PL[<elements>] (int32):\n",
       "      Non-missing: 9144813 (100.00%)\n",
       "          Missing: 0\n",
       "          Minimum: 0\n",
       "          Maximum: 5492\n",
       "             Mean: 89.67\n",
       "          Std Dev: 140.24"
      ]
     },
     "metadata": {},
     "output_type": "display_data"
    }
   ],
   "source": [
    "mt.summarize()"
   ]
  },
  {
   "cell_type": "markdown",
   "id": "99f69886",
   "metadata": {},
   "source": [
    "### MatrixTable\n",
    "- A distributed two-dimensional extension of a 'Table(Hail data object)' _c.f. table has two field groups(globals, rows)_\n",
    "- 4 fields : globals, rows, columns, entries\n",
    "- 각 fields의 세부 내용은 VCF format 참고 : https://samtools.github.io/hts-specs/VCFv4.2.pdf\n",
    "\n",
    "**1. global fields** : metadata of table  \n",
    "**2. row fields** : 대게 변이에 대한 정보(allele, frequency 등), indexed by row key such as 'locus' and 'alleles'  \n",
    "**3. column fields** : 대게 sample에 대한 정보(sample ID 등), indexed by column key such as 's(sample)'  \n",
    "**4. entry fields** : 대게 sample의 variant에 대한 정보(sample의 genotype, depth 등), elements of two-dimensional matrix indexed by row key and column key "
   ]
  },
  {
   "cell_type": "code",
   "execution_count": 7,
   "id": "5ae539fc",
   "metadata": {},
   "outputs": [
    {
     "data": {
      "text/plain": [
       "<StructExpression of type struct{}>"
      ]
     },
     "execution_count": 7,
     "metadata": {},
     "output_type": "execute_result"
    }
   ],
   "source": [
    "mt.globals"
   ]
  },
  {
   "cell_type": "markdown",
   "id": "59e41212",
   "metadata": {},
   "source": [
    "#### row"
   ]
  },
  {
   "cell_type": "code",
   "execution_count": 8,
   "id": "bb825cd1",
   "metadata": {},
   "outputs": [
    {
     "data": {
      "text/html": [
       "<table><thead><tr><td style=\"white-space: nowrap; max-width: 500px; overflow: hidden; text-overflow: ellipsis; \" colspan=\"1\"><div style=\"text-align: left;\"></div></td><td style=\"white-space: nowrap; max-width: 500px; overflow: hidden; text-overflow: ellipsis; \" colspan=\"1\"><div style=\"text-align: left;\"></div></td><td style=\"white-space: nowrap; max-width: 500px; overflow: hidden; text-overflow: ellipsis; \" colspan=\"1\"><div style=\"text-align: left;\"></div></td><td style=\"white-space: nowrap; max-width: 500px; overflow: hidden; text-overflow: ellipsis; \" colspan=\"1\"><div style=\"text-align: left;\"></div></td><td style=\"white-space: nowrap; max-width: 500px; overflow: hidden; text-overflow: ellipsis; \" colspan=\"1\"><div style=\"text-align: left;\"></div></td><td style=\"white-space: nowrap; max-width: 500px; overflow: hidden; text-overflow: ellipsis; \" colspan=\"18\"><div style=\"text-align: left;\"></div></td></tr><tr><td style=\"white-space: nowrap; max-width: 500px; overflow: hidden; text-overflow: ellipsis; \" colspan=\"1\"><div style=\"text-align: left;\"></div></td><td style=\"white-space: nowrap; max-width: 500px; overflow: hidden; text-overflow: ellipsis; \" colspan=\"1\"><div style=\"text-align: left;\"></div></td><td style=\"white-space: nowrap; max-width: 500px; overflow: hidden; text-overflow: ellipsis; \" colspan=\"1\"><div style=\"text-align: left;\"></div></td><td style=\"white-space: nowrap; max-width: 500px; overflow: hidden; text-overflow: ellipsis; \" colspan=\"1\"><div style=\"text-align: left;\"></div></td><td style=\"white-space: nowrap; max-width: 500px; overflow: hidden; text-overflow: ellipsis; \" colspan=\"1\"><div style=\"text-align: left;\"></div></td><td style=\"white-space: nowrap; max-width: 500px; overflow: hidden; text-overflow: ellipsis; \" colspan=\"18\"><div style=\"text-align: left;border-bottom: solid 2px #000; padding-bottom: 5px\">info</div></td></tr><tr><td style=\"white-space: nowrap; max-width: 500px; overflow: hidden; text-overflow: ellipsis; \" colspan=\"1\"><div style=\"text-align: left;border-bottom: solid 2px #000; padding-bottom: 5px\">locus</div></td><td style=\"white-space: nowrap; max-width: 500px; overflow: hidden; text-overflow: ellipsis; \" colspan=\"1\"><div style=\"text-align: left;border-bottom: solid 2px #000; padding-bottom: 5px\">alleles</div></td><td style=\"white-space: nowrap; max-width: 500px; overflow: hidden; text-overflow: ellipsis; \" colspan=\"1\"><div style=\"text-align: left;border-bottom: solid 2px #000; padding-bottom: 5px\">rsid</div></td><td style=\"white-space: nowrap; max-width: 500px; overflow: hidden; text-overflow: ellipsis; \" colspan=\"1\"><div style=\"text-align: left;border-bottom: solid 2px #000; padding-bottom: 5px\">qual</div></td><td style=\"white-space: nowrap; max-width: 500px; overflow: hidden; text-overflow: ellipsis; \" colspan=\"1\"><div style=\"text-align: left;border-bottom: solid 2px #000; padding-bottom: 5px\">filters</div></td><td style=\"white-space: nowrap; max-width: 500px; overflow: hidden; text-overflow: ellipsis; \" colspan=\"1\"><div style=\"text-align: left;border-bottom: solid 2px #000; padding-bottom: 5px\">AC</div></td><td style=\"white-space: nowrap; max-width: 500px; overflow: hidden; text-overflow: ellipsis; \" colspan=\"1\"><div style=\"text-align: left;border-bottom: solid 2px #000; padding-bottom: 5px\">AF</div></td><td style=\"white-space: nowrap; max-width: 500px; overflow: hidden; text-overflow: ellipsis; \" colspan=\"1\"><div style=\"text-align: left;border-bottom: solid 2px #000; padding-bottom: 5px\">AN</div></td><td style=\"white-space: nowrap; max-width: 500px; overflow: hidden; text-overflow: ellipsis; \" colspan=\"1\"><div style=\"text-align: left;border-bottom: solid 2px #000; padding-bottom: 5px\">BaseQRankSum</div></td><td style=\"white-space: nowrap; max-width: 500px; overflow: hidden; text-overflow: ellipsis; \" colspan=\"1\"><div style=\"text-align: left;border-bottom: solid 2px #000; padding-bottom: 5px\">ClippingRankSum</div></td><td style=\"white-space: nowrap; max-width: 500px; overflow: hidden; text-overflow: ellipsis; \" colspan=\"1\"><div style=\"text-align: left;border-bottom: solid 2px #000; padding-bottom: 5px\">DP</div></td><td style=\"white-space: nowrap; max-width: 500px; overflow: hidden; text-overflow: ellipsis; \" colspan=\"1\"><div style=\"text-align: left;border-bottom: solid 2px #000; padding-bottom: 5px\">DS</div></td><td style=\"white-space: nowrap; max-width: 500px; overflow: hidden; text-overflow: ellipsis; \" colspan=\"1\"><div style=\"text-align: left;border-bottom: solid 2px #000; padding-bottom: 5px\">FS</div></td><td style=\"white-space: nowrap; max-width: 500px; overflow: hidden; text-overflow: ellipsis; \" colspan=\"1\"><div style=\"text-align: left;border-bottom: solid 2px #000; padding-bottom: 5px\">HaplotypeScore</div></td><td style=\"white-space: nowrap; max-width: 500px; overflow: hidden; text-overflow: ellipsis; \" colspan=\"1\"><div style=\"text-align: left;border-bottom: solid 2px #000; padding-bottom: 5px\">InbreedingCoeff</div></td><td style=\"white-space: nowrap; max-width: 500px; overflow: hidden; text-overflow: ellipsis; \" colspan=\"1\"><div style=\"text-align: left;border-bottom: solid 2px #000; padding-bottom: 5px\">MLEAC</div></td><td style=\"white-space: nowrap; max-width: 500px; overflow: hidden; text-overflow: ellipsis; \" colspan=\"1\"><div style=\"text-align: left;border-bottom: solid 2px #000; padding-bottom: 5px\">MLEAF</div></td><td style=\"white-space: nowrap; max-width: 500px; overflow: hidden; text-overflow: ellipsis; \" colspan=\"1\"><div style=\"text-align: left;border-bottom: solid 2px #000; padding-bottom: 5px\">MQ</div></td><td style=\"white-space: nowrap; max-width: 500px; overflow: hidden; text-overflow: ellipsis; \" colspan=\"1\"><div style=\"text-align: left;border-bottom: solid 2px #000; padding-bottom: 5px\">MQ0</div></td><td style=\"white-space: nowrap; max-width: 500px; overflow: hidden; text-overflow: ellipsis; \" colspan=\"1\"><div style=\"text-align: left;border-bottom: solid 2px #000; padding-bottom: 5px\">MQRankSum</div></td><td style=\"white-space: nowrap; max-width: 500px; overflow: hidden; text-overflow: ellipsis; \" colspan=\"1\"><div style=\"text-align: left;border-bottom: solid 2px #000; padding-bottom: 5px\">QD</div></td><td style=\"white-space: nowrap; max-width: 500px; overflow: hidden; text-overflow: ellipsis; \" colspan=\"1\"><div style=\"text-align: left;border-bottom: solid 2px #000; padding-bottom: 5px\">ReadPosRankSum</div></td><td style=\"white-space: nowrap; max-width: 500px; overflow: hidden; text-overflow: ellipsis; \" colspan=\"1\"><div style=\"text-align: left;border-bottom: solid 2px #000; padding-bottom: 5px\">set</div></td></tr><tr><td style=\"white-space: nowrap; max-width: 500px; overflow: hidden; text-overflow: ellipsis; text-align: left;\">locus&lt;GRCh37&gt;</td><td style=\"white-space: nowrap; max-width: 500px; overflow: hidden; text-overflow: ellipsis; text-align: left;\">array&lt;str&gt;</td><td style=\"white-space: nowrap; max-width: 500px; overflow: hidden; text-overflow: ellipsis; text-align: left;\">str</td><td style=\"white-space: nowrap; max-width: 500px; overflow: hidden; text-overflow: ellipsis; text-align: left;\">float64</td><td style=\"white-space: nowrap; max-width: 500px; overflow: hidden; text-overflow: ellipsis; text-align: left;\">set&lt;str&gt;</td><td style=\"white-space: nowrap; max-width: 500px; overflow: hidden; text-overflow: ellipsis; text-align: left;\">array&lt;int32&gt;</td><td style=\"white-space: nowrap; max-width: 500px; overflow: hidden; text-overflow: ellipsis; text-align: left;\">array&lt;float64&gt;</td><td style=\"white-space: nowrap; max-width: 500px; overflow: hidden; text-overflow: ellipsis; text-align: left;\">int32</td><td style=\"white-space: nowrap; max-width: 500px; overflow: hidden; text-overflow: ellipsis; text-align: left;\">float64</td><td style=\"white-space: nowrap; max-width: 500px; overflow: hidden; text-overflow: ellipsis; text-align: left;\">float64</td><td style=\"white-space: nowrap; max-width: 500px; overflow: hidden; text-overflow: ellipsis; text-align: left;\">int32</td><td style=\"white-space: nowrap; max-width: 500px; overflow: hidden; text-overflow: ellipsis; text-align: left;\">bool</td><td style=\"white-space: nowrap; max-width: 500px; overflow: hidden; text-overflow: ellipsis; text-align: left;\">float64</td><td style=\"white-space: nowrap; max-width: 500px; overflow: hidden; text-overflow: ellipsis; text-align: left;\">float64</td><td style=\"white-space: nowrap; max-width: 500px; overflow: hidden; text-overflow: ellipsis; text-align: left;\">float64</td><td style=\"white-space: nowrap; max-width: 500px; overflow: hidden; text-overflow: ellipsis; text-align: left;\">array&lt;int32&gt;</td><td style=\"white-space: nowrap; max-width: 500px; overflow: hidden; text-overflow: ellipsis; text-align: left;\">array&lt;float64&gt;</td><td style=\"white-space: nowrap; max-width: 500px; overflow: hidden; text-overflow: ellipsis; text-align: left;\">float64</td><td style=\"white-space: nowrap; max-width: 500px; overflow: hidden; text-overflow: ellipsis; text-align: left;\">int32</td><td style=\"white-space: nowrap; max-width: 500px; overflow: hidden; text-overflow: ellipsis; text-align: left;\">float64</td><td style=\"white-space: nowrap; max-width: 500px; overflow: hidden; text-overflow: ellipsis; text-align: left;\">float64</td><td style=\"white-space: nowrap; max-width: 500px; overflow: hidden; text-overflow: ellipsis; text-align: left;\">float64</td><td style=\"white-space: nowrap; max-width: 500px; overflow: hidden; text-overflow: ellipsis; text-align: left;\">str</td></tr>\n",
       "</thead><tbody><tr><td style=\"white-space: nowrap; max-width: 500px; overflow: hidden; text-overflow: ellipsis; \">1:904165</td><td style=\"white-space: nowrap; max-width: 500px; overflow: hidden; text-overflow: ellipsis; \">[&quot;G&quot;,&quot;A&quot;]</td><td style=\"white-space: nowrap; max-width: 500px; overflow: hidden; text-overflow: ellipsis; \">NA</td><td style=\"white-space: nowrap; max-width: 500px; overflow: hidden; text-overflow: ellipsis; \">5.23e+04</td><td style=\"white-space: nowrap; max-width: 500px; overflow: hidden; text-overflow: ellipsis; \">NA</td><td style=\"white-space: nowrap; max-width: 500px; overflow: hidden; text-overflow: ellipsis; \">[518]</td><td style=\"white-space: nowrap; max-width: 500px; overflow: hidden; text-overflow: ellipsis; \">[1.03e-01]</td><td style=\"white-space: nowrap; max-width: 500px; overflow: hidden; text-overflow: ellipsis; \">5020</td><td style=\"white-space: nowrap; max-width: 500px; overflow: hidden; text-overflow: ellipsis; \">-3.39e+00</td><td style=\"white-space: nowrap; max-width: 500px; overflow: hidden; text-overflow: ellipsis; \">-1.70e-01</td><td style=\"white-space: nowrap; max-width: 500px; overflow: hidden; text-overflow: ellipsis; \">17827</td><td style=\"white-space: nowrap; max-width: 500px; overflow: hidden; text-overflow: ellipsis; \">false</td><td style=\"white-space: nowrap; max-width: 500px; overflow: hidden; text-overflow: ellipsis; \">2.23e+00</td><td style=\"white-space: nowrap; max-width: 500px; overflow: hidden; text-overflow: ellipsis; \">NA</td><td style=\"white-space: nowrap; max-width: 500px; overflow: hidden; text-overflow: ellipsis; \">9.88e-02</td><td style=\"white-space: nowrap; max-width: 500px; overflow: hidden; text-overflow: ellipsis; \">[514]</td><td style=\"white-space: nowrap; max-width: 500px; overflow: hidden; text-overflow: ellipsis; \">[1.02e-01]</td><td style=\"white-space: nowrap; max-width: 500px; overflow: hidden; text-overflow: ellipsis; \">5.91e+01</td><td style=\"white-space: nowrap; max-width: 500px; overflow: hidden; text-overflow: ellipsis; \">0</td><td style=\"white-space: nowrap; max-width: 500px; overflow: hidden; text-overflow: ellipsis; \">1.45e+00</td><td style=\"white-space: nowrap; max-width: 500px; overflow: hidden; text-overflow: ellipsis; \">1.50e+01</td><td style=\"white-space: nowrap; max-width: 500px; overflow: hidden; text-overflow: ellipsis; \">6.29e+00</td><td style=\"white-space: nowrap; max-width: 500px; overflow: hidden; text-overflow: ellipsis; \">NA</td></tr>\n",
       "<tr><td style=\"white-space: nowrap; max-width: 500px; overflow: hidden; text-overflow: ellipsis; \">1:909917</td><td style=\"white-space: nowrap; max-width: 500px; overflow: hidden; text-overflow: ellipsis; \">[&quot;G&quot;,&quot;A&quot;]</td><td style=\"white-space: nowrap; max-width: 500px; overflow: hidden; text-overflow: ellipsis; \">NA</td><td style=\"white-space: nowrap; max-width: 500px; overflow: hidden; text-overflow: ellipsis; \">1.58e+03</td><td style=\"white-space: nowrap; max-width: 500px; overflow: hidden; text-overflow: ellipsis; \">NA</td><td style=\"white-space: nowrap; max-width: 500px; overflow: hidden; text-overflow: ellipsis; \">[18]</td><td style=\"white-space: nowrap; max-width: 500px; overflow: hidden; text-overflow: ellipsis; \">[3.73e-03]</td><td style=\"white-space: nowrap; max-width: 500px; overflow: hidden; text-overflow: ellipsis; \">4830</td><td style=\"white-space: nowrap; max-width: 500px; overflow: hidden; text-overflow: ellipsis; \">-1.48e+00</td><td style=\"white-space: nowrap; max-width: 500px; overflow: hidden; text-overflow: ellipsis; \">1.26e-01</td><td style=\"white-space: nowrap; max-width: 500px; overflow: hidden; text-overflow: ellipsis; \">14671</td><td style=\"white-space: nowrap; max-width: 500px; overflow: hidden; text-overflow: ellipsis; \">false</td><td style=\"white-space: nowrap; max-width: 500px; overflow: hidden; text-overflow: ellipsis; \">5.52e+00</td><td style=\"white-space: nowrap; max-width: 500px; overflow: hidden; text-overflow: ellipsis; \">NA</td><td style=\"white-space: nowrap; max-width: 500px; overflow: hidden; text-overflow: ellipsis; \">-5.00e-04</td><td style=\"white-space: nowrap; max-width: 500px; overflow: hidden; text-overflow: ellipsis; \">[15]</td><td style=\"white-space: nowrap; max-width: 500px; overflow: hidden; text-overflow: ellipsis; \">[3.11e-03]</td><td style=\"white-space: nowrap; max-width: 500px; overflow: hidden; text-overflow: ellipsis; \">5.91e+01</td><td style=\"white-space: nowrap; max-width: 500px; overflow: hidden; text-overflow: ellipsis; \">0</td><td style=\"white-space: nowrap; max-width: 500px; overflow: hidden; text-overflow: ellipsis; \">1.76e+00</td><td style=\"white-space: nowrap; max-width: 500px; overflow: hidden; text-overflow: ellipsis; \">1.37e+01</td><td style=\"white-space: nowrap; max-width: 500px; overflow: hidden; text-overflow: ellipsis; \">-1.43e+00</td><td style=\"white-space: nowrap; max-width: 500px; overflow: hidden; text-overflow: ellipsis; \">NA</td></tr>\n",
       "<tr><td style=\"white-space: nowrap; max-width: 500px; overflow: hidden; text-overflow: ellipsis; \">1:986963</td><td style=\"white-space: nowrap; max-width: 500px; overflow: hidden; text-overflow: ellipsis; \">[&quot;C&quot;,&quot;T&quot;]</td><td style=\"white-space: nowrap; max-width: 500px; overflow: hidden; text-overflow: ellipsis; \">NA</td><td style=\"white-space: nowrap; max-width: 500px; overflow: hidden; text-overflow: ellipsis; \">3.98e+02</td><td style=\"white-space: nowrap; max-width: 500px; overflow: hidden; text-overflow: ellipsis; \">NA</td><td style=\"white-space: nowrap; max-width: 500px; overflow: hidden; text-overflow: ellipsis; \">[5]</td><td style=\"white-space: nowrap; max-width: 500px; overflow: hidden; text-overflow: ellipsis; \">[1.09e-03]</td><td style=\"white-space: nowrap; max-width: 500px; overflow: hidden; text-overflow: ellipsis; \">4588</td><td style=\"white-space: nowrap; max-width: 500px; overflow: hidden; text-overflow: ellipsis; \">1.25e+00</td><td style=\"white-space: nowrap; max-width: 500px; overflow: hidden; text-overflow: ellipsis; \">-3.77e+00</td><td style=\"white-space: nowrap; max-width: 500px; overflow: hidden; text-overflow: ellipsis; \">12398</td><td style=\"white-space: nowrap; max-width: 500px; overflow: hidden; text-overflow: ellipsis; \">false</td><td style=\"white-space: nowrap; max-width: 500px; overflow: hidden; text-overflow: ellipsis; \">8.34e-01</td><td style=\"white-space: nowrap; max-width: 500px; overflow: hidden; text-overflow: ellipsis; \">NA</td><td style=\"white-space: nowrap; max-width: 500px; overflow: hidden; text-overflow: ellipsis; \">1.26e-02</td><td style=\"white-space: nowrap; max-width: 500px; overflow: hidden; text-overflow: ellipsis; \">[3]</td><td style=\"white-space: nowrap; max-width: 500px; overflow: hidden; text-overflow: ellipsis; \">[6.54e-04]</td><td style=\"white-space: nowrap; max-width: 500px; overflow: hidden; text-overflow: ellipsis; \">5.79e+01</td><td style=\"white-space: nowrap; max-width: 500px; overflow: hidden; text-overflow: ellipsis; \">0</td><td style=\"white-space: nowrap; max-width: 500px; overflow: hidden; text-overflow: ellipsis; \">5.86e-01</td><td style=\"white-space: nowrap; max-width: 500px; overflow: hidden; text-overflow: ellipsis; \">1.73e+01</td><td style=\"white-space: nowrap; max-width: 500px; overflow: hidden; text-overflow: ellipsis; \">7.10e-01</td><td style=\"white-space: nowrap; max-width: 500px; overflow: hidden; text-overflow: ellipsis; \">NA</td></tr>\n",
       "<tr><td style=\"white-space: nowrap; max-width: 500px; overflow: hidden; text-overflow: ellipsis; \">1:1563691</td><td style=\"white-space: nowrap; max-width: 500px; overflow: hidden; text-overflow: ellipsis; \">[&quot;T&quot;,&quot;G&quot;]</td><td style=\"white-space: nowrap; max-width: 500px; overflow: hidden; text-overflow: ellipsis; \">NA</td><td style=\"white-space: nowrap; max-width: 500px; overflow: hidden; text-overflow: ellipsis; \">1.09e+03</td><td style=\"white-space: nowrap; max-width: 500px; overflow: hidden; text-overflow: ellipsis; \">NA</td><td style=\"white-space: nowrap; max-width: 500px; overflow: hidden; text-overflow: ellipsis; \">[64]</td><td style=\"white-space: nowrap; max-width: 500px; overflow: hidden; text-overflow: ellipsis; \">[1.30e-02]</td><td style=\"white-space: nowrap; max-width: 500px; overflow: hidden; text-overflow: ellipsis; \">4766</td><td style=\"white-space: nowrap; max-width: 500px; overflow: hidden; text-overflow: ellipsis; \">-3.87e+01</td><td style=\"white-space: nowrap; max-width: 500px; overflow: hidden; text-overflow: ellipsis; \">-5.39e+00</td><td style=\"white-space: nowrap; max-width: 500px; overflow: hidden; text-overflow: ellipsis; \">15357</td><td style=\"white-space: nowrap; max-width: 500px; overflow: hidden; text-overflow: ellipsis; \">false</td><td style=\"white-space: nowrap; max-width: 500px; overflow: hidden; text-overflow: ellipsis; \">1.90e+03</td><td style=\"white-space: nowrap; max-width: 500px; overflow: hidden; text-overflow: ellipsis; \">NA</td><td style=\"white-space: nowrap; max-width: 500px; overflow: hidden; text-overflow: ellipsis; \">2.70e-02</td><td style=\"white-space: nowrap; max-width: 500px; overflow: hidden; text-overflow: ellipsis; \">[22]</td><td style=\"white-space: nowrap; max-width: 500px; overflow: hidden; text-overflow: ellipsis; \">[4.62e-03]</td><td style=\"white-space: nowrap; max-width: 500px; overflow: hidden; text-overflow: ellipsis; \">5.90e+01</td><td style=\"white-space: nowrap; max-width: 500px; overflow: hidden; text-overflow: ellipsis; \">0</td><td style=\"white-space: nowrap; max-width: 500px; overflow: hidden; text-overflow: ellipsis; \">1.31e+00</td><td style=\"white-space: nowrap; max-width: 500px; overflow: hidden; text-overflow: ellipsis; \">5.05e+00</td><td style=\"white-space: nowrap; max-width: 500px; overflow: hidden; text-overflow: ellipsis; \">1.15e+00</td><td style=\"white-space: nowrap; max-width: 500px; overflow: hidden; text-overflow: ellipsis; \">NA</td></tr>\n",
       "<tr><td style=\"white-space: nowrap; max-width: 500px; overflow: hidden; text-overflow: ellipsis; \">1:1707740</td><td style=\"white-space: nowrap; max-width: 500px; overflow: hidden; text-overflow: ellipsis; \">[&quot;T&quot;,&quot;G&quot;]</td><td style=\"white-space: nowrap; max-width: 500px; overflow: hidden; text-overflow: ellipsis; \">NA</td><td style=\"white-space: nowrap; max-width: 500px; overflow: hidden; text-overflow: ellipsis; \">9.35e+04</td><td style=\"white-space: nowrap; max-width: 500px; overflow: hidden; text-overflow: ellipsis; \">NA</td><td style=\"white-space: nowrap; max-width: 500px; overflow: hidden; text-overflow: ellipsis; \">[997]</td><td style=\"white-space: nowrap; max-width: 500px; overflow: hidden; text-overflow: ellipsis; \">[1.98e-01]</td><td style=\"white-space: nowrap; max-width: 500px; overflow: hidden; text-overflow: ellipsis; \">5034</td><td style=\"white-space: nowrap; max-width: 500px; overflow: hidden; text-overflow: ellipsis; \">-4.04e+01</td><td style=\"white-space: nowrap; max-width: 500px; overflow: hidden; text-overflow: ellipsis; \">-2.87e-01</td><td style=\"white-space: nowrap; max-width: 500px; overflow: hidden; text-overflow: ellipsis; \">19902</td><td style=\"white-space: nowrap; max-width: 500px; overflow: hidden; text-overflow: ellipsis; \">false</td><td style=\"white-space: nowrap; max-width: 500px; overflow: hidden; text-overflow: ellipsis; \">3.31e+00</td><td style=\"white-space: nowrap; max-width: 500px; overflow: hidden; text-overflow: ellipsis; \">NA</td><td style=\"white-space: nowrap; max-width: 500px; overflow: hidden; text-overflow: ellipsis; \">3.87e-02</td><td style=\"white-space: nowrap; max-width: 500px; overflow: hidden; text-overflow: ellipsis; \">[983]</td><td style=\"white-space: nowrap; max-width: 500px; overflow: hidden; text-overflow: ellipsis; \">[1.95e-01]</td><td style=\"white-space: nowrap; max-width: 500px; overflow: hidden; text-overflow: ellipsis; \">5.83e+01</td><td style=\"white-space: nowrap; max-width: 500px; overflow: hidden; text-overflow: ellipsis; \">0</td><td style=\"white-space: nowrap; max-width: 500px; overflow: hidden; text-overflow: ellipsis; \">9.48e+00</td><td style=\"white-space: nowrap; max-width: 500px; overflow: hidden; text-overflow: ellipsis; \">1.36e+01</td><td style=\"white-space: nowrap; max-width: 500px; overflow: hidden; text-overflow: ellipsis; \">2.26e+00</td><td style=\"white-space: nowrap; max-width: 500px; overflow: hidden; text-overflow: ellipsis; \">NA</td></tr>\n",
       "</tbody></table><p style=\"background: #fdd; padding: 0.4em;\">showing top 5 rows</p>\n"
      ],
      "text/plain": [
       "+---------------+------------+------+----------+----------+--------------+\n",
       "| locus         | alleles    | rsid |     qual | filters  | info.AC      |\n",
       "+---------------+------------+------+----------+----------+--------------+\n",
       "| locus<GRCh37> | array<str> | str  |  float64 | set<str> | array<int32> |\n",
       "+---------------+------------+------+----------+----------+--------------+\n",
       "| 1:904165      | [\"G\",\"A\"]  | NA   | 5.23e+04 | NA       | [518]        |\n",
       "| 1:909917      | [\"G\",\"A\"]  | NA   | 1.58e+03 | NA       | [18]         |\n",
       "| 1:986963      | [\"C\",\"T\"]  | NA   | 3.98e+02 | NA       | [5]          |\n",
       "| 1:1563691     | [\"T\",\"G\"]  | NA   | 1.09e+03 | NA       | [64]         |\n",
       "| 1:1707740     | [\"T\",\"G\"]  | NA   | 9.35e+04 | NA       | [997]        |\n",
       "+---------------+------------+------+----------+----------+--------------+\n",
       "\n",
       "+----------------+---------+-------------------+----------------------+\n",
       "| info.AF        | info.AN | info.BaseQRankSum | info.ClippingRankSum |\n",
       "+----------------+---------+-------------------+----------------------+\n",
       "| array<float64> |   int32 |           float64 |              float64 |\n",
       "+----------------+---------+-------------------+----------------------+\n",
       "| [1.03e-01]     |    5020 |         -3.39e+00 |            -1.70e-01 |\n",
       "| [3.73e-03]     |    4830 |         -1.48e+00 |             1.26e-01 |\n",
       "| [1.09e-03]     |    4588 |          1.25e+00 |            -3.77e+00 |\n",
       "| [1.30e-02]     |    4766 |         -3.87e+01 |            -5.39e+00 |\n",
       "| [1.98e-01]     |    5034 |         -4.04e+01 |            -2.87e-01 |\n",
       "+----------------+---------+-------------------+----------------------+\n",
       "\n",
       "+---------+---------+----------+---------------------+----------------------+\n",
       "| info.DP | info.DS |  info.FS | info.HaplotypeScore | info.InbreedingCoeff |\n",
       "+---------+---------+----------+---------------------+----------------------+\n",
       "|   int32 |    bool |  float64 |             float64 |              float64 |\n",
       "+---------+---------+----------+---------------------+----------------------+\n",
       "|   17827 |   false | 2.23e+00 |                  NA |             9.88e-02 |\n",
       "|   14671 |   false | 5.52e+00 |                  NA |            -5.00e-04 |\n",
       "|   12398 |   false | 8.34e-01 |                  NA |             1.26e-02 |\n",
       "|   15357 |   false | 1.90e+03 |                  NA |             2.70e-02 |\n",
       "|   19902 |   false | 3.31e+00 |                  NA |             3.87e-02 |\n",
       "+---------+---------+----------+---------------------+----------------------+\n",
       "\n",
       "+--------------+----------------+----------+----------+----------------+\n",
       "| info.MLEAC   | info.MLEAF     |  info.MQ | info.MQ0 | info.MQRankSum |\n",
       "+--------------+----------------+----------+----------+----------------+\n",
       "| array<int32> | array<float64> |  float64 |    int32 |        float64 |\n",
       "+--------------+----------------+----------+----------+----------------+\n",
       "| [514]        | [1.02e-01]     | 5.91e+01 |        0 |       1.45e+00 |\n",
       "| [15]         | [3.11e-03]     | 5.91e+01 |        0 |       1.76e+00 |\n",
       "| [3]          | [6.54e-04]     | 5.79e+01 |        0 |       5.86e-01 |\n",
       "| [22]         | [4.62e-03]     | 5.90e+01 |        0 |       1.31e+00 |\n",
       "| [983]        | [1.95e-01]     | 5.83e+01 |        0 |       9.48e+00 |\n",
       "+--------------+----------------+----------+----------+----------------+\n",
       "\n",
       "+----------+---------------------+----------+\n",
       "|  info.QD | info.ReadPosRankSum | info.set |\n",
       "+----------+---------------------+----------+\n",
       "|  float64 |             float64 | str      |\n",
       "+----------+---------------------+----------+\n",
       "| 1.50e+01 |            6.29e+00 | NA       |\n",
       "| 1.37e+01 |           -1.43e+00 | NA       |\n",
       "| 1.73e+01 |            7.10e-01 | NA       |\n",
       "| 5.05e+00 |            1.15e+00 | NA       |\n",
       "| 1.36e+01 |            2.26e+00 | NA       |\n",
       "+----------+---------------------+----------+\n",
       "showing top 5 rows"
      ]
     },
     "metadata": {},
     "output_type": "display_data"
    },
    {
     "data": {
      "text/html": [
       "<table><thead><tr><td style=\"white-space: nowrap; max-width: 500px; overflow: hidden; text-overflow: ellipsis; \" colspan=\"1\"><div style=\"text-align: left;\"></div></td><td style=\"white-space: nowrap; max-width: 500px; overflow: hidden; text-overflow: ellipsis; \" colspan=\"1\"><div style=\"text-align: left;\"></div></td></tr><tr><td style=\"white-space: nowrap; max-width: 500px; overflow: hidden; text-overflow: ellipsis; \" colspan=\"1\"><div style=\"text-align: left;border-bottom: solid 2px #000; padding-bottom: 5px\">locus</div></td><td style=\"white-space: nowrap; max-width: 500px; overflow: hidden; text-overflow: ellipsis; \" colspan=\"1\"><div style=\"text-align: left;border-bottom: solid 2px #000; padding-bottom: 5px\">alleles</div></td></tr><tr><td style=\"white-space: nowrap; max-width: 500px; overflow: hidden; text-overflow: ellipsis; text-align: left;\">locus&lt;GRCh37&gt;</td><td style=\"white-space: nowrap; max-width: 500px; overflow: hidden; text-overflow: ellipsis; text-align: left;\">array&lt;str&gt;</td></tr>\n",
       "</thead><tbody><tr><td style=\"white-space: nowrap; max-width: 500px; overflow: hidden; text-overflow: ellipsis; \">1:904165</td><td style=\"white-space: nowrap; max-width: 500px; overflow: hidden; text-overflow: ellipsis; \">[&quot;G&quot;,&quot;A&quot;]</td></tr>\n",
       "<tr><td style=\"white-space: nowrap; max-width: 500px; overflow: hidden; text-overflow: ellipsis; \">1:909917</td><td style=\"white-space: nowrap; max-width: 500px; overflow: hidden; text-overflow: ellipsis; \">[&quot;G&quot;,&quot;A&quot;]</td></tr>\n",
       "<tr><td style=\"white-space: nowrap; max-width: 500px; overflow: hidden; text-overflow: ellipsis; \">1:986963</td><td style=\"white-space: nowrap; max-width: 500px; overflow: hidden; text-overflow: ellipsis; \">[&quot;C&quot;,&quot;T&quot;]</td></tr>\n",
       "<tr><td style=\"white-space: nowrap; max-width: 500px; overflow: hidden; text-overflow: ellipsis; \">1:1563691</td><td style=\"white-space: nowrap; max-width: 500px; overflow: hidden; text-overflow: ellipsis; \">[&quot;T&quot;,&quot;G&quot;]</td></tr>\n",
       "<tr><td style=\"white-space: nowrap; max-width: 500px; overflow: hidden; text-overflow: ellipsis; \">1:1707740</td><td style=\"white-space: nowrap; max-width: 500px; overflow: hidden; text-overflow: ellipsis; \">[&quot;T&quot;,&quot;G&quot;]</td></tr>\n",
       "</tbody></table><p style=\"background: #fdd; padding: 0.4em;\">showing top 5 rows</p>\n"
      ],
      "text/plain": [
       "+---------------+------------+\n",
       "| locus         | alleles    |\n",
       "+---------------+------------+\n",
       "| locus<GRCh37> | array<str> |\n",
       "+---------------+------------+\n",
       "| 1:904165      | [\"G\",\"A\"]  |\n",
       "| 1:909917      | [\"G\",\"A\"]  |\n",
       "| 1:986963      | [\"C\",\"T\"]  |\n",
       "| 1:1563691     | [\"T\",\"G\"]  |\n",
       "| 1:1707740     | [\"T\",\"G\"]  |\n",
       "+---------------+------------+\n",
       "showing top 5 rows"
      ]
     },
     "metadata": {},
     "output_type": "display_data"
    },
    {
     "data": {
      "text/plain": [
       "[Struct(locus=Locus(contig=1, position=904165, reference_genome=GRCh37), alleles=['G', 'A']),\n",
       " Struct(locus=Locus(contig=1, position=909917, reference_genome=GRCh37), alleles=['G', 'A']),\n",
       " Struct(locus=Locus(contig=1, position=986963, reference_genome=GRCh37), alleles=['C', 'T']),\n",
       " Struct(locus=Locus(contig=1, position=1563691, reference_genome=GRCh37), alleles=['T', 'G']),\n",
       " Struct(locus=Locus(contig=1, position=1707740, reference_genome=GRCh37), alleles=['T', 'G'])]"
      ]
     },
     "execution_count": 8,
     "metadata": {},
     "output_type": "execute_result"
    }
   ],
   "source": [
    "mt.rows().show(5) # MatrixTable.rows() → 모든 columns에 대한 값을 포함한 가로(rows) 데이터 출력\n",
    "mt.rows().select().show(5) # show row fields, equivalent of 'mt.row_key.show(5)'\n",
    "mt.rows().select().take(5)"
   ]
  },
  {
   "cell_type": "code",
   "execution_count": 9,
   "id": "a1f0b288",
   "metadata": {},
   "outputs": [
    {
     "data": {
      "text/html": [
       "<table><thead><tr><td style=\"white-space: nowrap; max-width: 500px; overflow: hidden; text-overflow: ellipsis; \" colspan=\"1\"><div style=\"text-align: left;\"></div></td><td style=\"white-space: nowrap; max-width: 500px; overflow: hidden; text-overflow: ellipsis; \" colspan=\"1\"><div style=\"text-align: left;\"></div></td></tr><tr><td style=\"white-space: nowrap; max-width: 500px; overflow: hidden; text-overflow: ellipsis; \" colspan=\"1\"><div style=\"text-align: left;border-bottom: solid 2px #000; padding-bottom: 5px\">locus</div></td><td style=\"white-space: nowrap; max-width: 500px; overflow: hidden; text-overflow: ellipsis; \" colspan=\"1\"><div style=\"text-align: left;border-bottom: solid 2px #000; padding-bottom: 5px\">alleles</div></td></tr><tr><td style=\"white-space: nowrap; max-width: 500px; overflow: hidden; text-overflow: ellipsis; text-align: left;\">locus&lt;GRCh37&gt;</td><td style=\"white-space: nowrap; max-width: 500px; overflow: hidden; text-overflow: ellipsis; text-align: left;\">array&lt;str&gt;</td></tr>\n",
       "</thead><tbody><tr><td style=\"white-space: nowrap; max-width: 500px; overflow: hidden; text-overflow: ellipsis; \">1:904165</td><td style=\"white-space: nowrap; max-width: 500px; overflow: hidden; text-overflow: ellipsis; \">[&quot;G&quot;,&quot;A&quot;]</td></tr>\n",
       "<tr><td style=\"white-space: nowrap; max-width: 500px; overflow: hidden; text-overflow: ellipsis; \">1:909917</td><td style=\"white-space: nowrap; max-width: 500px; overflow: hidden; text-overflow: ellipsis; \">[&quot;G&quot;,&quot;A&quot;]</td></tr>\n",
       "<tr><td style=\"white-space: nowrap; max-width: 500px; overflow: hidden; text-overflow: ellipsis; \">1:986963</td><td style=\"white-space: nowrap; max-width: 500px; overflow: hidden; text-overflow: ellipsis; \">[&quot;C&quot;,&quot;T&quot;]</td></tr>\n",
       "<tr><td style=\"white-space: nowrap; max-width: 500px; overflow: hidden; text-overflow: ellipsis; \">1:1563691</td><td style=\"white-space: nowrap; max-width: 500px; overflow: hidden; text-overflow: ellipsis; \">[&quot;T&quot;,&quot;G&quot;]</td></tr>\n",
       "<tr><td style=\"white-space: nowrap; max-width: 500px; overflow: hidden; text-overflow: ellipsis; \">1:1707740</td><td style=\"white-space: nowrap; max-width: 500px; overflow: hidden; text-overflow: ellipsis; \">[&quot;T&quot;,&quot;G&quot;]</td></tr>\n",
       "</tbody></table><p style=\"background: #fdd; padding: 0.4em;\">showing top 5 rows</p>\n"
      ],
      "text/plain": [
       "+---------------+------------+\n",
       "| locus         | alleles    |\n",
       "+---------------+------------+\n",
       "| locus<GRCh37> | array<str> |\n",
       "+---------------+------------+\n",
       "| 1:904165      | [\"G\",\"A\"]  |\n",
       "| 1:909917      | [\"G\",\"A\"]  |\n",
       "| 1:986963      | [\"C\",\"T\"]  |\n",
       "| 1:1563691     | [\"T\",\"G\"]  |\n",
       "| 1:1707740     | [\"T\",\"G\"]  |\n",
       "+---------------+------------+\n",
       "showing top 5 rows"
      ]
     },
     "metadata": {},
     "output_type": "display_data"
    },
    {
     "data": {
      "text/plain": [
       "[Struct(locus=Locus(contig=1, position=904165, reference_genome=GRCh37), alleles=['G', 'A']),\n",
       " Struct(locus=Locus(contig=1, position=909917, reference_genome=GRCh37), alleles=['G', 'A']),\n",
       " Struct(locus=Locus(contig=1, position=986963, reference_genome=GRCh37), alleles=['C', 'T']),\n",
       " Struct(locus=Locus(contig=1, position=1563691, reference_genome=GRCh37), alleles=['T', 'G']),\n",
       " Struct(locus=Locus(contig=1, position=1707740, reference_genome=GRCh37), alleles=['T', 'G'])]"
      ]
     },
     "execution_count": 9,
     "metadata": {},
     "output_type": "execute_result"
    }
   ],
   "source": [
    "mt.row_key.show(5)\n",
    "mt.row_key.take(5)"
   ]
  },
  {
   "cell_type": "markdown",
   "id": "8db85b40",
   "metadata": {},
   "source": [
    "#### column"
   ]
  },
  {
   "cell_type": "code",
   "execution_count": 10,
   "id": "6cfc73a7",
   "metadata": {},
   "outputs": [
    {
     "data": {
      "text/html": [
       "<table><thead><tr><td style=\"white-space: nowrap; max-width: 500px; overflow: hidden; text-overflow: ellipsis; \" colspan=\"1\"><div style=\"text-align: left;\"></div></td></tr><tr><td style=\"white-space: nowrap; max-width: 500px; overflow: hidden; text-overflow: ellipsis; \" colspan=\"1\"><div style=\"text-align: left;border-bottom: solid 2px #000; padding-bottom: 5px\">s</div></td></tr><tr><td style=\"white-space: nowrap; max-width: 500px; overflow: hidden; text-overflow: ellipsis; text-align: left;\">str</td></tr>\n",
       "</thead><tbody><tr><td style=\"white-space: nowrap; max-width: 500px; overflow: hidden; text-overflow: ellipsis; \">&quot;HG00096&quot;</td></tr>\n",
       "<tr><td style=\"white-space: nowrap; max-width: 500px; overflow: hidden; text-overflow: ellipsis; \">&quot;HG00099&quot;</td></tr>\n",
       "<tr><td style=\"white-space: nowrap; max-width: 500px; overflow: hidden; text-overflow: ellipsis; \">&quot;HG00105&quot;</td></tr>\n",
       "<tr><td style=\"white-space: nowrap; max-width: 500px; overflow: hidden; text-overflow: ellipsis; \">&quot;HG00118&quot;</td></tr>\n",
       "<tr><td style=\"white-space: nowrap; max-width: 500px; overflow: hidden; text-overflow: ellipsis; \">&quot;HG00129&quot;</td></tr>\n",
       "</tbody></table><p style=\"background: #fdd; padding: 0.4em;\">showing top 5 rows</p>\n"
      ],
      "text/plain": [
       "+-----------+\n",
       "| s         |\n",
       "+-----------+\n",
       "| str       |\n",
       "+-----------+\n",
       "| \"HG00096\" |\n",
       "| \"HG00099\" |\n",
       "| \"HG00105\" |\n",
       "| \"HG00118\" |\n",
       "| \"HG00129\" |\n",
       "+-----------+\n",
       "showing top 5 rows"
      ]
     },
     "metadata": {},
     "output_type": "display_data"
    },
    {
     "data": {
      "text/plain": [
       "[Struct(s='HG00096'),\n",
       " Struct(s='HG00099'),\n",
       " Struct(s='HG00105'),\n",
       " Struct(s='HG00118'),\n",
       " Struct(s='HG00129')]"
      ]
     },
     "execution_count": 10,
     "metadata": {},
     "output_type": "execute_result"
    }
   ],
   "source": [
    "mt.s.show(5)\n",
    "mt.col_key.take(5)"
   ]
  },
  {
   "cell_type": "markdown",
   "id": "20451bcc",
   "metadata": {},
   "source": [
    "#### Entry"
   ]
  },
  {
   "cell_type": "code",
   "execution_count": 11,
   "id": "fb3dce4d",
   "metadata": {},
   "outputs": [
    {
     "name": "stderr",
     "output_type": "stream",
     "text": [
      "2021-09-24 03:15:40 Hail: WARN: entries(): Resulting entries table is sorted by '(row_key, col_key)'.\n",
      "    To preserve row-major matrix table order, first unkey columns with 'key_cols_by()'\n"
     ]
    },
    {
     "data": {
      "text/html": [
       "<table><thead><tr><td style=\"white-space: nowrap; max-width: 500px; overflow: hidden; text-overflow: ellipsis; \" colspan=\"1\"><div style=\"text-align: left;\"></div></td><td style=\"white-space: nowrap; max-width: 500px; overflow: hidden; text-overflow: ellipsis; \" colspan=\"1\"><div style=\"text-align: left;\"></div></td><td style=\"white-space: nowrap; max-width: 500px; overflow: hidden; text-overflow: ellipsis; \" colspan=\"1\"><div style=\"text-align: left;\"></div></td><td style=\"white-space: nowrap; max-width: 500px; overflow: hidden; text-overflow: ellipsis; \" colspan=\"1\"><div style=\"text-align: left;\"></div></td><td style=\"white-space: nowrap; max-width: 500px; overflow: hidden; text-overflow: ellipsis; \" colspan=\"1\"><div style=\"text-align: left;\"></div></td><td style=\"white-space: nowrap; max-width: 500px; overflow: hidden; text-overflow: ellipsis; \" colspan=\"18\"><div style=\"text-align: left;\"></div></td><td style=\"white-space: nowrap; max-width: 500px; overflow: hidden; text-overflow: ellipsis; \" colspan=\"1\"><div style=\"text-align: left;\"></div></td><td style=\"white-space: nowrap; max-width: 500px; overflow: hidden; text-overflow: ellipsis; \" colspan=\"1\"><div style=\"text-align: left;\"></div></td><td style=\"white-space: nowrap; max-width: 500px; overflow: hidden; text-overflow: ellipsis; \" colspan=\"1\"><div style=\"text-align: left;\"></div></td><td style=\"white-space: nowrap; max-width: 500px; overflow: hidden; text-overflow: ellipsis; \" colspan=\"1\"><div style=\"text-align: left;\"></div></td><td style=\"white-space: nowrap; max-width: 500px; overflow: hidden; text-overflow: ellipsis; \" colspan=\"1\"><div style=\"text-align: left;\"></div></td><td style=\"white-space: nowrap; max-width: 500px; overflow: hidden; text-overflow: ellipsis; \" colspan=\"1\"><div style=\"text-align: left;\"></div></td></tr><tr><td style=\"white-space: nowrap; max-width: 500px; overflow: hidden; text-overflow: ellipsis; \" colspan=\"1\"><div style=\"text-align: left;\"></div></td><td style=\"white-space: nowrap; max-width: 500px; overflow: hidden; text-overflow: ellipsis; \" colspan=\"1\"><div style=\"text-align: left;\"></div></td><td style=\"white-space: nowrap; max-width: 500px; overflow: hidden; text-overflow: ellipsis; \" colspan=\"1\"><div style=\"text-align: left;\"></div></td><td style=\"white-space: nowrap; max-width: 500px; overflow: hidden; text-overflow: ellipsis; \" colspan=\"1\"><div style=\"text-align: left;\"></div></td><td style=\"white-space: nowrap; max-width: 500px; overflow: hidden; text-overflow: ellipsis; \" colspan=\"1\"><div style=\"text-align: left;\"></div></td><td style=\"white-space: nowrap; max-width: 500px; overflow: hidden; text-overflow: ellipsis; \" colspan=\"18\"><div style=\"text-align: left;border-bottom: solid 2px #000; padding-bottom: 5px\">info</div></td><td style=\"white-space: nowrap; max-width: 500px; overflow: hidden; text-overflow: ellipsis; \" colspan=\"1\"><div style=\"text-align: left;\"></div></td><td style=\"white-space: nowrap; max-width: 500px; overflow: hidden; text-overflow: ellipsis; \" colspan=\"1\"><div style=\"text-align: left;\"></div></td><td style=\"white-space: nowrap; max-width: 500px; overflow: hidden; text-overflow: ellipsis; \" colspan=\"1\"><div style=\"text-align: left;\"></div></td><td style=\"white-space: nowrap; max-width: 500px; overflow: hidden; text-overflow: ellipsis; \" colspan=\"1\"><div style=\"text-align: left;\"></div></td><td style=\"white-space: nowrap; max-width: 500px; overflow: hidden; text-overflow: ellipsis; \" colspan=\"1\"><div style=\"text-align: left;\"></div></td><td style=\"white-space: nowrap; max-width: 500px; overflow: hidden; text-overflow: ellipsis; \" colspan=\"1\"><div style=\"text-align: left;\"></div></td></tr><tr><td style=\"white-space: nowrap; max-width: 500px; overflow: hidden; text-overflow: ellipsis; \" colspan=\"1\"><div style=\"text-align: left;border-bottom: solid 2px #000; padding-bottom: 5px\">locus</div></td><td style=\"white-space: nowrap; max-width: 500px; overflow: hidden; text-overflow: ellipsis; \" colspan=\"1\"><div style=\"text-align: left;border-bottom: solid 2px #000; padding-bottom: 5px\">alleles</div></td><td style=\"white-space: nowrap; max-width: 500px; overflow: hidden; text-overflow: ellipsis; \" colspan=\"1\"><div style=\"text-align: left;border-bottom: solid 2px #000; padding-bottom: 5px\">rsid</div></td><td style=\"white-space: nowrap; max-width: 500px; overflow: hidden; text-overflow: ellipsis; \" colspan=\"1\"><div style=\"text-align: left;border-bottom: solid 2px #000; padding-bottom: 5px\">qual</div></td><td style=\"white-space: nowrap; max-width: 500px; overflow: hidden; text-overflow: ellipsis; \" colspan=\"1\"><div style=\"text-align: left;border-bottom: solid 2px #000; padding-bottom: 5px\">filters</div></td><td style=\"white-space: nowrap; max-width: 500px; overflow: hidden; text-overflow: ellipsis; \" colspan=\"1\"><div style=\"text-align: left;border-bottom: solid 2px #000; padding-bottom: 5px\">AC</div></td><td style=\"white-space: nowrap; max-width: 500px; overflow: hidden; text-overflow: ellipsis; \" colspan=\"1\"><div style=\"text-align: left;border-bottom: solid 2px #000; padding-bottom: 5px\">AF</div></td><td style=\"white-space: nowrap; max-width: 500px; overflow: hidden; text-overflow: ellipsis; \" colspan=\"1\"><div style=\"text-align: left;border-bottom: solid 2px #000; padding-bottom: 5px\">AN</div></td><td style=\"white-space: nowrap; max-width: 500px; overflow: hidden; text-overflow: ellipsis; \" colspan=\"1\"><div style=\"text-align: left;border-bottom: solid 2px #000; padding-bottom: 5px\">BaseQRankSum</div></td><td style=\"white-space: nowrap; max-width: 500px; overflow: hidden; text-overflow: ellipsis; \" colspan=\"1\"><div style=\"text-align: left;border-bottom: solid 2px #000; padding-bottom: 5px\">ClippingRankSum</div></td><td style=\"white-space: nowrap; max-width: 500px; overflow: hidden; text-overflow: ellipsis; \" colspan=\"1\"><div style=\"text-align: left;border-bottom: solid 2px #000; padding-bottom: 5px\">DP</div></td><td style=\"white-space: nowrap; max-width: 500px; overflow: hidden; text-overflow: ellipsis; \" colspan=\"1\"><div style=\"text-align: left;border-bottom: solid 2px #000; padding-bottom: 5px\">DS</div></td><td style=\"white-space: nowrap; max-width: 500px; overflow: hidden; text-overflow: ellipsis; \" colspan=\"1\"><div style=\"text-align: left;border-bottom: solid 2px #000; padding-bottom: 5px\">FS</div></td><td style=\"white-space: nowrap; max-width: 500px; overflow: hidden; text-overflow: ellipsis; \" colspan=\"1\"><div style=\"text-align: left;border-bottom: solid 2px #000; padding-bottom: 5px\">HaplotypeScore</div></td><td style=\"white-space: nowrap; max-width: 500px; overflow: hidden; text-overflow: ellipsis; \" colspan=\"1\"><div style=\"text-align: left;border-bottom: solid 2px #000; padding-bottom: 5px\">InbreedingCoeff</div></td><td style=\"white-space: nowrap; max-width: 500px; overflow: hidden; text-overflow: ellipsis; \" colspan=\"1\"><div style=\"text-align: left;border-bottom: solid 2px #000; padding-bottom: 5px\">MLEAC</div></td><td style=\"white-space: nowrap; max-width: 500px; overflow: hidden; text-overflow: ellipsis; \" colspan=\"1\"><div style=\"text-align: left;border-bottom: solid 2px #000; padding-bottom: 5px\">MLEAF</div></td><td style=\"white-space: nowrap; max-width: 500px; overflow: hidden; text-overflow: ellipsis; \" colspan=\"1\"><div style=\"text-align: left;border-bottom: solid 2px #000; padding-bottom: 5px\">MQ</div></td><td style=\"white-space: nowrap; max-width: 500px; overflow: hidden; text-overflow: ellipsis; \" colspan=\"1\"><div style=\"text-align: left;border-bottom: solid 2px #000; padding-bottom: 5px\">MQ0</div></td><td style=\"white-space: nowrap; max-width: 500px; overflow: hidden; text-overflow: ellipsis; \" colspan=\"1\"><div style=\"text-align: left;border-bottom: solid 2px #000; padding-bottom: 5px\">MQRankSum</div></td><td style=\"white-space: nowrap; max-width: 500px; overflow: hidden; text-overflow: ellipsis; \" colspan=\"1\"><div style=\"text-align: left;border-bottom: solid 2px #000; padding-bottom: 5px\">QD</div></td><td style=\"white-space: nowrap; max-width: 500px; overflow: hidden; text-overflow: ellipsis; \" colspan=\"1\"><div style=\"text-align: left;border-bottom: solid 2px #000; padding-bottom: 5px\">ReadPosRankSum</div></td><td style=\"white-space: nowrap; max-width: 500px; overflow: hidden; text-overflow: ellipsis; \" colspan=\"1\"><div style=\"text-align: left;border-bottom: solid 2px #000; padding-bottom: 5px\">set</div></td><td style=\"white-space: nowrap; max-width: 500px; overflow: hidden; text-overflow: ellipsis; \" colspan=\"1\"><div style=\"text-align: left;border-bottom: solid 2px #000; padding-bottom: 5px\">s</div></td><td style=\"white-space: nowrap; max-width: 500px; overflow: hidden; text-overflow: ellipsis; \" colspan=\"1\"><div style=\"text-align: left;border-bottom: solid 2px #000; padding-bottom: 5px\">GT</div></td><td style=\"white-space: nowrap; max-width: 500px; overflow: hidden; text-overflow: ellipsis; \" colspan=\"1\"><div style=\"text-align: left;border-bottom: solid 2px #000; padding-bottom: 5px\">AD</div></td><td style=\"white-space: nowrap; max-width: 500px; overflow: hidden; text-overflow: ellipsis; \" colspan=\"1\"><div style=\"text-align: left;border-bottom: solid 2px #000; padding-bottom: 5px\">DP</div></td><td style=\"white-space: nowrap; max-width: 500px; overflow: hidden; text-overflow: ellipsis; \" colspan=\"1\"><div style=\"text-align: left;border-bottom: solid 2px #000; padding-bottom: 5px\">GQ</div></td><td style=\"white-space: nowrap; max-width: 500px; overflow: hidden; text-overflow: ellipsis; \" colspan=\"1\"><div style=\"text-align: left;border-bottom: solid 2px #000; padding-bottom: 5px\">PL</div></td></tr><tr><td style=\"white-space: nowrap; max-width: 500px; overflow: hidden; text-overflow: ellipsis; text-align: left;\">locus&lt;GRCh37&gt;</td><td style=\"white-space: nowrap; max-width: 500px; overflow: hidden; text-overflow: ellipsis; text-align: left;\">array&lt;str&gt;</td><td style=\"white-space: nowrap; max-width: 500px; overflow: hidden; text-overflow: ellipsis; text-align: left;\">str</td><td style=\"white-space: nowrap; max-width: 500px; overflow: hidden; text-overflow: ellipsis; text-align: left;\">float64</td><td style=\"white-space: nowrap; max-width: 500px; overflow: hidden; text-overflow: ellipsis; text-align: left;\">set&lt;str&gt;</td><td style=\"white-space: nowrap; max-width: 500px; overflow: hidden; text-overflow: ellipsis; text-align: left;\">array&lt;int32&gt;</td><td style=\"white-space: nowrap; max-width: 500px; overflow: hidden; text-overflow: ellipsis; text-align: left;\">array&lt;float64&gt;</td><td style=\"white-space: nowrap; max-width: 500px; overflow: hidden; text-overflow: ellipsis; text-align: left;\">int32</td><td style=\"white-space: nowrap; max-width: 500px; overflow: hidden; text-overflow: ellipsis; text-align: left;\">float64</td><td style=\"white-space: nowrap; max-width: 500px; overflow: hidden; text-overflow: ellipsis; text-align: left;\">float64</td><td style=\"white-space: nowrap; max-width: 500px; overflow: hidden; text-overflow: ellipsis; text-align: left;\">int32</td><td style=\"white-space: nowrap; max-width: 500px; overflow: hidden; text-overflow: ellipsis; text-align: left;\">bool</td><td style=\"white-space: nowrap; max-width: 500px; overflow: hidden; text-overflow: ellipsis; text-align: left;\">float64</td><td style=\"white-space: nowrap; max-width: 500px; overflow: hidden; text-overflow: ellipsis; text-align: left;\">float64</td><td style=\"white-space: nowrap; max-width: 500px; overflow: hidden; text-overflow: ellipsis; text-align: left;\">float64</td><td style=\"white-space: nowrap; max-width: 500px; overflow: hidden; text-overflow: ellipsis; text-align: left;\">array&lt;int32&gt;</td><td style=\"white-space: nowrap; max-width: 500px; overflow: hidden; text-overflow: ellipsis; text-align: left;\">array&lt;float64&gt;</td><td style=\"white-space: nowrap; max-width: 500px; overflow: hidden; text-overflow: ellipsis; text-align: left;\">float64</td><td style=\"white-space: nowrap; max-width: 500px; overflow: hidden; text-overflow: ellipsis; text-align: left;\">int32</td><td style=\"white-space: nowrap; max-width: 500px; overflow: hidden; text-overflow: ellipsis; text-align: left;\">float64</td><td style=\"white-space: nowrap; max-width: 500px; overflow: hidden; text-overflow: ellipsis; text-align: left;\">float64</td><td style=\"white-space: nowrap; max-width: 500px; overflow: hidden; text-overflow: ellipsis; text-align: left;\">float64</td><td style=\"white-space: nowrap; max-width: 500px; overflow: hidden; text-overflow: ellipsis; text-align: left;\">str</td><td style=\"white-space: nowrap; max-width: 500px; overflow: hidden; text-overflow: ellipsis; text-align: left;\">str</td><td style=\"white-space: nowrap; max-width: 500px; overflow: hidden; text-overflow: ellipsis; text-align: left;\">call</td><td style=\"white-space: nowrap; max-width: 500px; overflow: hidden; text-overflow: ellipsis; text-align: left;\">array&lt;int32&gt;</td><td style=\"white-space: nowrap; max-width: 500px; overflow: hidden; text-overflow: ellipsis; text-align: left;\">int32</td><td style=\"white-space: nowrap; max-width: 500px; overflow: hidden; text-overflow: ellipsis; text-align: left;\">int32</td><td style=\"white-space: nowrap; max-width: 500px; overflow: hidden; text-overflow: ellipsis; text-align: left;\">array&lt;int32&gt;</td></tr>\n",
       "</thead><tbody><tr><td style=\"white-space: nowrap; max-width: 500px; overflow: hidden; text-overflow: ellipsis; \">1:904165</td><td style=\"white-space: nowrap; max-width: 500px; overflow: hidden; text-overflow: ellipsis; \">[&quot;G&quot;,&quot;A&quot;]</td><td style=\"white-space: nowrap; max-width: 500px; overflow: hidden; text-overflow: ellipsis; \">NA</td><td style=\"white-space: nowrap; max-width: 500px; overflow: hidden; text-overflow: ellipsis; \">5.23e+04</td><td style=\"white-space: nowrap; max-width: 500px; overflow: hidden; text-overflow: ellipsis; \">NA</td><td style=\"white-space: nowrap; max-width: 500px; overflow: hidden; text-overflow: ellipsis; \">[518]</td><td style=\"white-space: nowrap; max-width: 500px; overflow: hidden; text-overflow: ellipsis; \">[1.03e-01]</td><td style=\"white-space: nowrap; max-width: 500px; overflow: hidden; text-overflow: ellipsis; \">5020</td><td style=\"white-space: nowrap; max-width: 500px; overflow: hidden; text-overflow: ellipsis; \">-3.39e+00</td><td style=\"white-space: nowrap; max-width: 500px; overflow: hidden; text-overflow: ellipsis; \">-1.70e-01</td><td style=\"white-space: nowrap; max-width: 500px; overflow: hidden; text-overflow: ellipsis; \">17827</td><td style=\"white-space: nowrap; max-width: 500px; overflow: hidden; text-overflow: ellipsis; \">false</td><td style=\"white-space: nowrap; max-width: 500px; overflow: hidden; text-overflow: ellipsis; \">2.23e+00</td><td style=\"white-space: nowrap; max-width: 500px; overflow: hidden; text-overflow: ellipsis; \">NA</td><td style=\"white-space: nowrap; max-width: 500px; overflow: hidden; text-overflow: ellipsis; \">9.88e-02</td><td style=\"white-space: nowrap; max-width: 500px; overflow: hidden; text-overflow: ellipsis; \">[514]</td><td style=\"white-space: nowrap; max-width: 500px; overflow: hidden; text-overflow: ellipsis; \">[1.02e-01]</td><td style=\"white-space: nowrap; max-width: 500px; overflow: hidden; text-overflow: ellipsis; \">5.91e+01</td><td style=\"white-space: nowrap; max-width: 500px; overflow: hidden; text-overflow: ellipsis; \">0</td><td style=\"white-space: nowrap; max-width: 500px; overflow: hidden; text-overflow: ellipsis; \">1.45e+00</td><td style=\"white-space: nowrap; max-width: 500px; overflow: hidden; text-overflow: ellipsis; \">1.50e+01</td><td style=\"white-space: nowrap; max-width: 500px; overflow: hidden; text-overflow: ellipsis; \">6.29e+00</td><td style=\"white-space: nowrap; max-width: 500px; overflow: hidden; text-overflow: ellipsis; \">NA</td><td style=\"white-space: nowrap; max-width: 500px; overflow: hidden; text-overflow: ellipsis; \">&quot;HG00096&quot;</td><td style=\"white-space: nowrap; max-width: 500px; overflow: hidden; text-overflow: ellipsis; \">0/0</td><td style=\"white-space: nowrap; max-width: 500px; overflow: hidden; text-overflow: ellipsis; \">[4,0]</td><td style=\"white-space: nowrap; max-width: 500px; overflow: hidden; text-overflow: ellipsis; \">4</td><td style=\"white-space: nowrap; max-width: 500px; overflow: hidden; text-overflow: ellipsis; \">12</td><td style=\"white-space: nowrap; max-width: 500px; overflow: hidden; text-overflow: ellipsis; \">[0,12,147]</td></tr>\n",
       "<tr><td style=\"white-space: nowrap; max-width: 500px; overflow: hidden; text-overflow: ellipsis; \">1:904165</td><td style=\"white-space: nowrap; max-width: 500px; overflow: hidden; text-overflow: ellipsis; \">[&quot;G&quot;,&quot;A&quot;]</td><td style=\"white-space: nowrap; max-width: 500px; overflow: hidden; text-overflow: ellipsis; \">NA</td><td style=\"white-space: nowrap; max-width: 500px; overflow: hidden; text-overflow: ellipsis; \">5.23e+04</td><td style=\"white-space: nowrap; max-width: 500px; overflow: hidden; text-overflow: ellipsis; \">NA</td><td style=\"white-space: nowrap; max-width: 500px; overflow: hidden; text-overflow: ellipsis; \">[518]</td><td style=\"white-space: nowrap; max-width: 500px; overflow: hidden; text-overflow: ellipsis; \">[1.03e-01]</td><td style=\"white-space: nowrap; max-width: 500px; overflow: hidden; text-overflow: ellipsis; \">5020</td><td style=\"white-space: nowrap; max-width: 500px; overflow: hidden; text-overflow: ellipsis; \">-3.39e+00</td><td style=\"white-space: nowrap; max-width: 500px; overflow: hidden; text-overflow: ellipsis; \">-1.70e-01</td><td style=\"white-space: nowrap; max-width: 500px; overflow: hidden; text-overflow: ellipsis; \">17827</td><td style=\"white-space: nowrap; max-width: 500px; overflow: hidden; text-overflow: ellipsis; \">false</td><td style=\"white-space: nowrap; max-width: 500px; overflow: hidden; text-overflow: ellipsis; \">2.23e+00</td><td style=\"white-space: nowrap; max-width: 500px; overflow: hidden; text-overflow: ellipsis; \">NA</td><td style=\"white-space: nowrap; max-width: 500px; overflow: hidden; text-overflow: ellipsis; \">9.88e-02</td><td style=\"white-space: nowrap; max-width: 500px; overflow: hidden; text-overflow: ellipsis; \">[514]</td><td style=\"white-space: nowrap; max-width: 500px; overflow: hidden; text-overflow: ellipsis; \">[1.02e-01]</td><td style=\"white-space: nowrap; max-width: 500px; overflow: hidden; text-overflow: ellipsis; \">5.91e+01</td><td style=\"white-space: nowrap; max-width: 500px; overflow: hidden; text-overflow: ellipsis; \">0</td><td style=\"white-space: nowrap; max-width: 500px; overflow: hidden; text-overflow: ellipsis; \">1.45e+00</td><td style=\"white-space: nowrap; max-width: 500px; overflow: hidden; text-overflow: ellipsis; \">1.50e+01</td><td style=\"white-space: nowrap; max-width: 500px; overflow: hidden; text-overflow: ellipsis; \">6.29e+00</td><td style=\"white-space: nowrap; max-width: 500px; overflow: hidden; text-overflow: ellipsis; \">NA</td><td style=\"white-space: nowrap; max-width: 500px; overflow: hidden; text-overflow: ellipsis; \">&quot;HG00099&quot;</td><td style=\"white-space: nowrap; max-width: 500px; overflow: hidden; text-overflow: ellipsis; \">0/0</td><td style=\"white-space: nowrap; max-width: 500px; overflow: hidden; text-overflow: ellipsis; \">[8,0]</td><td style=\"white-space: nowrap; max-width: 500px; overflow: hidden; text-overflow: ellipsis; \">8</td><td style=\"white-space: nowrap; max-width: 500px; overflow: hidden; text-overflow: ellipsis; \">24</td><td style=\"white-space: nowrap; max-width: 500px; overflow: hidden; text-overflow: ellipsis; \">[0,24,315]</td></tr>\n",
       "<tr><td style=\"white-space: nowrap; max-width: 500px; overflow: hidden; text-overflow: ellipsis; \">1:904165</td><td style=\"white-space: nowrap; max-width: 500px; overflow: hidden; text-overflow: ellipsis; \">[&quot;G&quot;,&quot;A&quot;]</td><td style=\"white-space: nowrap; max-width: 500px; overflow: hidden; text-overflow: ellipsis; \">NA</td><td style=\"white-space: nowrap; max-width: 500px; overflow: hidden; text-overflow: ellipsis; \">5.23e+04</td><td style=\"white-space: nowrap; max-width: 500px; overflow: hidden; text-overflow: ellipsis; \">NA</td><td style=\"white-space: nowrap; max-width: 500px; overflow: hidden; text-overflow: ellipsis; \">[518]</td><td style=\"white-space: nowrap; max-width: 500px; overflow: hidden; text-overflow: ellipsis; \">[1.03e-01]</td><td style=\"white-space: nowrap; max-width: 500px; overflow: hidden; text-overflow: ellipsis; \">5020</td><td style=\"white-space: nowrap; max-width: 500px; overflow: hidden; text-overflow: ellipsis; \">-3.39e+00</td><td style=\"white-space: nowrap; max-width: 500px; overflow: hidden; text-overflow: ellipsis; \">-1.70e-01</td><td style=\"white-space: nowrap; max-width: 500px; overflow: hidden; text-overflow: ellipsis; \">17827</td><td style=\"white-space: nowrap; max-width: 500px; overflow: hidden; text-overflow: ellipsis; \">false</td><td style=\"white-space: nowrap; max-width: 500px; overflow: hidden; text-overflow: ellipsis; \">2.23e+00</td><td style=\"white-space: nowrap; max-width: 500px; overflow: hidden; text-overflow: ellipsis; \">NA</td><td style=\"white-space: nowrap; max-width: 500px; overflow: hidden; text-overflow: ellipsis; \">9.88e-02</td><td style=\"white-space: nowrap; max-width: 500px; overflow: hidden; text-overflow: ellipsis; \">[514]</td><td style=\"white-space: nowrap; max-width: 500px; overflow: hidden; text-overflow: ellipsis; \">[1.02e-01]</td><td style=\"white-space: nowrap; max-width: 500px; overflow: hidden; text-overflow: ellipsis; \">5.91e+01</td><td style=\"white-space: nowrap; max-width: 500px; overflow: hidden; text-overflow: ellipsis; \">0</td><td style=\"white-space: nowrap; max-width: 500px; overflow: hidden; text-overflow: ellipsis; \">1.45e+00</td><td style=\"white-space: nowrap; max-width: 500px; overflow: hidden; text-overflow: ellipsis; \">1.50e+01</td><td style=\"white-space: nowrap; max-width: 500px; overflow: hidden; text-overflow: ellipsis; \">6.29e+00</td><td style=\"white-space: nowrap; max-width: 500px; overflow: hidden; text-overflow: ellipsis; \">NA</td><td style=\"white-space: nowrap; max-width: 500px; overflow: hidden; text-overflow: ellipsis; \">&quot;HG00105&quot;</td><td style=\"white-space: nowrap; max-width: 500px; overflow: hidden; text-overflow: ellipsis; \">0/0</td><td style=\"white-space: nowrap; max-width: 500px; overflow: hidden; text-overflow: ellipsis; \">[8,0]</td><td style=\"white-space: nowrap; max-width: 500px; overflow: hidden; text-overflow: ellipsis; \">8</td><td style=\"white-space: nowrap; max-width: 500px; overflow: hidden; text-overflow: ellipsis; \">23</td><td style=\"white-space: nowrap; max-width: 500px; overflow: hidden; text-overflow: ellipsis; \">[0,23,230]</td></tr>\n",
       "<tr><td style=\"white-space: nowrap; max-width: 500px; overflow: hidden; text-overflow: ellipsis; \">1:904165</td><td style=\"white-space: nowrap; max-width: 500px; overflow: hidden; text-overflow: ellipsis; \">[&quot;G&quot;,&quot;A&quot;]</td><td style=\"white-space: nowrap; max-width: 500px; overflow: hidden; text-overflow: ellipsis; \">NA</td><td style=\"white-space: nowrap; max-width: 500px; overflow: hidden; text-overflow: ellipsis; \">5.23e+04</td><td style=\"white-space: nowrap; max-width: 500px; overflow: hidden; text-overflow: ellipsis; \">NA</td><td style=\"white-space: nowrap; max-width: 500px; overflow: hidden; text-overflow: ellipsis; \">[518]</td><td style=\"white-space: nowrap; max-width: 500px; overflow: hidden; text-overflow: ellipsis; \">[1.03e-01]</td><td style=\"white-space: nowrap; max-width: 500px; overflow: hidden; text-overflow: ellipsis; \">5020</td><td style=\"white-space: nowrap; max-width: 500px; overflow: hidden; text-overflow: ellipsis; \">-3.39e+00</td><td style=\"white-space: nowrap; max-width: 500px; overflow: hidden; text-overflow: ellipsis; \">-1.70e-01</td><td style=\"white-space: nowrap; max-width: 500px; overflow: hidden; text-overflow: ellipsis; \">17827</td><td style=\"white-space: nowrap; max-width: 500px; overflow: hidden; text-overflow: ellipsis; \">false</td><td style=\"white-space: nowrap; max-width: 500px; overflow: hidden; text-overflow: ellipsis; \">2.23e+00</td><td style=\"white-space: nowrap; max-width: 500px; overflow: hidden; text-overflow: ellipsis; \">NA</td><td style=\"white-space: nowrap; max-width: 500px; overflow: hidden; text-overflow: ellipsis; \">9.88e-02</td><td style=\"white-space: nowrap; max-width: 500px; overflow: hidden; text-overflow: ellipsis; \">[514]</td><td style=\"white-space: nowrap; max-width: 500px; overflow: hidden; text-overflow: ellipsis; \">[1.02e-01]</td><td style=\"white-space: nowrap; max-width: 500px; overflow: hidden; text-overflow: ellipsis; \">5.91e+01</td><td style=\"white-space: nowrap; max-width: 500px; overflow: hidden; text-overflow: ellipsis; \">0</td><td style=\"white-space: nowrap; max-width: 500px; overflow: hidden; text-overflow: ellipsis; \">1.45e+00</td><td style=\"white-space: nowrap; max-width: 500px; overflow: hidden; text-overflow: ellipsis; \">1.50e+01</td><td style=\"white-space: nowrap; max-width: 500px; overflow: hidden; text-overflow: ellipsis; \">6.29e+00</td><td style=\"white-space: nowrap; max-width: 500px; overflow: hidden; text-overflow: ellipsis; \">NA</td><td style=\"white-space: nowrap; max-width: 500px; overflow: hidden; text-overflow: ellipsis; \">&quot;HG00118&quot;</td><td style=\"white-space: nowrap; max-width: 500px; overflow: hidden; text-overflow: ellipsis; \">0/0</td><td style=\"white-space: nowrap; max-width: 500px; overflow: hidden; text-overflow: ellipsis; \">[7,0]</td><td style=\"white-space: nowrap; max-width: 500px; overflow: hidden; text-overflow: ellipsis; \">7</td><td style=\"white-space: nowrap; max-width: 500px; overflow: hidden; text-overflow: ellipsis; \">21</td><td style=\"white-space: nowrap; max-width: 500px; overflow: hidden; text-overflow: ellipsis; \">[0,21,270]</td></tr>\n",
       "<tr><td style=\"white-space: nowrap; max-width: 500px; overflow: hidden; text-overflow: ellipsis; \">1:904165</td><td style=\"white-space: nowrap; max-width: 500px; overflow: hidden; text-overflow: ellipsis; \">[&quot;G&quot;,&quot;A&quot;]</td><td style=\"white-space: nowrap; max-width: 500px; overflow: hidden; text-overflow: ellipsis; \">NA</td><td style=\"white-space: nowrap; max-width: 500px; overflow: hidden; text-overflow: ellipsis; \">5.23e+04</td><td style=\"white-space: nowrap; max-width: 500px; overflow: hidden; text-overflow: ellipsis; \">NA</td><td style=\"white-space: nowrap; max-width: 500px; overflow: hidden; text-overflow: ellipsis; \">[518]</td><td style=\"white-space: nowrap; max-width: 500px; overflow: hidden; text-overflow: ellipsis; \">[1.03e-01]</td><td style=\"white-space: nowrap; max-width: 500px; overflow: hidden; text-overflow: ellipsis; \">5020</td><td style=\"white-space: nowrap; max-width: 500px; overflow: hidden; text-overflow: ellipsis; \">-3.39e+00</td><td style=\"white-space: nowrap; max-width: 500px; overflow: hidden; text-overflow: ellipsis; \">-1.70e-01</td><td style=\"white-space: nowrap; max-width: 500px; overflow: hidden; text-overflow: ellipsis; \">17827</td><td style=\"white-space: nowrap; max-width: 500px; overflow: hidden; text-overflow: ellipsis; \">false</td><td style=\"white-space: nowrap; max-width: 500px; overflow: hidden; text-overflow: ellipsis; \">2.23e+00</td><td style=\"white-space: nowrap; max-width: 500px; overflow: hidden; text-overflow: ellipsis; \">NA</td><td style=\"white-space: nowrap; max-width: 500px; overflow: hidden; text-overflow: ellipsis; \">9.88e-02</td><td style=\"white-space: nowrap; max-width: 500px; overflow: hidden; text-overflow: ellipsis; \">[514]</td><td style=\"white-space: nowrap; max-width: 500px; overflow: hidden; text-overflow: ellipsis; \">[1.02e-01]</td><td style=\"white-space: nowrap; max-width: 500px; overflow: hidden; text-overflow: ellipsis; \">5.91e+01</td><td style=\"white-space: nowrap; max-width: 500px; overflow: hidden; text-overflow: ellipsis; \">0</td><td style=\"white-space: nowrap; max-width: 500px; overflow: hidden; text-overflow: ellipsis; \">1.45e+00</td><td style=\"white-space: nowrap; max-width: 500px; overflow: hidden; text-overflow: ellipsis; \">1.50e+01</td><td style=\"white-space: nowrap; max-width: 500px; overflow: hidden; text-overflow: ellipsis; \">6.29e+00</td><td style=\"white-space: nowrap; max-width: 500px; overflow: hidden; text-overflow: ellipsis; \">NA</td><td style=\"white-space: nowrap; max-width: 500px; overflow: hidden; text-overflow: ellipsis; \">&quot;HG00129&quot;</td><td style=\"white-space: nowrap; max-width: 500px; overflow: hidden; text-overflow: ellipsis; \">0/0</td><td style=\"white-space: nowrap; max-width: 500px; overflow: hidden; text-overflow: ellipsis; \">[5,0]</td><td style=\"white-space: nowrap; max-width: 500px; overflow: hidden; text-overflow: ellipsis; \">5</td><td style=\"white-space: nowrap; max-width: 500px; overflow: hidden; text-overflow: ellipsis; \">15</td><td style=\"white-space: nowrap; max-width: 500px; overflow: hidden; text-overflow: ellipsis; \">[0,15,205]</td></tr>\n",
       "</tbody></table><p style=\"background: #fdd; padding: 0.4em;\">showing top 5 rows</p>\n"
      ],
      "text/plain": [
       "+---------------+------------+------+----------+----------+--------------+\n",
       "| locus         | alleles    | rsid |     qual | filters  | info.AC      |\n",
       "+---------------+------------+------+----------+----------+--------------+\n",
       "| locus<GRCh37> | array<str> | str  |  float64 | set<str> | array<int32> |\n",
       "+---------------+------------+------+----------+----------+--------------+\n",
       "| 1:904165      | [\"G\",\"A\"]  | NA   | 5.23e+04 | NA       | [518]        |\n",
       "| 1:904165      | [\"G\",\"A\"]  | NA   | 5.23e+04 | NA       | [518]        |\n",
       "| 1:904165      | [\"G\",\"A\"]  | NA   | 5.23e+04 | NA       | [518]        |\n",
       "| 1:904165      | [\"G\",\"A\"]  | NA   | 5.23e+04 | NA       | [518]        |\n",
       "| 1:904165      | [\"G\",\"A\"]  | NA   | 5.23e+04 | NA       | [518]        |\n",
       "+---------------+------------+------+----------+----------+--------------+\n",
       "\n",
       "+----------------+---------+-------------------+----------------------+\n",
       "| info.AF        | info.AN | info.BaseQRankSum | info.ClippingRankSum |\n",
       "+----------------+---------+-------------------+----------------------+\n",
       "| array<float64> |   int32 |           float64 |              float64 |\n",
       "+----------------+---------+-------------------+----------------------+\n",
       "| [1.03e-01]     |    5020 |         -3.39e+00 |            -1.70e-01 |\n",
       "| [1.03e-01]     |    5020 |         -3.39e+00 |            -1.70e-01 |\n",
       "| [1.03e-01]     |    5020 |         -3.39e+00 |            -1.70e-01 |\n",
       "| [1.03e-01]     |    5020 |         -3.39e+00 |            -1.70e-01 |\n",
       "| [1.03e-01]     |    5020 |         -3.39e+00 |            -1.70e-01 |\n",
       "+----------------+---------+-------------------+----------------------+\n",
       "\n",
       "+---------+---------+----------+---------------------+----------------------+\n",
       "| info.DP | info.DS |  info.FS | info.HaplotypeScore | info.InbreedingCoeff |\n",
       "+---------+---------+----------+---------------------+----------------------+\n",
       "|   int32 |    bool |  float64 |             float64 |              float64 |\n",
       "+---------+---------+----------+---------------------+----------------------+\n",
       "|   17827 |   false | 2.23e+00 |                  NA |             9.88e-02 |\n",
       "|   17827 |   false | 2.23e+00 |                  NA |             9.88e-02 |\n",
       "|   17827 |   false | 2.23e+00 |                  NA |             9.88e-02 |\n",
       "|   17827 |   false | 2.23e+00 |                  NA |             9.88e-02 |\n",
       "|   17827 |   false | 2.23e+00 |                  NA |             9.88e-02 |\n",
       "+---------+---------+----------+---------------------+----------------------+\n",
       "\n",
       "+--------------+----------------+----------+----------+----------------+\n",
       "| info.MLEAC   | info.MLEAF     |  info.MQ | info.MQ0 | info.MQRankSum |\n",
       "+--------------+----------------+----------+----------+----------------+\n",
       "| array<int32> | array<float64> |  float64 |    int32 |        float64 |\n",
       "+--------------+----------------+----------+----------+----------------+\n",
       "| [514]        | [1.02e-01]     | 5.91e+01 |        0 |       1.45e+00 |\n",
       "| [514]        | [1.02e-01]     | 5.91e+01 |        0 |       1.45e+00 |\n",
       "| [514]        | [1.02e-01]     | 5.91e+01 |        0 |       1.45e+00 |\n",
       "| [514]        | [1.02e-01]     | 5.91e+01 |        0 |       1.45e+00 |\n",
       "| [514]        | [1.02e-01]     | 5.91e+01 |        0 |       1.45e+00 |\n",
       "+--------------+----------------+----------+----------+----------------+\n",
       "\n",
       "+----------+---------------------+----------+-----------+------+--------------+\n",
       "|  info.QD | info.ReadPosRankSum | info.set | s         | GT   | AD           |\n",
       "+----------+---------------------+----------+-----------+------+--------------+\n",
       "|  float64 |             float64 | str      | str       | call | array<int32> |\n",
       "+----------+---------------------+----------+-----------+------+--------------+\n",
       "| 1.50e+01 |            6.29e+00 | NA       | \"HG00096\" | 0/0  | [4,0]        |\n",
       "| 1.50e+01 |            6.29e+00 | NA       | \"HG00099\" | 0/0  | [8,0]        |\n",
       "| 1.50e+01 |            6.29e+00 | NA       | \"HG00105\" | 0/0  | [8,0]        |\n",
       "| 1.50e+01 |            6.29e+00 | NA       | \"HG00118\" | 0/0  | [7,0]        |\n",
       "| 1.50e+01 |            6.29e+00 | NA       | \"HG00129\" | 0/0  | [5,0]        |\n",
       "+----------+---------------------+----------+-----------+------+--------------+\n",
       "\n",
       "+-------+-------+--------------+\n",
       "|    DP |    GQ | PL           |\n",
       "+-------+-------+--------------+\n",
       "| int32 | int32 | array<int32> |\n",
       "+-------+-------+--------------+\n",
       "|     4 |    12 | [0,12,147]   |\n",
       "|     8 |    24 | [0,24,315]   |\n",
       "|     8 |    23 | [0,23,230]   |\n",
       "|     7 |    21 | [0,21,270]   |\n",
       "|     5 |    15 | [0,15,205]   |\n",
       "+-------+-------+--------------+\n",
       "showing top 5 rows"
      ]
     },
     "metadata": {},
     "output_type": "display_data"
    }
   ],
   "source": [
    "mt.entries().show(5)"
   ]
  },
  {
   "cell_type": "code",
   "execution_count": 12,
   "id": "64ea2421",
   "metadata": {},
   "outputs": [
    {
     "data": {
      "text/plain": [
       "[Struct(GT=Call(alleles=[0, 0], phased=False), AD=[4, 0], DP=4, GQ=12, PL=[0, 12, 147]),\n",
       " Struct(GT=Call(alleles=[0, 0], phased=False), AD=[8, 0], DP=8, GQ=24, PL=[0, 24, 315]),\n",
       " Struct(GT=Call(alleles=[0, 0], phased=False), AD=[8, 0], DP=8, GQ=23, PL=[0, 23, 230]),\n",
       " Struct(GT=Call(alleles=[0, 0], phased=False), AD=[7, 0], DP=7, GQ=21, PL=[0, 21, 270]),\n",
       " Struct(GT=Call(alleles=[0, 0], phased=False), AD=[5, 0], DP=5, GQ=15, PL=[0, 15, 205])]"
      ]
     },
     "execution_count": 12,
     "metadata": {},
     "output_type": "execute_result"
    }
   ],
   "source": [
    "mt.entry.take(5)"
   ]
  },
  {
   "cell_type": "markdown",
   "id": "32731b4d",
   "metadata": {},
   "source": [
    "#### *show vs. take\n",
    "* show : 'show' literally shows specific fields of data(matrix table) as table\n",
    "* take : 'take' collects the records(rows) and returns list"
   ]
  },
  {
   "cell_type": "code",
   "execution_count": 13,
   "id": "b6b04c53",
   "metadata": {},
   "outputs": [
    {
     "data": {
      "text/plain": [
       "[{'GT': Call(alleles=[0, 0], phased=False),\n",
       "  'AD': [4, 0],\n",
       "  'DP': 4,\n",
       "  'GQ': 12,\n",
       "  'PL': [0, 12, 147]},\n",
       " {'GT': Call(alleles=[0, 0], phased=False),\n",
       "  'AD': [8, 0],\n",
       "  'DP': 8,\n",
       "  'GQ': 24,\n",
       "  'PL': [0, 24, 315]},\n",
       " {'GT': Call(alleles=[0, 0], phased=False),\n",
       "  'AD': [8, 0],\n",
       "  'DP': 8,\n",
       "  'GQ': 23,\n",
       "  'PL': [0, 23, 230]},\n",
       " {'GT': Call(alleles=[0, 0], phased=False),\n",
       "  'AD': [7, 0],\n",
       "  'DP': 7,\n",
       "  'GQ': 21,\n",
       "  'PL': [0, 21, 270]},\n",
       " {'GT': Call(alleles=[0, 0], phased=False),\n",
       "  'AD': [5, 0],\n",
       "  'DP': 5,\n",
       "  'GQ': 15,\n",
       "  'PL': [0, 15, 205]}]"
      ]
     },
     "execution_count": 13,
     "metadata": {},
     "output_type": "execute_result"
    }
   ],
   "source": [
    "type(mt.entry.take(5)) # 'take' returns list that consists of hail.utils.struct.Struct and requires n for the number of entries\n",
    "mt.entry.take(5)[1] # hail.utils.struct.Struct is similar to dictionary\n",
    "tmp = [dict(e) for e in mt.entry.take(5)] # So, it is easy to convert sturct to dictionary\n",
    "tmp"
   ]
  },
  {
   "cell_type": "code",
   "execution_count": 14,
   "id": "209ed1fd",
   "metadata": {},
   "outputs": [
    {
     "data": {
      "text/html": [
       "<table><thead><tr><td style=\"white-space: nowrap; max-width: 500px; overflow: hidden; text-overflow: ellipsis; \" colspan=\"1\"><div style=\"text-align: left;\"></div></td><td style=\"white-space: nowrap; max-width: 500px; overflow: hidden; text-overflow: ellipsis; \" colspan=\"1\"><div style=\"text-align: left;\"></div></td><td style=\"white-space: nowrap; max-width: 500px; overflow: hidden; text-overflow: ellipsis; \" colspan=\"1\"><div style=\"text-align: left;\"></div></td><td style=\"white-space: nowrap; max-width: 500px; overflow: hidden; text-overflow: ellipsis; \" colspan=\"1\"><div style=\"text-align: left;\"></div></td><td style=\"white-space: nowrap; max-width: 500px; overflow: hidden; text-overflow: ellipsis; \" colspan=\"1\"><div style=\"text-align: left;\"></div></td></tr><tr><td style=\"white-space: nowrap; max-width: 500px; overflow: hidden; text-overflow: ellipsis; \" colspan=\"1\"><div style=\"text-align: left;border-bottom: solid 2px #000; padding-bottom: 5px\">locus</div></td><td style=\"white-space: nowrap; max-width: 500px; overflow: hidden; text-overflow: ellipsis; \" colspan=\"1\"><div style=\"text-align: left;border-bottom: solid 2px #000; padding-bottom: 5px\">alleles</div></td><td style=\"white-space: nowrap; max-width: 500px; overflow: hidden; text-overflow: ellipsis; \" colspan=\"1\"><div style=\"text-align: left;border-bottom: solid 2px #000; padding-bottom: 5px\">s</div></td><td style=\"white-space: nowrap; max-width: 500px; overflow: hidden; text-overflow: ellipsis; \" colspan=\"1\"><div style=\"text-align: left;border-bottom: solid 2px #000; padding-bottom: 5px\">GT</div></td><td style=\"white-space: nowrap; max-width: 500px; overflow: hidden; text-overflow: ellipsis; \" colspan=\"1\"><div style=\"text-align: left;border-bottom: solid 2px #000; padding-bottom: 5px\">DP</div></td></tr><tr><td style=\"white-space: nowrap; max-width: 500px; overflow: hidden; text-overflow: ellipsis; text-align: left;\">locus&lt;GRCh37&gt;</td><td style=\"white-space: nowrap; max-width: 500px; overflow: hidden; text-overflow: ellipsis; text-align: left;\">array&lt;str&gt;</td><td style=\"white-space: nowrap; max-width: 500px; overflow: hidden; text-overflow: ellipsis; text-align: left;\">str</td><td style=\"white-space: nowrap; max-width: 500px; overflow: hidden; text-overflow: ellipsis; text-align: left;\">call</td><td style=\"white-space: nowrap; max-width: 500px; overflow: hidden; text-overflow: ellipsis; text-align: left;\">int32</td></tr>\n",
       "</thead><tbody><tr><td style=\"white-space: nowrap; max-width: 500px; overflow: hidden; text-overflow: ellipsis; \">1:904165</td><td style=\"white-space: nowrap; max-width: 500px; overflow: hidden; text-overflow: ellipsis; \">[&quot;G&quot;,&quot;A&quot;]</td><td style=\"white-space: nowrap; max-width: 500px; overflow: hidden; text-overflow: ellipsis; \">&quot;HG00096&quot;</td><td style=\"white-space: nowrap; max-width: 500px; overflow: hidden; text-overflow: ellipsis; \">0/0</td><td style=\"white-space: nowrap; max-width: 500px; overflow: hidden; text-overflow: ellipsis; \">4</td></tr>\n",
       "<tr><td style=\"white-space: nowrap; max-width: 500px; overflow: hidden; text-overflow: ellipsis; \">1:904165</td><td style=\"white-space: nowrap; max-width: 500px; overflow: hidden; text-overflow: ellipsis; \">[&quot;G&quot;,&quot;A&quot;]</td><td style=\"white-space: nowrap; max-width: 500px; overflow: hidden; text-overflow: ellipsis; \">&quot;HG00099&quot;</td><td style=\"white-space: nowrap; max-width: 500px; overflow: hidden; text-overflow: ellipsis; \">0/0</td><td style=\"white-space: nowrap; max-width: 500px; overflow: hidden; text-overflow: ellipsis; \">8</td></tr>\n",
       "<tr><td style=\"white-space: nowrap; max-width: 500px; overflow: hidden; text-overflow: ellipsis; \">1:904165</td><td style=\"white-space: nowrap; max-width: 500px; overflow: hidden; text-overflow: ellipsis; \">[&quot;G&quot;,&quot;A&quot;]</td><td style=\"white-space: nowrap; max-width: 500px; overflow: hidden; text-overflow: ellipsis; \">&quot;HG00105&quot;</td><td style=\"white-space: nowrap; max-width: 500px; overflow: hidden; text-overflow: ellipsis; \">0/0</td><td style=\"white-space: nowrap; max-width: 500px; overflow: hidden; text-overflow: ellipsis; \">8</td></tr>\n",
       "<tr><td style=\"white-space: nowrap; max-width: 500px; overflow: hidden; text-overflow: ellipsis; \">1:904165</td><td style=\"white-space: nowrap; max-width: 500px; overflow: hidden; text-overflow: ellipsis; \">[&quot;G&quot;,&quot;A&quot;]</td><td style=\"white-space: nowrap; max-width: 500px; overflow: hidden; text-overflow: ellipsis; \">&quot;HG00118&quot;</td><td style=\"white-space: nowrap; max-width: 500px; overflow: hidden; text-overflow: ellipsis; \">0/0</td><td style=\"white-space: nowrap; max-width: 500px; overflow: hidden; text-overflow: ellipsis; \">7</td></tr>\n",
       "<tr><td style=\"white-space: nowrap; max-width: 500px; overflow: hidden; text-overflow: ellipsis; \">1:904165</td><td style=\"white-space: nowrap; max-width: 500px; overflow: hidden; text-overflow: ellipsis; \">[&quot;G&quot;,&quot;A&quot;]</td><td style=\"white-space: nowrap; max-width: 500px; overflow: hidden; text-overflow: ellipsis; \">&quot;HG00129&quot;</td><td style=\"white-space: nowrap; max-width: 500px; overflow: hidden; text-overflow: ellipsis; \">0/0</td><td style=\"white-space: nowrap; max-width: 500px; overflow: hidden; text-overflow: ellipsis; \">5</td></tr>\n",
       "</tbody></table><p style=\"background: #fdd; padding: 0.4em;\">showing top 5 rows</p>\n"
      ],
      "text/plain": [
       "+---------------+------------+-----------+------+-------+\n",
       "| locus         | alleles    | s         | GT   |    DP |\n",
       "+---------------+------------+-----------+------+-------+\n",
       "| locus<GRCh37> | array<str> | str       | call | int32 |\n",
       "+---------------+------------+-----------+------+-------+\n",
       "| 1:904165      | [\"G\",\"A\"]  | \"HG00096\" | 0/0  |     4 |\n",
       "| 1:904165      | [\"G\",\"A\"]  | \"HG00099\" | 0/0  |     8 |\n",
       "| 1:904165      | [\"G\",\"A\"]  | \"HG00105\" | 0/0  |     8 |\n",
       "| 1:904165      | [\"G\",\"A\"]  | \"HG00118\" | 0/0  |     7 |\n",
       "| 1:904165      | [\"G\",\"A\"]  | \"HG00129\" | 0/0  |     5 |\n",
       "+---------------+------------+-----------+------+-------+\n",
       "showing top 5 rows"
      ]
     },
     "metadata": {},
     "output_type": "display_data"
    }
   ],
   "source": [
    "mt.entries().select(\"GT\",\"DP\").show(5)"
   ]
  },
  {
   "cell_type": "code",
   "execution_count": 15,
   "id": "dab91631",
   "metadata": {},
   "outputs": [
    {
     "data": {
      "text/html": [
       "<table><thead><tr><td style=\"white-space: nowrap; max-width: 500px; overflow: hidden; text-overflow: ellipsis; \" colspan=\"1\"><div style=\"text-align: left;\"></div></td><td style=\"white-space: nowrap; max-width: 500px; overflow: hidden; text-overflow: ellipsis; \" colspan=\"1\"><div style=\"text-align: left;\"></div></td><td style=\"white-space: nowrap; max-width: 500px; overflow: hidden; text-overflow: ellipsis; \" colspan=\"5\"><div style=\"text-align: left;\"></div></td><td style=\"white-space: nowrap; max-width: 500px; overflow: hidden; text-overflow: ellipsis; \" colspan=\"5\"><div style=\"text-align: left;\"></div></td><td style=\"white-space: nowrap; max-width: 500px; overflow: hidden; text-overflow: ellipsis; \" colspan=\"5\"><div style=\"text-align: left;\"></div></td><td style=\"white-space: nowrap; max-width: 500px; overflow: hidden; text-overflow: ellipsis; \" colspan=\"5\"><div style=\"text-align: left;\"></div></td><td style=\"white-space: nowrap; max-width: 500px; overflow: hidden; text-overflow: ellipsis; \" colspan=\"5\"><div style=\"text-align: left;\"></div></td></tr><tr><td style=\"white-space: nowrap; max-width: 500px; overflow: hidden; text-overflow: ellipsis; \" colspan=\"1\"><div style=\"text-align: left;\"></div></td><td style=\"white-space: nowrap; max-width: 500px; overflow: hidden; text-overflow: ellipsis; \" colspan=\"1\"><div style=\"text-align: left;\"></div></td><td style=\"white-space: nowrap; max-width: 500px; overflow: hidden; text-overflow: ellipsis; \" colspan=\"5\"><div style=\"text-align: left;border-bottom: solid 2px #000; padding-bottom: 5px\">'HG00096'</div></td><td style=\"white-space: nowrap; max-width: 500px; overflow: hidden; text-overflow: ellipsis; \" colspan=\"5\"><div style=\"text-align: left;border-bottom: solid 2px #000; padding-bottom: 5px\">'HG00099'</div></td><td style=\"white-space: nowrap; max-width: 500px; overflow: hidden; text-overflow: ellipsis; \" colspan=\"5\"><div style=\"text-align: left;border-bottom: solid 2px #000; padding-bottom: 5px\">'HG00105'</div></td><td style=\"white-space: nowrap; max-width: 500px; overflow: hidden; text-overflow: ellipsis; \" colspan=\"5\"><div style=\"text-align: left;border-bottom: solid 2px #000; padding-bottom: 5px\">'HG00118'</div></td><td style=\"white-space: nowrap; max-width: 500px; overflow: hidden; text-overflow: ellipsis; \" colspan=\"5\"><div style=\"text-align: left;border-bottom: solid 2px #000; padding-bottom: 5px\">'HG00129'</div></td></tr><tr><td style=\"white-space: nowrap; max-width: 500px; overflow: hidden; text-overflow: ellipsis; \" colspan=\"1\"><div style=\"text-align: left;border-bottom: solid 2px #000; padding-bottom: 5px\">locus</div></td><td style=\"white-space: nowrap; max-width: 500px; overflow: hidden; text-overflow: ellipsis; \" colspan=\"1\"><div style=\"text-align: left;border-bottom: solid 2px #000; padding-bottom: 5px\">alleles</div></td><td style=\"white-space: nowrap; max-width: 500px; overflow: hidden; text-overflow: ellipsis; \" colspan=\"1\"><div style=\"text-align: left;border-bottom: solid 2px #000; padding-bottom: 5px\">GT</div></td><td style=\"white-space: nowrap; max-width: 500px; overflow: hidden; text-overflow: ellipsis; \" colspan=\"1\"><div style=\"text-align: left;border-bottom: solid 2px #000; padding-bottom: 5px\">AD</div></td><td style=\"white-space: nowrap; max-width: 500px; overflow: hidden; text-overflow: ellipsis; \" colspan=\"1\"><div style=\"text-align: left;border-bottom: solid 2px #000; padding-bottom: 5px\">DP</div></td><td style=\"white-space: nowrap; max-width: 500px; overflow: hidden; text-overflow: ellipsis; \" colspan=\"1\"><div style=\"text-align: left;border-bottom: solid 2px #000; padding-bottom: 5px\">GQ</div></td><td style=\"white-space: nowrap; max-width: 500px; overflow: hidden; text-overflow: ellipsis; \" colspan=\"1\"><div style=\"text-align: left;border-bottom: solid 2px #000; padding-bottom: 5px\">PL</div></td><td style=\"white-space: nowrap; max-width: 500px; overflow: hidden; text-overflow: ellipsis; \" colspan=\"1\"><div style=\"text-align: left;border-bottom: solid 2px #000; padding-bottom: 5px\">GT</div></td><td style=\"white-space: nowrap; max-width: 500px; overflow: hidden; text-overflow: ellipsis; \" colspan=\"1\"><div style=\"text-align: left;border-bottom: solid 2px #000; padding-bottom: 5px\">AD</div></td><td style=\"white-space: nowrap; max-width: 500px; overflow: hidden; text-overflow: ellipsis; \" colspan=\"1\"><div style=\"text-align: left;border-bottom: solid 2px #000; padding-bottom: 5px\">DP</div></td><td style=\"white-space: nowrap; max-width: 500px; overflow: hidden; text-overflow: ellipsis; \" colspan=\"1\"><div style=\"text-align: left;border-bottom: solid 2px #000; padding-bottom: 5px\">GQ</div></td><td style=\"white-space: nowrap; max-width: 500px; overflow: hidden; text-overflow: ellipsis; \" colspan=\"1\"><div style=\"text-align: left;border-bottom: solid 2px #000; padding-bottom: 5px\">PL</div></td><td style=\"white-space: nowrap; max-width: 500px; overflow: hidden; text-overflow: ellipsis; \" colspan=\"1\"><div style=\"text-align: left;border-bottom: solid 2px #000; padding-bottom: 5px\">GT</div></td><td style=\"white-space: nowrap; max-width: 500px; overflow: hidden; text-overflow: ellipsis; \" colspan=\"1\"><div style=\"text-align: left;border-bottom: solid 2px #000; padding-bottom: 5px\">AD</div></td><td style=\"white-space: nowrap; max-width: 500px; overflow: hidden; text-overflow: ellipsis; \" colspan=\"1\"><div style=\"text-align: left;border-bottom: solid 2px #000; padding-bottom: 5px\">DP</div></td><td style=\"white-space: nowrap; max-width: 500px; overflow: hidden; text-overflow: ellipsis; \" colspan=\"1\"><div style=\"text-align: left;border-bottom: solid 2px #000; padding-bottom: 5px\">GQ</div></td><td style=\"white-space: nowrap; max-width: 500px; overflow: hidden; text-overflow: ellipsis; \" colspan=\"1\"><div style=\"text-align: left;border-bottom: solid 2px #000; padding-bottom: 5px\">PL</div></td><td style=\"white-space: nowrap; max-width: 500px; overflow: hidden; text-overflow: ellipsis; \" colspan=\"1\"><div style=\"text-align: left;border-bottom: solid 2px #000; padding-bottom: 5px\">GT</div></td><td style=\"white-space: nowrap; max-width: 500px; overflow: hidden; text-overflow: ellipsis; \" colspan=\"1\"><div style=\"text-align: left;border-bottom: solid 2px #000; padding-bottom: 5px\">AD</div></td><td style=\"white-space: nowrap; max-width: 500px; overflow: hidden; text-overflow: ellipsis; \" colspan=\"1\"><div style=\"text-align: left;border-bottom: solid 2px #000; padding-bottom: 5px\">DP</div></td><td style=\"white-space: nowrap; max-width: 500px; overflow: hidden; text-overflow: ellipsis; \" colspan=\"1\"><div style=\"text-align: left;border-bottom: solid 2px #000; padding-bottom: 5px\">GQ</div></td><td style=\"white-space: nowrap; max-width: 500px; overflow: hidden; text-overflow: ellipsis; \" colspan=\"1\"><div style=\"text-align: left;border-bottom: solid 2px #000; padding-bottom: 5px\">PL</div></td><td style=\"white-space: nowrap; max-width: 500px; overflow: hidden; text-overflow: ellipsis; \" colspan=\"1\"><div style=\"text-align: left;border-bottom: solid 2px #000; padding-bottom: 5px\">GT</div></td><td style=\"white-space: nowrap; max-width: 500px; overflow: hidden; text-overflow: ellipsis; \" colspan=\"1\"><div style=\"text-align: left;border-bottom: solid 2px #000; padding-bottom: 5px\">AD</div></td><td style=\"white-space: nowrap; max-width: 500px; overflow: hidden; text-overflow: ellipsis; \" colspan=\"1\"><div style=\"text-align: left;border-bottom: solid 2px #000; padding-bottom: 5px\">DP</div></td><td style=\"white-space: nowrap; max-width: 500px; overflow: hidden; text-overflow: ellipsis; \" colspan=\"1\"><div style=\"text-align: left;border-bottom: solid 2px #000; padding-bottom: 5px\">GQ</div></td><td style=\"white-space: nowrap; max-width: 500px; overflow: hidden; text-overflow: ellipsis; \" colspan=\"1\"><div style=\"text-align: left;border-bottom: solid 2px #000; padding-bottom: 5px\">PL</div></td></tr><tr><td style=\"white-space: nowrap; max-width: 500px; overflow: hidden; text-overflow: ellipsis; text-align: left;\">locus&lt;GRCh37&gt;</td><td style=\"white-space: nowrap; max-width: 500px; overflow: hidden; text-overflow: ellipsis; text-align: left;\">array&lt;str&gt;</td><td style=\"white-space: nowrap; max-width: 500px; overflow: hidden; text-overflow: ellipsis; text-align: left;\">call</td><td style=\"white-space: nowrap; max-width: 500px; overflow: hidden; text-overflow: ellipsis; text-align: left;\">array&lt;int32&gt;</td><td style=\"white-space: nowrap; max-width: 500px; overflow: hidden; text-overflow: ellipsis; text-align: left;\">int32</td><td style=\"white-space: nowrap; max-width: 500px; overflow: hidden; text-overflow: ellipsis; text-align: left;\">int32</td><td style=\"white-space: nowrap; max-width: 500px; overflow: hidden; text-overflow: ellipsis; text-align: left;\">array&lt;int32&gt;</td><td style=\"white-space: nowrap; max-width: 500px; overflow: hidden; text-overflow: ellipsis; text-align: left;\">call</td><td style=\"white-space: nowrap; max-width: 500px; overflow: hidden; text-overflow: ellipsis; text-align: left;\">array&lt;int32&gt;</td><td style=\"white-space: nowrap; max-width: 500px; overflow: hidden; text-overflow: ellipsis; text-align: left;\">int32</td><td style=\"white-space: nowrap; max-width: 500px; overflow: hidden; text-overflow: ellipsis; text-align: left;\">int32</td><td style=\"white-space: nowrap; max-width: 500px; overflow: hidden; text-overflow: ellipsis; text-align: left;\">array&lt;int32&gt;</td><td style=\"white-space: nowrap; max-width: 500px; overflow: hidden; text-overflow: ellipsis; text-align: left;\">call</td><td style=\"white-space: nowrap; max-width: 500px; overflow: hidden; text-overflow: ellipsis; text-align: left;\">array&lt;int32&gt;</td><td style=\"white-space: nowrap; max-width: 500px; overflow: hidden; text-overflow: ellipsis; text-align: left;\">int32</td><td style=\"white-space: nowrap; max-width: 500px; overflow: hidden; text-overflow: ellipsis; text-align: left;\">int32</td><td style=\"white-space: nowrap; max-width: 500px; overflow: hidden; text-overflow: ellipsis; text-align: left;\">array&lt;int32&gt;</td><td style=\"white-space: nowrap; max-width: 500px; overflow: hidden; text-overflow: ellipsis; text-align: left;\">call</td><td style=\"white-space: nowrap; max-width: 500px; overflow: hidden; text-overflow: ellipsis; text-align: left;\">array&lt;int32&gt;</td><td style=\"white-space: nowrap; max-width: 500px; overflow: hidden; text-overflow: ellipsis; text-align: left;\">int32</td><td style=\"white-space: nowrap; max-width: 500px; overflow: hidden; text-overflow: ellipsis; text-align: left;\">int32</td><td style=\"white-space: nowrap; max-width: 500px; overflow: hidden; text-overflow: ellipsis; text-align: left;\">array&lt;int32&gt;</td><td style=\"white-space: nowrap; max-width: 500px; overflow: hidden; text-overflow: ellipsis; text-align: left;\">call</td><td style=\"white-space: nowrap; max-width: 500px; overflow: hidden; text-overflow: ellipsis; text-align: left;\">array&lt;int32&gt;</td><td style=\"white-space: nowrap; max-width: 500px; overflow: hidden; text-overflow: ellipsis; text-align: left;\">int32</td><td style=\"white-space: nowrap; max-width: 500px; overflow: hidden; text-overflow: ellipsis; text-align: left;\">int32</td><td style=\"white-space: nowrap; max-width: 500px; overflow: hidden; text-overflow: ellipsis; text-align: left;\">array&lt;int32&gt;</td></tr>\n",
       "</thead><tbody><tr><td style=\"white-space: nowrap; max-width: 500px; overflow: hidden; text-overflow: ellipsis; \">1:904165</td><td style=\"white-space: nowrap; max-width: 500px; overflow: hidden; text-overflow: ellipsis; \">[&quot;G&quot;,&quot;A&quot;]</td><td style=\"white-space: nowrap; max-width: 500px; overflow: hidden; text-overflow: ellipsis; \">0/0</td><td style=\"white-space: nowrap; max-width: 500px; overflow: hidden; text-overflow: ellipsis; \">[4,0]</td><td style=\"white-space: nowrap; max-width: 500px; overflow: hidden; text-overflow: ellipsis; \">4</td><td style=\"white-space: nowrap; max-width: 500px; overflow: hidden; text-overflow: ellipsis; \">12</td><td style=\"white-space: nowrap; max-width: 500px; overflow: hidden; text-overflow: ellipsis; \">[0,12,147]</td><td style=\"white-space: nowrap; max-width: 500px; overflow: hidden; text-overflow: ellipsis; \">0/0</td><td style=\"white-space: nowrap; max-width: 500px; overflow: hidden; text-overflow: ellipsis; \">[8,0]</td><td style=\"white-space: nowrap; max-width: 500px; overflow: hidden; text-overflow: ellipsis; \">8</td><td style=\"white-space: nowrap; max-width: 500px; overflow: hidden; text-overflow: ellipsis; \">24</td><td style=\"white-space: nowrap; max-width: 500px; overflow: hidden; text-overflow: ellipsis; \">[0,24,315]</td><td style=\"white-space: nowrap; max-width: 500px; overflow: hidden; text-overflow: ellipsis; \">0/0</td><td style=\"white-space: nowrap; max-width: 500px; overflow: hidden; text-overflow: ellipsis; \">[8,0]</td><td style=\"white-space: nowrap; max-width: 500px; overflow: hidden; text-overflow: ellipsis; \">8</td><td style=\"white-space: nowrap; max-width: 500px; overflow: hidden; text-overflow: ellipsis; \">23</td><td style=\"white-space: nowrap; max-width: 500px; overflow: hidden; text-overflow: ellipsis; \">[0,23,230]</td><td style=\"white-space: nowrap; max-width: 500px; overflow: hidden; text-overflow: ellipsis; \">0/0</td><td style=\"white-space: nowrap; max-width: 500px; overflow: hidden; text-overflow: ellipsis; \">[7,0]</td><td style=\"white-space: nowrap; max-width: 500px; overflow: hidden; text-overflow: ellipsis; \">7</td><td style=\"white-space: nowrap; max-width: 500px; overflow: hidden; text-overflow: ellipsis; \">21</td><td style=\"white-space: nowrap; max-width: 500px; overflow: hidden; text-overflow: ellipsis; \">[0,21,270]</td><td style=\"white-space: nowrap; max-width: 500px; overflow: hidden; text-overflow: ellipsis; \">0/0</td><td style=\"white-space: nowrap; max-width: 500px; overflow: hidden; text-overflow: ellipsis; \">[5,0]</td><td style=\"white-space: nowrap; max-width: 500px; overflow: hidden; text-overflow: ellipsis; \">5</td><td style=\"white-space: nowrap; max-width: 500px; overflow: hidden; text-overflow: ellipsis; \">15</td><td style=\"white-space: nowrap; max-width: 500px; overflow: hidden; text-overflow: ellipsis; \">[0,15,205]</td></tr>\n",
       "<tr><td style=\"white-space: nowrap; max-width: 500px; overflow: hidden; text-overflow: ellipsis; \">1:909917</td><td style=\"white-space: nowrap; max-width: 500px; overflow: hidden; text-overflow: ellipsis; \">[&quot;G&quot;,&quot;A&quot;]</td><td style=\"white-space: nowrap; max-width: 500px; overflow: hidden; text-overflow: ellipsis; \">0/0</td><td style=\"white-space: nowrap; max-width: 500px; overflow: hidden; text-overflow: ellipsis; \">[4,0]</td><td style=\"white-space: nowrap; max-width: 500px; overflow: hidden; text-overflow: ellipsis; \">4</td><td style=\"white-space: nowrap; max-width: 500px; overflow: hidden; text-overflow: ellipsis; \">12</td><td style=\"white-space: nowrap; max-width: 500px; overflow: hidden; text-overflow: ellipsis; \">[0,12,160]</td><td style=\"white-space: nowrap; max-width: 500px; overflow: hidden; text-overflow: ellipsis; \">0/0</td><td style=\"white-space: nowrap; max-width: 500px; overflow: hidden; text-overflow: ellipsis; \">[8,0]</td><td style=\"white-space: nowrap; max-width: 500px; overflow: hidden; text-overflow: ellipsis; \">8</td><td style=\"white-space: nowrap; max-width: 500px; overflow: hidden; text-overflow: ellipsis; \">24</td><td style=\"white-space: nowrap; max-width: 500px; overflow: hidden; text-overflow: ellipsis; \">[0,24,253]</td><td style=\"white-space: nowrap; max-width: 500px; overflow: hidden; text-overflow: ellipsis; \">0/0</td><td style=\"white-space: nowrap; max-width: 500px; overflow: hidden; text-overflow: ellipsis; \">[5,0]</td><td style=\"white-space: nowrap; max-width: 500px; overflow: hidden; text-overflow: ellipsis; \">5</td><td style=\"white-space: nowrap; max-width: 500px; overflow: hidden; text-overflow: ellipsis; \">15</td><td style=\"white-space: nowrap; max-width: 500px; overflow: hidden; text-overflow: ellipsis; \">[0,15,198]</td><td style=\"white-space: nowrap; max-width: 500px; overflow: hidden; text-overflow: ellipsis; \">0/0</td><td style=\"white-space: nowrap; max-width: 500px; overflow: hidden; text-overflow: ellipsis; \">[8,0]</td><td style=\"white-space: nowrap; max-width: 500px; overflow: hidden; text-overflow: ellipsis; \">8</td><td style=\"white-space: nowrap; max-width: 500px; overflow: hidden; text-overflow: ellipsis; \">23</td><td style=\"white-space: nowrap; max-width: 500px; overflow: hidden; text-overflow: ellipsis; \">[0,23,270]</td><td style=\"white-space: nowrap; max-width: 500px; overflow: hidden; text-overflow: ellipsis; \">0/0</td><td style=\"white-space: nowrap; max-width: 500px; overflow: hidden; text-overflow: ellipsis; \">[7,0]</td><td style=\"white-space: nowrap; max-width: 500px; overflow: hidden; text-overflow: ellipsis; \">7</td><td style=\"white-space: nowrap; max-width: 500px; overflow: hidden; text-overflow: ellipsis; \">21</td><td style=\"white-space: nowrap; max-width: 500px; overflow: hidden; text-overflow: ellipsis; \">[0,21,265]</td></tr>\n",
       "<tr><td style=\"white-space: nowrap; max-width: 500px; overflow: hidden; text-overflow: ellipsis; \">1:986963</td><td style=\"white-space: nowrap; max-width: 500px; overflow: hidden; text-overflow: ellipsis; \">[&quot;C&quot;,&quot;T&quot;]</td><td style=\"white-space: nowrap; max-width: 500px; overflow: hidden; text-overflow: ellipsis; \">0/0</td><td style=\"white-space: nowrap; max-width: 500px; overflow: hidden; text-overflow: ellipsis; \">[3,0]</td><td style=\"white-space: nowrap; max-width: 500px; overflow: hidden; text-overflow: ellipsis; \">3</td><td style=\"white-space: nowrap; max-width: 500px; overflow: hidden; text-overflow: ellipsis; \">9</td><td style=\"white-space: nowrap; max-width: 500px; overflow: hidden; text-overflow: ellipsis; \">[0,9,98]</td><td style=\"white-space: nowrap; max-width: 500px; overflow: hidden; text-overflow: ellipsis; \">0/0</td><td style=\"white-space: nowrap; max-width: 500px; overflow: hidden; text-overflow: ellipsis; \">[1,0]</td><td style=\"white-space: nowrap; max-width: 500px; overflow: hidden; text-overflow: ellipsis; \">1</td><td style=\"white-space: nowrap; max-width: 500px; overflow: hidden; text-overflow: ellipsis; \">3</td><td style=\"white-space: nowrap; max-width: 500px; overflow: hidden; text-overflow: ellipsis; \">[0,3,34]</td><td style=\"white-space: nowrap; max-width: 500px; overflow: hidden; text-overflow: ellipsis; \">0/0</td><td style=\"white-space: nowrap; max-width: 500px; overflow: hidden; text-overflow: ellipsis; \">[1,0]</td><td style=\"white-space: nowrap; max-width: 500px; overflow: hidden; text-overflow: ellipsis; \">1</td><td style=\"white-space: nowrap; max-width: 500px; overflow: hidden; text-overflow: ellipsis; \">3</td><td style=\"white-space: nowrap; max-width: 500px; overflow: hidden; text-overflow: ellipsis; \">[0,3,42]</td><td style=\"white-space: nowrap; max-width: 500px; overflow: hidden; text-overflow: ellipsis; \">0/0</td><td style=\"white-space: nowrap; max-width: 500px; overflow: hidden; text-overflow: ellipsis; \">[13,0]</td><td style=\"white-space: nowrap; max-width: 500px; overflow: hidden; text-overflow: ellipsis; \">13</td><td style=\"white-space: nowrap; max-width: 500px; overflow: hidden; text-overflow: ellipsis; \">39</td><td style=\"white-space: nowrap; max-width: 500px; overflow: hidden; text-overflow: ellipsis; \">[0,39,455]</td><td style=\"white-space: nowrap; max-width: 500px; overflow: hidden; text-overflow: ellipsis; \">NA</td><td style=\"white-space: nowrap; max-width: 500px; overflow: hidden; text-overflow: ellipsis; \">NA</td><td style=\"white-space: nowrap; max-width: 500px; overflow: hidden; text-overflow: ellipsis; \">NA</td><td style=\"white-space: nowrap; max-width: 500px; overflow: hidden; text-overflow: ellipsis; \">NA</td><td style=\"white-space: nowrap; max-width: 500px; overflow: hidden; text-overflow: ellipsis; \">NA</td></tr>\n",
       "</tbody></table><p style=\"background: #fdd; padding: 0.4em;\">showing top 3 rows</p>\n",
       "<p style=\"background: #fdd; padding: 0.4em;\">showing the first 5 of 284 columns</p>\n"
      ],
      "text/plain": [
       "+---------------+------------+--------------+--------------+--------------+\n",
       "| locus         | alleles    | 'HG00096'.GT | 'HG00096'.AD | 'HG00096'.DP |\n",
       "+---------------+------------+--------------+--------------+--------------+\n",
       "| locus<GRCh37> | array<str> | call         | array<int32> |        int32 |\n",
       "+---------------+------------+--------------+--------------+--------------+\n",
       "| 1:904165      | [\"G\",\"A\"]  | 0/0          | [4,0]        |            4 |\n",
       "| 1:909917      | [\"G\",\"A\"]  | 0/0          | [4,0]        |            4 |\n",
       "| 1:986963      | [\"C\",\"T\"]  | 0/0          | [3,0]        |            3 |\n",
       "+---------------+------------+--------------+--------------+--------------+\n",
       "\n",
       "+--------------+--------------+--------------+--------------+--------------+\n",
       "| 'HG00096'.GQ | 'HG00096'.PL | 'HG00099'.GT | 'HG00099'.AD | 'HG00099'.DP |\n",
       "+--------------+--------------+--------------+--------------+--------------+\n",
       "|        int32 | array<int32> | call         | array<int32> |        int32 |\n",
       "+--------------+--------------+--------------+--------------+--------------+\n",
       "|           12 | [0,12,147]   | 0/0          | [8,0]        |            8 |\n",
       "|           12 | [0,12,160]   | 0/0          | [8,0]        |            8 |\n",
       "|            9 | [0,9,98]     | 0/0          | [1,0]        |            1 |\n",
       "+--------------+--------------+--------------+--------------+--------------+\n",
       "\n",
       "+--------------+--------------+--------------+--------------+--------------+\n",
       "| 'HG00099'.GQ | 'HG00099'.PL | 'HG00105'.GT | 'HG00105'.AD | 'HG00105'.DP |\n",
       "+--------------+--------------+--------------+--------------+--------------+\n",
       "|        int32 | array<int32> | call         | array<int32> |        int32 |\n",
       "+--------------+--------------+--------------+--------------+--------------+\n",
       "|           24 | [0,24,315]   | 0/0          | [8,0]        |            8 |\n",
       "|           24 | [0,24,253]   | 0/0          | [5,0]        |            5 |\n",
       "|            3 | [0,3,34]     | 0/0          | [1,0]        |            1 |\n",
       "+--------------+--------------+--------------+--------------+--------------+\n",
       "\n",
       "+--------------+--------------+--------------+--------------+--------------+\n",
       "| 'HG00105'.GQ | 'HG00105'.PL | 'HG00118'.GT | 'HG00118'.AD | 'HG00118'.DP |\n",
       "+--------------+--------------+--------------+--------------+--------------+\n",
       "|        int32 | array<int32> | call         | array<int32> |        int32 |\n",
       "+--------------+--------------+--------------+--------------+--------------+\n",
       "|           23 | [0,23,230]   | 0/0          | [7,0]        |            7 |\n",
       "|           15 | [0,15,198]   | 0/0          | [8,0]        |            8 |\n",
       "|            3 | [0,3,42]     | 0/0          | [13,0]       |           13 |\n",
       "+--------------+--------------+--------------+--------------+--------------+\n",
       "\n",
       "+--------------+--------------+--------------+--------------+--------------+\n",
       "| 'HG00118'.GQ | 'HG00118'.PL | 'HG00129'.GT | 'HG00129'.AD | 'HG00129'.DP |\n",
       "+--------------+--------------+--------------+--------------+--------------+\n",
       "|        int32 | array<int32> | call         | array<int32> |        int32 |\n",
       "+--------------+--------------+--------------+--------------+--------------+\n",
       "|           21 | [0,21,270]   | 0/0          | [5,0]        |            5 |\n",
       "|           23 | [0,23,270]   | 0/0          | [7,0]        |            7 |\n",
       "|           39 | [0,39,455]   | NA           | NA           |           NA |\n",
       "+--------------+--------------+--------------+--------------+--------------+\n",
       "\n",
       "+--------------+--------------+\n",
       "| 'HG00129'.GQ | 'HG00129'.PL |\n",
       "+--------------+--------------+\n",
       "|        int32 | array<int32> |\n",
       "+--------------+--------------+\n",
       "|           15 | [0,15,205]   |\n",
       "|           21 | [0,21,265]   |\n",
       "|           NA | NA           |\n",
       "+--------------+--------------+\n",
       "showing top 3 rows\n",
       "showing the first 5 of 284 columns"
      ]
     },
     "metadata": {},
     "output_type": "display_data"
    }
   ],
   "source": [
    "mt.show(3,5) # show entries by row keys and column keys"
   ]
  },
  {
   "cell_type": "markdown",
   "id": "77503904",
   "metadata": {},
   "source": [
    "### Entry fields\n",
    "__1. GT__  \n",
    "- genotype, encoded as allele values seperated by either of / or |  \n",
    "- ex) 0/0 : homozygous and reference allele for either  \n",
    "- 0 for reference allele in REF, 1 for first alternative allele listed in ALT and 2 for second allele listed in ALT and so on.  \n",
    "- / : genotype unphased  \n",
    "- | : genotype phased  \n",
    "\n",
    "__2. AD__\n",
    "- allelic depth  \n",
    "- [Ref. allelic depth, Alt. allelic depth]  \n",
    "- total of AD equals DP  \n",
    "\n",
    "__3. DP__\n",
    "- read depth at this position for this sample  \n",
    "\n",
    "__4. GQ__  \n",
    "- conditional genotype quality, encoded as phred-scaled(−10log10p)  \n",
    "\n",
    "__5. PL__  \n",
    "- the \"normalized\" phred-scaled genotype likelihoods of the possible genotype  \n",
    "- basically, three numbers are in thisf filed for (0/0, 0/1, 1/1)  \n",
    "- 0 is most likely genotype in phred-scaled  \n",
    "- ex) PL 393:0:403 -> PL(0/1)=0, PL(0/0)=393 > 10^(-39.3)= 5.0118723e-40  \n",
    "- the larger the number, the lower the probablity  "
   ]
  },
  {
   "cell_type": "markdown",
   "id": "287ac0b0",
   "metadata": {},
   "source": [
    "## Add columns fields"
   ]
  },
  {
   "cell_type": "code",
   "execution_count": 16,
   "id": "934e5e41",
   "metadata": {},
   "outputs": [
    {
     "name": "stderr",
     "output_type": "stream",
     "text": [
      "2021-09-24 03:16:19 Hail: INFO: Reading table to impute column types\n",
      "2021-09-24 03:16:20 Hail: INFO: Finished type imputation\n",
      "  Loading field 'Sample' as type str (imputed)\n",
      "  Loading field 'Population' as type str (imputed)\n",
      "  Loading field 'SuperPopulation' as type str (imputed)\n",
      "  Loading field 'isFemale' as type bool (imputed)\n",
      "  Loading field 'PurpleHair' as type bool (imputed)\n",
      "  Loading field 'CaffeineConsumption' as type int32 (imputed)\n"
     ]
    }
   ],
   "source": [
    "table = (hl.import_table('data/1kg_annotations.txt', impute=True)\n",
    "         .key_by('Sample')) # download annotations for samples into table(hail data object)"
   ]
  },
  {
   "cell_type": "markdown",
   "id": "d34fd15d",
   "metadata": {},
   "source": [
    "### Table\n",
    "- the Hail equivalent of a SQL table, a Pandas Dataframe, an R Dataframe, a dyplr Tibble, or a Spark Dataframe.\n",
    "- It consists of rows of data conforming to a given schema where each column (row field) in the dataset is of a specific type.\n",
    "- 2 fields : globals, rows"
   ]
  },
  {
   "cell_type": "code",
   "execution_count": 17,
   "id": "ac7e3f0c",
   "metadata": {},
   "outputs": [
    {
     "data": {
      "application/vnd.jupyter.widget-view+json": {
       "model_id": "ca1c64f837e44c319ee0207b3284dcdb",
       "version_major": 2,
       "version_minor": 0
      },
      "text/plain": [
       "VBox(children=(Button(description='globals', layout=Layout(height='30px', width='150px'), style=ButtonStyle())…"
      ]
     },
     "metadata": {},
     "output_type": "display_data"
    },
    {
     "data": {
      "application/vnd.jupyter.widget-view+json": {
       "model_id": "2b09c58300c441d8a32c7d7c1b1e808f",
       "version_major": 2,
       "version_minor": 0
      },
      "text/plain": [
       "Tab(children=(VBox(children=(HTML(value='<p><big>Global fields, with one value in the dataset.</big></p>\\n<p>C…"
      ]
     },
     "metadata": {},
     "output_type": "display_data"
    }
   ],
   "source": [
    "table.describe(widget=True)"
   ]
  },
  {
   "cell_type": "code",
   "execution_count": 18,
   "id": "6cec69f0",
   "metadata": {},
   "outputs": [
    {
     "data": {
      "text/html": [
       "<table><thead><tr><td style=\"white-space: nowrap; max-width: 500px; overflow: hidden; text-overflow: ellipsis; \" colspan=\"1\"><div style=\"text-align: left;\"></div></td><td style=\"white-space: nowrap; max-width: 500px; overflow: hidden; text-overflow: ellipsis; \" colspan=\"1\"><div style=\"text-align: left;\"></div></td><td style=\"white-space: nowrap; max-width: 500px; overflow: hidden; text-overflow: ellipsis; \" colspan=\"1\"><div style=\"text-align: left;\"></div></td><td style=\"white-space: nowrap; max-width: 500px; overflow: hidden; text-overflow: ellipsis; \" colspan=\"1\"><div style=\"text-align: left;\"></div></td><td style=\"white-space: nowrap; max-width: 500px; overflow: hidden; text-overflow: ellipsis; \" colspan=\"1\"><div style=\"text-align: left;\"></div></td><td style=\"white-space: nowrap; max-width: 500px; overflow: hidden; text-overflow: ellipsis; \" colspan=\"1\"><div style=\"text-align: left;\"></div></td></tr><tr><td style=\"white-space: nowrap; max-width: 500px; overflow: hidden; text-overflow: ellipsis; \" colspan=\"1\"><div style=\"text-align: left;border-bottom: solid 2px #000; padding-bottom: 5px\">Sample</div></td><td style=\"white-space: nowrap; max-width: 500px; overflow: hidden; text-overflow: ellipsis; \" colspan=\"1\"><div style=\"text-align: left;border-bottom: solid 2px #000; padding-bottom: 5px\">Population</div></td><td style=\"white-space: nowrap; max-width: 500px; overflow: hidden; text-overflow: ellipsis; \" colspan=\"1\"><div style=\"text-align: left;border-bottom: solid 2px #000; padding-bottom: 5px\">SuperPopulation</div></td><td style=\"white-space: nowrap; max-width: 500px; overflow: hidden; text-overflow: ellipsis; \" colspan=\"1\"><div style=\"text-align: left;border-bottom: solid 2px #000; padding-bottom: 5px\">isFemale</div></td><td style=\"white-space: nowrap; max-width: 500px; overflow: hidden; text-overflow: ellipsis; \" colspan=\"1\"><div style=\"text-align: left;border-bottom: solid 2px #000; padding-bottom: 5px\">PurpleHair</div></td><td style=\"white-space: nowrap; max-width: 500px; overflow: hidden; text-overflow: ellipsis; \" colspan=\"1\"><div style=\"text-align: left;border-bottom: solid 2px #000; padding-bottom: 5px\">CaffeineConsumption</div></td></tr><tr><td style=\"white-space: nowrap; max-width: 500px; overflow: hidden; text-overflow: ellipsis; text-align: left;\">str</td><td style=\"white-space: nowrap; max-width: 500px; overflow: hidden; text-overflow: ellipsis; text-align: left;\">str</td><td style=\"white-space: nowrap; max-width: 500px; overflow: hidden; text-overflow: ellipsis; text-align: left;\">str</td><td style=\"white-space: nowrap; max-width: 500px; overflow: hidden; text-overflow: ellipsis; text-align: left;\">bool</td><td style=\"white-space: nowrap; max-width: 500px; overflow: hidden; text-overflow: ellipsis; text-align: left;\">bool</td><td style=\"white-space: nowrap; max-width: 500px; overflow: hidden; text-overflow: ellipsis; text-align: left;\">int32</td></tr>\n",
       "</thead><tbody><tr><td style=\"white-space: nowrap; max-width: 500px; overflow: hidden; text-overflow: ellipsis; \">&quot;HG00096&quot;</td><td style=\"white-space: nowrap; max-width: 500px; overflow: hidden; text-overflow: ellipsis; \">&quot;GBR&quot;</td><td style=\"white-space: nowrap; max-width: 500px; overflow: hidden; text-overflow: ellipsis; \">&quot;EUR&quot;</td><td style=\"white-space: nowrap; max-width: 500px; overflow: hidden; text-overflow: ellipsis; \">false</td><td style=\"white-space: nowrap; max-width: 500px; overflow: hidden; text-overflow: ellipsis; \">false</td><td style=\"white-space: nowrap; max-width: 500px; overflow: hidden; text-overflow: ellipsis; \">4</td></tr>\n",
       "<tr><td style=\"white-space: nowrap; max-width: 500px; overflow: hidden; text-overflow: ellipsis; \">&quot;HG00097&quot;</td><td style=\"white-space: nowrap; max-width: 500px; overflow: hidden; text-overflow: ellipsis; \">&quot;GBR&quot;</td><td style=\"white-space: nowrap; max-width: 500px; overflow: hidden; text-overflow: ellipsis; \">&quot;EUR&quot;</td><td style=\"white-space: nowrap; max-width: 500px; overflow: hidden; text-overflow: ellipsis; \">true</td><td style=\"white-space: nowrap; max-width: 500px; overflow: hidden; text-overflow: ellipsis; \">true</td><td style=\"white-space: nowrap; max-width: 500px; overflow: hidden; text-overflow: ellipsis; \">4</td></tr>\n",
       "<tr><td style=\"white-space: nowrap; max-width: 500px; overflow: hidden; text-overflow: ellipsis; \">&quot;HG00098&quot;</td><td style=\"white-space: nowrap; max-width: 500px; overflow: hidden; text-overflow: ellipsis; \">&quot;GBR&quot;</td><td style=\"white-space: nowrap; max-width: 500px; overflow: hidden; text-overflow: ellipsis; \">&quot;EUR&quot;</td><td style=\"white-space: nowrap; max-width: 500px; overflow: hidden; text-overflow: ellipsis; \">false</td><td style=\"white-space: nowrap; max-width: 500px; overflow: hidden; text-overflow: ellipsis; \">false</td><td style=\"white-space: nowrap; max-width: 500px; overflow: hidden; text-overflow: ellipsis; \">5</td></tr>\n",
       "<tr><td style=\"white-space: nowrap; max-width: 500px; overflow: hidden; text-overflow: ellipsis; \">&quot;HG00099&quot;</td><td style=\"white-space: nowrap; max-width: 500px; overflow: hidden; text-overflow: ellipsis; \">&quot;GBR&quot;</td><td style=\"white-space: nowrap; max-width: 500px; overflow: hidden; text-overflow: ellipsis; \">&quot;EUR&quot;</td><td style=\"white-space: nowrap; max-width: 500px; overflow: hidden; text-overflow: ellipsis; \">true</td><td style=\"white-space: nowrap; max-width: 500px; overflow: hidden; text-overflow: ellipsis; \">false</td><td style=\"white-space: nowrap; max-width: 500px; overflow: hidden; text-overflow: ellipsis; \">4</td></tr>\n",
       "<tr><td style=\"white-space: nowrap; max-width: 500px; overflow: hidden; text-overflow: ellipsis; \">&quot;HG00100&quot;</td><td style=\"white-space: nowrap; max-width: 500px; overflow: hidden; text-overflow: ellipsis; \">&quot;GBR&quot;</td><td style=\"white-space: nowrap; max-width: 500px; overflow: hidden; text-overflow: ellipsis; \">&quot;EUR&quot;</td><td style=\"white-space: nowrap; max-width: 500px; overflow: hidden; text-overflow: ellipsis; \">true</td><td style=\"white-space: nowrap; max-width: 500px; overflow: hidden; text-overflow: ellipsis; \">false</td><td style=\"white-space: nowrap; max-width: 500px; overflow: hidden; text-overflow: ellipsis; \">5</td></tr>\n",
       "</tbody></table><p style=\"background: #fdd; padding: 0.4em;\">showing top 5 rows</p>\n"
      ],
      "text/plain": [
       "+-----------+------------+-----------------+----------+------------+---------------------+\n",
       "| Sample    | Population | SuperPopulation | isFemale | PurpleHair | CaffeineConsumption |\n",
       "+-----------+------------+-----------------+----------+------------+---------------------+\n",
       "| str       | str        | str             |     bool |       bool |               int32 |\n",
       "+-----------+------------+-----------------+----------+------------+---------------------+\n",
       "| \"HG00096\" | \"GBR\"      | \"EUR\"           |    false |      false |                   4 |\n",
       "| \"HG00097\" | \"GBR\"      | \"EUR\"           |     true |       true |                   4 |\n",
       "| \"HG00098\" | \"GBR\"      | \"EUR\"           |    false |      false |                   5 |\n",
       "| \"HG00099\" | \"GBR\"      | \"EUR\"           |     true |      false |                   4 |\n",
       "| \"HG00100\" | \"GBR\"      | \"EUR\"           |     true |      false |                   5 |\n",
       "+-----------+------------+-----------------+----------+------------+---------------------+\n",
       "showing top 5 rows"
      ]
     },
     "metadata": {},
     "output_type": "display_data"
    }
   ],
   "source": [
    "table.show(5, width=100)"
   ]
  },
  {
   "cell_type": "code",
   "execution_count": 19,
   "id": "a107da81",
   "metadata": {},
   "outputs": [
    {
     "name": "stdout",
     "output_type": "stream",
     "text": [
      "struct{s: str}\n"
     ]
    }
   ],
   "source": [
    "print(mt.col.dtype)"
   ]
  },
  {
   "cell_type": "code",
   "execution_count": 20,
   "id": "3334f5a9",
   "metadata": {},
   "outputs": [
    {
     "name": "stdout",
     "output_type": "stream",
     "text": [
      "struct{s: str, pheno: struct{Population: str, SuperPopulation: str, isFemale: bool, PurpleHair: bool, CaffeineConsumption: int32}}\n"
     ]
    },
    {
     "data": {
      "text/html": [
       "<table><thead><tr><td style=\"white-space: nowrap; max-width: 500px; overflow: hidden; text-overflow: ellipsis; \" colspan=\"1\"><div style=\"text-align: left;\"></div></td><td style=\"white-space: nowrap; max-width: 500px; overflow: hidden; text-overflow: ellipsis; \" colspan=\"5\"><div style=\"text-align: left;\"></div></td></tr><tr><td style=\"white-space: nowrap; max-width: 500px; overflow: hidden; text-overflow: ellipsis; \" colspan=\"1\"><div style=\"text-align: left;\"></div></td><td style=\"white-space: nowrap; max-width: 500px; overflow: hidden; text-overflow: ellipsis; \" colspan=\"5\"><div style=\"text-align: left;border-bottom: solid 2px #000; padding-bottom: 5px\">pheno</div></td></tr><tr><td style=\"white-space: nowrap; max-width: 500px; overflow: hidden; text-overflow: ellipsis; \" colspan=\"1\"><div style=\"text-align: left;border-bottom: solid 2px #000; padding-bottom: 5px\">s</div></td><td style=\"white-space: nowrap; max-width: 500px; overflow: hidden; text-overflow: ellipsis; \" colspan=\"1\"><div style=\"text-align: left;border-bottom: solid 2px #000; padding-bottom: 5px\">Population</div></td><td style=\"white-space: nowrap; max-width: 500px; overflow: hidden; text-overflow: ellipsis; \" colspan=\"1\"><div style=\"text-align: left;border-bottom: solid 2px #000; padding-bottom: 5px\">SuperPopulation</div></td><td style=\"white-space: nowrap; max-width: 500px; overflow: hidden; text-overflow: ellipsis; \" colspan=\"1\"><div style=\"text-align: left;border-bottom: solid 2px #000; padding-bottom: 5px\">isFemale</div></td><td style=\"white-space: nowrap; max-width: 500px; overflow: hidden; text-overflow: ellipsis; \" colspan=\"1\"><div style=\"text-align: left;border-bottom: solid 2px #000; padding-bottom: 5px\">PurpleHair</div></td><td style=\"white-space: nowrap; max-width: 500px; overflow: hidden; text-overflow: ellipsis; \" colspan=\"1\"><div style=\"text-align: left;border-bottom: solid 2px #000; padding-bottom: 5px\">CaffeineConsumption</div></td></tr><tr><td style=\"white-space: nowrap; max-width: 500px; overflow: hidden; text-overflow: ellipsis; text-align: left;\">str</td><td style=\"white-space: nowrap; max-width: 500px; overflow: hidden; text-overflow: ellipsis; text-align: left;\">str</td><td style=\"white-space: nowrap; max-width: 500px; overflow: hidden; text-overflow: ellipsis; text-align: left;\">str</td><td style=\"white-space: nowrap; max-width: 500px; overflow: hidden; text-overflow: ellipsis; text-align: left;\">bool</td><td style=\"white-space: nowrap; max-width: 500px; overflow: hidden; text-overflow: ellipsis; text-align: left;\">bool</td><td style=\"white-space: nowrap; max-width: 500px; overflow: hidden; text-overflow: ellipsis; text-align: left;\">int32</td></tr>\n",
       "</thead><tbody><tr><td style=\"white-space: nowrap; max-width: 500px; overflow: hidden; text-overflow: ellipsis; \">&quot;HG00096&quot;</td><td style=\"white-space: nowrap; max-width: 500px; overflow: hidden; text-overflow: ellipsis; \">&quot;GBR&quot;</td><td style=\"white-space: nowrap; max-width: 500px; overflow: hidden; text-overflow: ellipsis; \">&quot;EUR&quot;</td><td style=\"white-space: nowrap; max-width: 500px; overflow: hidden; text-overflow: ellipsis; \">false</td><td style=\"white-space: nowrap; max-width: 500px; overflow: hidden; text-overflow: ellipsis; \">false</td><td style=\"white-space: nowrap; max-width: 500px; overflow: hidden; text-overflow: ellipsis; \">4</td></tr>\n",
       "<tr><td style=\"white-space: nowrap; max-width: 500px; overflow: hidden; text-overflow: ellipsis; \">&quot;HG00099&quot;</td><td style=\"white-space: nowrap; max-width: 500px; overflow: hidden; text-overflow: ellipsis; \">&quot;GBR&quot;</td><td style=\"white-space: nowrap; max-width: 500px; overflow: hidden; text-overflow: ellipsis; \">&quot;EUR&quot;</td><td style=\"white-space: nowrap; max-width: 500px; overflow: hidden; text-overflow: ellipsis; \">true</td><td style=\"white-space: nowrap; max-width: 500px; overflow: hidden; text-overflow: ellipsis; \">false</td><td style=\"white-space: nowrap; max-width: 500px; overflow: hidden; text-overflow: ellipsis; \">4</td></tr>\n",
       "<tr><td style=\"white-space: nowrap; max-width: 500px; overflow: hidden; text-overflow: ellipsis; \">&quot;HG00105&quot;</td><td style=\"white-space: nowrap; max-width: 500px; overflow: hidden; text-overflow: ellipsis; \">&quot;GBR&quot;</td><td style=\"white-space: nowrap; max-width: 500px; overflow: hidden; text-overflow: ellipsis; \">&quot;EUR&quot;</td><td style=\"white-space: nowrap; max-width: 500px; overflow: hidden; text-overflow: ellipsis; \">false</td><td style=\"white-space: nowrap; max-width: 500px; overflow: hidden; text-overflow: ellipsis; \">false</td><td style=\"white-space: nowrap; max-width: 500px; overflow: hidden; text-overflow: ellipsis; \">4</td></tr>\n",
       "<tr><td style=\"white-space: nowrap; max-width: 500px; overflow: hidden; text-overflow: ellipsis; \">&quot;HG00118&quot;</td><td style=\"white-space: nowrap; max-width: 500px; overflow: hidden; text-overflow: ellipsis; \">&quot;GBR&quot;</td><td style=\"white-space: nowrap; max-width: 500px; overflow: hidden; text-overflow: ellipsis; \">&quot;EUR&quot;</td><td style=\"white-space: nowrap; max-width: 500px; overflow: hidden; text-overflow: ellipsis; \">true</td><td style=\"white-space: nowrap; max-width: 500px; overflow: hidden; text-overflow: ellipsis; \">false</td><td style=\"white-space: nowrap; max-width: 500px; overflow: hidden; text-overflow: ellipsis; \">3</td></tr>\n",
       "<tr><td style=\"white-space: nowrap; max-width: 500px; overflow: hidden; text-overflow: ellipsis; \">&quot;HG00129&quot;</td><td style=\"white-space: nowrap; max-width: 500px; overflow: hidden; text-overflow: ellipsis; \">&quot;GBR&quot;</td><td style=\"white-space: nowrap; max-width: 500px; overflow: hidden; text-overflow: ellipsis; \">&quot;EUR&quot;</td><td style=\"white-space: nowrap; max-width: 500px; overflow: hidden; text-overflow: ellipsis; \">false</td><td style=\"white-space: nowrap; max-width: 500px; overflow: hidden; text-overflow: ellipsis; \">false</td><td style=\"white-space: nowrap; max-width: 500px; overflow: hidden; text-overflow: ellipsis; \">6</td></tr>\n",
       "</tbody></table><p style=\"background: #fdd; padding: 0.4em;\">showing top 5 rows</p>\n"
      ],
      "text/plain": [
       "+-----------+------------------+-----------------------+----------------+\n",
       "| s         | pheno.Population | pheno.SuperPopulation | pheno.isFemale |\n",
       "+-----------+------------------+-----------------------+----------------+\n",
       "| str       | str              | str                   |           bool |\n",
       "+-----------+------------------+-----------------------+----------------+\n",
       "| \"HG00096\" | \"GBR\"            | \"EUR\"                 |          false |\n",
       "| \"HG00099\" | \"GBR\"            | \"EUR\"                 |           true |\n",
       "| \"HG00105\" | \"GBR\"            | \"EUR\"                 |          false |\n",
       "| \"HG00118\" | \"GBR\"            | \"EUR\"                 |           true |\n",
       "| \"HG00129\" | \"GBR\"            | \"EUR\"                 |          false |\n",
       "+-----------+------------------+-----------------------+----------------+\n",
       "\n",
       "+------------------+---------------------------+\n",
       "| pheno.PurpleHair | pheno.CaffeineConsumption |\n",
       "+------------------+---------------------------+\n",
       "|             bool |                     int32 |\n",
       "+------------------+---------------------------+\n",
       "|            false |                         4 |\n",
       "|            false |                         4 |\n",
       "|            false |                         4 |\n",
       "|            false |                         3 |\n",
       "|            false |                         6 |\n",
       "+------------------+---------------------------+\n",
       "showing top 5 rows"
      ]
     },
     "metadata": {},
     "output_type": "display_data"
    }
   ],
   "source": [
    "mt = mt.annotate_cols(pheno = table[mt.s]) # annotate_cols → to join table with matrix table\n",
    "print(mt.col.dtype)\n",
    "mt.col.show(5)"
   ]
  },
  {
   "cell_type": "code",
   "execution_count": 21,
   "id": "6888216b",
   "metadata": {},
   "outputs": [
    {
     "name": "stdout",
     "output_type": "stream",
     "text": [
      "--------------------------------------------------------\n",
      "Type:\n",
      "        struct {\n",
      "        s: str, \n",
      "        pheno: struct {\n",
      "            Population: str, \n",
      "            SuperPopulation: str, \n",
      "            isFemale: bool, \n",
      "            PurpleHair: bool, \n",
      "            CaffeineConsumption: int32\n",
      "        }\n",
      "    }\n",
      "--------------------------------------------------------\n",
      "Source:\n",
      "    <hail.matrixtable.MatrixTable object at 0x7ffa0a2c41d0>\n",
      "Index:\n",
      "    ['column']\n",
      "--------------------------------------------------------\n"
     ]
    }
   ],
   "source": [
    "mt.col.describe() # add 'pheno' to the column fields"
   ]
  },
  {
   "cell_type": "code",
   "execution_count": 22,
   "id": "a9e840ee",
   "metadata": {},
   "outputs": [
    {
     "data": {
      "text/plain": [
       "[Struct(Population='GBR', SuperPopulation='EUR', isFemale=False, PurpleHair=False, CaffeineConsumption=4),\n",
       " Struct(Population='GBR', SuperPopulation='EUR', isFemale=True, PurpleHair=False, CaffeineConsumption=4),\n",
       " Struct(Population='GBR', SuperPopulation='EUR', isFemale=False, PurpleHair=False, CaffeineConsumption=4),\n",
       " Struct(Population='GBR', SuperPopulation='EUR', isFemale=True, PurpleHair=False, CaffeineConsumption=3),\n",
       " Struct(Population='GBR', SuperPopulation='EUR', isFemale=False, PurpleHair=False, CaffeineConsumption=6)]"
      ]
     },
     "execution_count": 22,
     "metadata": {},
     "output_type": "execute_result"
    }
   ],
   "source": [
    "mt.pheno.take(5)"
   ]
  },
  {
   "cell_type": "code",
   "execution_count": 23,
   "id": "078d2bf4",
   "metadata": {},
   "outputs": [
    {
     "data": {
      "text/html": [
       "<table><thead><tr><td style=\"white-space: nowrap; max-width: 500px; overflow: hidden; text-overflow: ellipsis; \" colspan=\"1\"><div style=\"text-align: left;\"></div></td><td style=\"white-space: nowrap; max-width: 500px; overflow: hidden; text-overflow: ellipsis; \" colspan=\"2\"><div style=\"text-align: left;\"></div></td></tr><tr><td style=\"white-space: nowrap; max-width: 500px; overflow: hidden; text-overflow: ellipsis; \" colspan=\"1\"><div style=\"text-align: left;\"></div></td><td style=\"white-space: nowrap; max-width: 500px; overflow: hidden; text-overflow: ellipsis; \" colspan=\"2\"><div style=\"text-align: left;border-bottom: solid 2px #000; padding-bottom: 5px\"><expr></div></td></tr><tr><td style=\"white-space: nowrap; max-width: 500px; overflow: hidden; text-overflow: ellipsis; \" colspan=\"1\"><div style=\"text-align: left;border-bottom: solid 2px #000; padding-bottom: 5px\">s</div></td><td style=\"white-space: nowrap; max-width: 500px; overflow: hidden; text-overflow: ellipsis; \" colspan=\"1\"><div style=\"text-align: left;border-bottom: solid 2px #000; padding-bottom: 5px\">Population</div></td><td style=\"white-space: nowrap; max-width: 500px; overflow: hidden; text-overflow: ellipsis; \" colspan=\"1\"><div style=\"text-align: left;border-bottom: solid 2px #000; padding-bottom: 5px\">isFemale</div></td></tr><tr><td style=\"white-space: nowrap; max-width: 500px; overflow: hidden; text-overflow: ellipsis; text-align: left;\">str</td><td style=\"white-space: nowrap; max-width: 500px; overflow: hidden; text-overflow: ellipsis; text-align: left;\">str</td><td style=\"white-space: nowrap; max-width: 500px; overflow: hidden; text-overflow: ellipsis; text-align: left;\">bool</td></tr>\n",
       "</thead><tbody><tr><td style=\"white-space: nowrap; max-width: 500px; overflow: hidden; text-overflow: ellipsis; \">&quot;HG00096&quot;</td><td style=\"white-space: nowrap; max-width: 500px; overflow: hidden; text-overflow: ellipsis; \">&quot;GBR&quot;</td><td style=\"white-space: nowrap; max-width: 500px; overflow: hidden; text-overflow: ellipsis; \">false</td></tr>\n",
       "<tr><td style=\"white-space: nowrap; max-width: 500px; overflow: hidden; text-overflow: ellipsis; \">&quot;HG00099&quot;</td><td style=\"white-space: nowrap; max-width: 500px; overflow: hidden; text-overflow: ellipsis; \">&quot;GBR&quot;</td><td style=\"white-space: nowrap; max-width: 500px; overflow: hidden; text-overflow: ellipsis; \">true</td></tr>\n",
       "<tr><td style=\"white-space: nowrap; max-width: 500px; overflow: hidden; text-overflow: ellipsis; \">&quot;HG00105&quot;</td><td style=\"white-space: nowrap; max-width: 500px; overflow: hidden; text-overflow: ellipsis; \">&quot;GBR&quot;</td><td style=\"white-space: nowrap; max-width: 500px; overflow: hidden; text-overflow: ellipsis; \">false</td></tr>\n",
       "<tr><td style=\"white-space: nowrap; max-width: 500px; overflow: hidden; text-overflow: ellipsis; \">&quot;HG00118&quot;</td><td style=\"white-space: nowrap; max-width: 500px; overflow: hidden; text-overflow: ellipsis; \">&quot;GBR&quot;</td><td style=\"white-space: nowrap; max-width: 500px; overflow: hidden; text-overflow: ellipsis; \">true</td></tr>\n",
       "<tr><td style=\"white-space: nowrap; max-width: 500px; overflow: hidden; text-overflow: ellipsis; \">&quot;HG00129&quot;</td><td style=\"white-space: nowrap; max-width: 500px; overflow: hidden; text-overflow: ellipsis; \">&quot;GBR&quot;</td><td style=\"white-space: nowrap; max-width: 500px; overflow: hidden; text-overflow: ellipsis; \">false</td></tr>\n",
       "</tbody></table><p style=\"background: #fdd; padding: 0.4em;\">showing top 5 rows</p>\n"
      ],
      "text/plain": [
       "+-----------+-------------------+-----------------+\n",
       "| s         | <expr>.Population | <expr>.isFemale |\n",
       "+-----------+-------------------+-----------------+\n",
       "| str       | str               |            bool |\n",
       "+-----------+-------------------+-----------------+\n",
       "| \"HG00096\" | \"GBR\"             |           false |\n",
       "| \"HG00099\" | \"GBR\"             |            true |\n",
       "| \"HG00105\" | \"GBR\"             |           false |\n",
       "| \"HG00118\" | \"GBR\"             |            true |\n",
       "| \"HG00129\" | \"GBR\"             |           false |\n",
       "+-----------+-------------------+-----------------+\n",
       "showing top 5 rows"
      ]
     },
     "metadata": {},
     "output_type": "display_data"
    }
   ],
   "source": [
    "mt.pheno.select(\"Population\",\"isFemale\").show(5)"
   ]
  },
  {
   "cell_type": "markdown",
   "id": "be941e44",
   "metadata": {},
   "source": [
    "## Use query functions and the Hail Expression Language"
   ]
  },
  {
   "cell_type": "markdown",
   "id": "8fdbbe46",
   "metadata": {},
   "source": [
    "### Aggregators\n",
    "* The aggregators module is exposed as **hl.agg**\n",
    "* 각종 function들과 함께 hail matrix table의 수학적, 통계적 계산 담당  \n",
    "* Reference) https://azhailtest0.net/docs/0.2/aggregators.html  \n",
    "* _c.f. table.aggregate(expr) : table object's method that aggregate over rows into a local value_  \n",
    "\n",
    "1. counter(expr, *[,weight]) : Count the occurrences of each unique record and return a dictionary\n",
    "2. stats(expr) : Compute a number of useful statistics about *expr*\n",
    "3. count() : Count the number of records(rows)"
   ]
  },
  {
   "cell_type": "code",
   "execution_count": 24,
   "id": "139aad0e",
   "metadata": {},
   "outputs": [
    {
     "name": "stdout",
     "output_type": "stream",
     "text": [
      "<module 'hail.expr.aggregators' from '/home/koh/miniconda3/envs/python3.7/lib/python3.7/site-packages/hail/expr/aggregators/__init__.py'>\n",
      "{'AFR': 1018, 'AMR': 535, 'EAS': 617, 'EUR': 669, 'SAS': 661}\n"
     ]
    }
   ],
   "source": [
    "pprint(hl.agg)\n",
    "pprint(table.aggregate(hl.agg.counter(table.SuperPopulation))) "
   ]
  },
  {
   "cell_type": "code",
   "execution_count": 272,
   "id": "92c7a61a",
   "metadata": {},
   "outputs": [
    {
     "name": "stdout",
     "output_type": "stream",
     "text": [
      "Struct(mean=3.9837142857142855, stdev=1.7021055628070711, min=-1.0, max=10.0, n=3500, sum=13943.0)\n",
      "{'max': 10.0,\n",
      " 'mean': 3.9837142857142855,\n",
      " 'min': -1.0,\n",
      " 'n': 3500,\n",
      " 'stdev': 1.7021055628070711,\n",
      " 'sum': 13943.0}\n"
     ]
    }
   ],
   "source": [
    "# comparing print and pprint\n",
    "print(table.aggregate(hl.agg.stats(table.CaffeineConsumption)))\n",
    "pprint(table.aggregate(hl.agg.stats(table.CaffeineConsumption)))"
   ]
  },
  {
   "cell_type": "code",
   "execution_count": 25,
   "id": "a6ae85b6",
   "metadata": {},
   "outputs": [
    {
     "data": {
      "text/plain": [
       "3500"
      ]
     },
     "execution_count": 25,
     "metadata": {},
     "output_type": "execute_result"
    }
   ],
   "source": [
    "table.count()"
   ]
  },
  {
   "cell_type": "code",
   "execution_count": 26,
   "id": "2045b9b3",
   "metadata": {},
   "outputs": [
    {
     "name": "stdout",
     "output_type": "stream",
     "text": [
      "284\n",
      "10879\n",
      "(10879, 284)\n"
     ]
    }
   ],
   "source": [
    "print(mt.count_cols()) # number of samples\n",
    "print(mt.count_rows()) # number of locus\n",
    "print(mt.count())"
   ]
  },
  {
   "cell_type": "code",
   "execution_count": 27,
   "id": "be37a49f",
   "metadata": {},
   "outputs": [
    {
     "data": {
      "text/plain": [
       "{'AFR': 76, 'EAS': 72, 'AMR': 34, 'SAS': 55, 'EUR': 47}"
      ]
     },
     "execution_count": 27,
     "metadata": {},
     "output_type": "execute_result"
    }
   ],
   "source": [
    "mt.aggregate_cols(hl.agg.counter(mt.pheno.SuperPopulation)) #MatrixTable.aggregate_cols : aggregate over columns to a local value"
   ]
  },
  {
   "cell_type": "code",
   "execution_count": 28,
   "id": "50b16043",
   "metadata": {},
   "outputs": [
    {
     "name": "stdout",
     "output_type": "stream",
     "text": [
      "{'max': 9.0,\n",
      " 'mean': 4.415492957746479,\n",
      " 'min': 0.0,\n",
      " 'n': 284,\n",
      " 'stdev': 1.577763427465917,\n",
      " 'sum': 1254.0}\n"
     ]
    }
   ],
   "source": [
    "pprint(mt.aggregate_cols(hl.agg.stats(mt.pheno.CaffeineConsumption)))"
   ]
  },
  {
   "cell_type": "code",
   "execution_count": 29,
   "id": "2405963a",
   "metadata": {
    "scrolled": true
   },
   "outputs": [
    {
     "name": "stdout",
     "output_type": "stream",
     "text": [
      "{Struct(ref='A', alt='C'): 451,\n",
      " Struct(ref='C', alt='T'): 2418,\n",
      " Struct(ref='T', alt='A'): 77,\n",
      " Struct(ref='C', alt='A'): 494,\n",
      " Struct(ref='T', alt='G'): 466,\n",
      " Struct(ref='T', alt='C'): 1864,\n",
      " Struct(ref='G', alt='T'): 477,\n",
      " Struct(ref='A', alt='G'): 1929,\n",
      " Struct(ref='C', alt='G'): 150,\n",
      " Struct(ref='G', alt='A'): 2367,\n",
      " Struct(ref='G', alt='C'): 111,\n",
      " Struct(ref='A', alt='T'): 75}\n"
     ]
    }
   ],
   "source": [
    "snp_counts = mt.aggregate_rows(hl.agg.counter(hl.Struct(ref=mt.alleles[0], alt=mt.alleles[1])))\n",
    "pprint(snp_counts) # sum of snp_counts is the number of rows"
   ]
  },
  {
   "cell_type": "code",
   "execution_count": 82,
   "id": "24cf5898",
   "metadata": {},
   "outputs": [
    {
     "data": {
      "text/plain": [
       "{Struct(ref='C', alt='A'): 140296,\n",
       " Struct(ref='A', alt='C'): 128084,\n",
       " Struct(ref='C', alt='T'): 686712,\n",
       " Struct(ref='C', alt='G'): 42600,\n",
       " Struct(ref='A', alt='T'): 21300,\n",
       " Struct(ref='G', alt='A'): 672228,\n",
       " Struct(ref='G', alt='C'): 31524,\n",
       " Struct(ref='T', alt='G'): 132344,\n",
       " Struct(ref='A', alt='G'): 547836,\n",
       " Struct(ref='G', alt='T'): 135468,\n",
       " Struct(ref='T', alt='C'): 529376,\n",
       " Struct(ref='T', alt='A'): 21868}"
      ]
     },
     "execution_count": 82,
     "metadata": {},
     "output_type": "execute_result"
    }
   ],
   "source": [
    "mt.aggregate_entries(hl.agg.counter(hl.Struct(ref=mt.alleles[0], alt=mt.alleles[1])))"
   ]
  },
  {
   "cell_type": "markdown",
   "id": "65c8006e",
   "metadata": {},
   "source": [
    "### Advanced\n",
    "### Filter and Hail expression\n",
    "1. MatrixTable.filter_{rows, cols, entries}(condition, keep=True)  \n",
    "- keep  \n",
    "    1) True : remain {rows, cols, entries} that satisfy the conditions  \n",
    "    2) False : remove {rows, cols, entries} that satisfy the conditions → 특정 조건을 만족하는 {rows, cols, entries}을 제외시킬 때 유용\n",
    "- filtering의 결과는 반드시 별도의 변수로 저장한 뒤, 또 다른 연산 및 함수 사용\n",
    "\n",
    "2. hl.eval(expression) : Evaluate a Hail expression, returning the result.\n",
    "- ex) hl.eval(hl.call(0,1)) *returns* __Call(alleles=[0, 1], phased=False)__"
   ]
  },
  {
   "cell_type": "code",
   "execution_count": 173,
   "id": "25ef3eb6",
   "metadata": {},
   "outputs": [
    {
     "data": {
      "text/plain": [
       "{Call(alleles=[0, 0], phased=False): 1730651,\n",
       " Call(alleles=[0, 1], phased=False): 741176,\n",
       " Call(alleles=[1, 1], phased=False): 576444,\n",
       " None: 41365}"
      ]
     },
     "execution_count": 173,
     "metadata": {},
     "output_type": "execute_result"
    }
   ],
   "source": [
    "mt.aggregate_entries(hl.agg.counter(mt.GT))"
   ]
  },
  {
   "cell_type": "code",
   "execution_count": 150,
   "id": "29b90ae1",
   "metadata": {},
   "outputs": [
    {
     "data": {
      "text/html": [
       "<table><thead><tr><td style=\"white-space: nowrap; max-width: 500px; overflow: hidden; text-overflow: ellipsis; \" colspan=\"1\"><div style=\"text-align: left;\"></div></td><td style=\"white-space: nowrap; max-width: 500px; overflow: hidden; text-overflow: ellipsis; \" colspan=\"1\"><div style=\"text-align: left;\"></div></td><td style=\"white-space: nowrap; max-width: 500px; overflow: hidden; text-overflow: ellipsis; \" colspan=\"1\"><div style=\"text-align: left;\"></div></td><td style=\"white-space: nowrap; max-width: 500px; overflow: hidden; text-overflow: ellipsis; \" colspan=\"1\"><div style=\"text-align: left;\"></div></td><td style=\"white-space: nowrap; max-width: 500px; overflow: hidden; text-overflow: ellipsis; \" colspan=\"1\"><div style=\"text-align: left;\"></div></td><td style=\"white-space: nowrap; max-width: 500px; overflow: hidden; text-overflow: ellipsis; \" colspan=\"18\"><div style=\"text-align: left;\"></div></td><td style=\"white-space: nowrap; max-width: 500px; overflow: hidden; text-overflow: ellipsis; \" colspan=\"1\"><div style=\"text-align: left;\"></div></td><td style=\"white-space: nowrap; max-width: 500px; overflow: hidden; text-overflow: ellipsis; \" colspan=\"5\"><div style=\"text-align: left;\"></div></td><td style=\"white-space: nowrap; max-width: 500px; overflow: hidden; text-overflow: ellipsis; \" colspan=\"1\"><div style=\"text-align: left;\"></div></td><td style=\"white-space: nowrap; max-width: 500px; overflow: hidden; text-overflow: ellipsis; \" colspan=\"1\"><div style=\"text-align: left;\"></div></td><td style=\"white-space: nowrap; max-width: 500px; overflow: hidden; text-overflow: ellipsis; \" colspan=\"1\"><div style=\"text-align: left;\"></div></td><td style=\"white-space: nowrap; max-width: 500px; overflow: hidden; text-overflow: ellipsis; \" colspan=\"1\"><div style=\"text-align: left;\"></div></td><td style=\"white-space: nowrap; max-width: 500px; overflow: hidden; text-overflow: ellipsis; \" colspan=\"1\"><div style=\"text-align: left;\"></div></td></tr><tr><td style=\"white-space: nowrap; max-width: 500px; overflow: hidden; text-overflow: ellipsis; \" colspan=\"1\"><div style=\"text-align: left;\"></div></td><td style=\"white-space: nowrap; max-width: 500px; overflow: hidden; text-overflow: ellipsis; \" colspan=\"1\"><div style=\"text-align: left;\"></div></td><td style=\"white-space: nowrap; max-width: 500px; overflow: hidden; text-overflow: ellipsis; \" colspan=\"1\"><div style=\"text-align: left;\"></div></td><td style=\"white-space: nowrap; max-width: 500px; overflow: hidden; text-overflow: ellipsis; \" colspan=\"1\"><div style=\"text-align: left;\"></div></td><td style=\"white-space: nowrap; max-width: 500px; overflow: hidden; text-overflow: ellipsis; \" colspan=\"1\"><div style=\"text-align: left;\"></div></td><td style=\"white-space: nowrap; max-width: 500px; overflow: hidden; text-overflow: ellipsis; \" colspan=\"18\"><div style=\"text-align: left;border-bottom: solid 2px #000; padding-bottom: 5px\">info</div></td><td style=\"white-space: nowrap; max-width: 500px; overflow: hidden; text-overflow: ellipsis; \" colspan=\"1\"><div style=\"text-align: left;\"></div></td><td style=\"white-space: nowrap; max-width: 500px; overflow: hidden; text-overflow: ellipsis; \" colspan=\"5\"><div style=\"text-align: left;border-bottom: solid 2px #000; padding-bottom: 5px\">pheno</div></td><td style=\"white-space: nowrap; max-width: 500px; overflow: hidden; text-overflow: ellipsis; \" colspan=\"1\"><div style=\"text-align: left;\"></div></td><td style=\"white-space: nowrap; max-width: 500px; overflow: hidden; text-overflow: ellipsis; \" colspan=\"1\"><div style=\"text-align: left;\"></div></td><td style=\"white-space: nowrap; max-width: 500px; overflow: hidden; text-overflow: ellipsis; \" colspan=\"1\"><div style=\"text-align: left;\"></div></td><td style=\"white-space: nowrap; max-width: 500px; overflow: hidden; text-overflow: ellipsis; \" colspan=\"1\"><div style=\"text-align: left;\"></div></td><td style=\"white-space: nowrap; max-width: 500px; overflow: hidden; text-overflow: ellipsis; \" colspan=\"1\"><div style=\"text-align: left;\"></div></td></tr><tr><td style=\"white-space: nowrap; max-width: 500px; overflow: hidden; text-overflow: ellipsis; \" colspan=\"1\"><div style=\"text-align: left;border-bottom: solid 2px #000; padding-bottom: 5px\">locus</div></td><td style=\"white-space: nowrap; max-width: 500px; overflow: hidden; text-overflow: ellipsis; \" colspan=\"1\"><div style=\"text-align: left;border-bottom: solid 2px #000; padding-bottom: 5px\">alleles</div></td><td style=\"white-space: nowrap; max-width: 500px; overflow: hidden; text-overflow: ellipsis; \" colspan=\"1\"><div style=\"text-align: left;border-bottom: solid 2px #000; padding-bottom: 5px\">rsid</div></td><td style=\"white-space: nowrap; max-width: 500px; overflow: hidden; text-overflow: ellipsis; \" colspan=\"1\"><div style=\"text-align: left;border-bottom: solid 2px #000; padding-bottom: 5px\">qual</div></td><td style=\"white-space: nowrap; max-width: 500px; overflow: hidden; text-overflow: ellipsis; \" colspan=\"1\"><div style=\"text-align: left;border-bottom: solid 2px #000; padding-bottom: 5px\">filters</div></td><td style=\"white-space: nowrap; max-width: 500px; overflow: hidden; text-overflow: ellipsis; \" colspan=\"1\"><div style=\"text-align: left;border-bottom: solid 2px #000; padding-bottom: 5px\">AC</div></td><td style=\"white-space: nowrap; max-width: 500px; overflow: hidden; text-overflow: ellipsis; \" colspan=\"1\"><div style=\"text-align: left;border-bottom: solid 2px #000; padding-bottom: 5px\">AF</div></td><td style=\"white-space: nowrap; max-width: 500px; overflow: hidden; text-overflow: ellipsis; \" colspan=\"1\"><div style=\"text-align: left;border-bottom: solid 2px #000; padding-bottom: 5px\">AN</div></td><td style=\"white-space: nowrap; max-width: 500px; overflow: hidden; text-overflow: ellipsis; \" colspan=\"1\"><div style=\"text-align: left;border-bottom: solid 2px #000; padding-bottom: 5px\">BaseQRankSum</div></td><td style=\"white-space: nowrap; max-width: 500px; overflow: hidden; text-overflow: ellipsis; \" colspan=\"1\"><div style=\"text-align: left;border-bottom: solid 2px #000; padding-bottom: 5px\">ClippingRankSum</div></td><td style=\"white-space: nowrap; max-width: 500px; overflow: hidden; text-overflow: ellipsis; \" colspan=\"1\"><div style=\"text-align: left;border-bottom: solid 2px #000; padding-bottom: 5px\">DP</div></td><td style=\"white-space: nowrap; max-width: 500px; overflow: hidden; text-overflow: ellipsis; \" colspan=\"1\"><div style=\"text-align: left;border-bottom: solid 2px #000; padding-bottom: 5px\">DS</div></td><td style=\"white-space: nowrap; max-width: 500px; overflow: hidden; text-overflow: ellipsis; \" colspan=\"1\"><div style=\"text-align: left;border-bottom: solid 2px #000; padding-bottom: 5px\">FS</div></td><td style=\"white-space: nowrap; max-width: 500px; overflow: hidden; text-overflow: ellipsis; \" colspan=\"1\"><div style=\"text-align: left;border-bottom: solid 2px #000; padding-bottom: 5px\">HaplotypeScore</div></td><td style=\"white-space: nowrap; max-width: 500px; overflow: hidden; text-overflow: ellipsis; \" colspan=\"1\"><div style=\"text-align: left;border-bottom: solid 2px #000; padding-bottom: 5px\">InbreedingCoeff</div></td><td style=\"white-space: nowrap; max-width: 500px; overflow: hidden; text-overflow: ellipsis; \" colspan=\"1\"><div style=\"text-align: left;border-bottom: solid 2px #000; padding-bottom: 5px\">MLEAC</div></td><td style=\"white-space: nowrap; max-width: 500px; overflow: hidden; text-overflow: ellipsis; \" colspan=\"1\"><div style=\"text-align: left;border-bottom: solid 2px #000; padding-bottom: 5px\">MLEAF</div></td><td style=\"white-space: nowrap; max-width: 500px; overflow: hidden; text-overflow: ellipsis; \" colspan=\"1\"><div style=\"text-align: left;border-bottom: solid 2px #000; padding-bottom: 5px\">MQ</div></td><td style=\"white-space: nowrap; max-width: 500px; overflow: hidden; text-overflow: ellipsis; \" colspan=\"1\"><div style=\"text-align: left;border-bottom: solid 2px #000; padding-bottom: 5px\">MQ0</div></td><td style=\"white-space: nowrap; max-width: 500px; overflow: hidden; text-overflow: ellipsis; \" colspan=\"1\"><div style=\"text-align: left;border-bottom: solid 2px #000; padding-bottom: 5px\">MQRankSum</div></td><td style=\"white-space: nowrap; max-width: 500px; overflow: hidden; text-overflow: ellipsis; \" colspan=\"1\"><div style=\"text-align: left;border-bottom: solid 2px #000; padding-bottom: 5px\">QD</div></td><td style=\"white-space: nowrap; max-width: 500px; overflow: hidden; text-overflow: ellipsis; \" colspan=\"1\"><div style=\"text-align: left;border-bottom: solid 2px #000; padding-bottom: 5px\">ReadPosRankSum</div></td><td style=\"white-space: nowrap; max-width: 500px; overflow: hidden; text-overflow: ellipsis; \" colspan=\"1\"><div style=\"text-align: left;border-bottom: solid 2px #000; padding-bottom: 5px\">set</div></td><td style=\"white-space: nowrap; max-width: 500px; overflow: hidden; text-overflow: ellipsis; \" colspan=\"1\"><div style=\"text-align: left;border-bottom: solid 2px #000; padding-bottom: 5px\">s</div></td><td style=\"white-space: nowrap; max-width: 500px; overflow: hidden; text-overflow: ellipsis; \" colspan=\"1\"><div style=\"text-align: left;border-bottom: solid 2px #000; padding-bottom: 5px\">Population</div></td><td style=\"white-space: nowrap; max-width: 500px; overflow: hidden; text-overflow: ellipsis; \" colspan=\"1\"><div style=\"text-align: left;border-bottom: solid 2px #000; padding-bottom: 5px\">SuperPopulation</div></td><td style=\"white-space: nowrap; max-width: 500px; overflow: hidden; text-overflow: ellipsis; \" colspan=\"1\"><div style=\"text-align: left;border-bottom: solid 2px #000; padding-bottom: 5px\">isFemale</div></td><td style=\"white-space: nowrap; max-width: 500px; overflow: hidden; text-overflow: ellipsis; \" colspan=\"1\"><div style=\"text-align: left;border-bottom: solid 2px #000; padding-bottom: 5px\">PurpleHair</div></td><td style=\"white-space: nowrap; max-width: 500px; overflow: hidden; text-overflow: ellipsis; \" colspan=\"1\"><div style=\"text-align: left;border-bottom: solid 2px #000; padding-bottom: 5px\">CaffeineConsumption</div></td><td style=\"white-space: nowrap; max-width: 500px; overflow: hidden; text-overflow: ellipsis; \" colspan=\"1\"><div style=\"text-align: left;border-bottom: solid 2px #000; padding-bottom: 5px\">GT</div></td><td style=\"white-space: nowrap; max-width: 500px; overflow: hidden; text-overflow: ellipsis; \" colspan=\"1\"><div style=\"text-align: left;border-bottom: solid 2px #000; padding-bottom: 5px\">AD</div></td><td style=\"white-space: nowrap; max-width: 500px; overflow: hidden; text-overflow: ellipsis; \" colspan=\"1\"><div style=\"text-align: left;border-bottom: solid 2px #000; padding-bottom: 5px\">DP</div></td><td style=\"white-space: nowrap; max-width: 500px; overflow: hidden; text-overflow: ellipsis; \" colspan=\"1\"><div style=\"text-align: left;border-bottom: solid 2px #000; padding-bottom: 5px\">GQ</div></td><td style=\"white-space: nowrap; max-width: 500px; overflow: hidden; text-overflow: ellipsis; \" colspan=\"1\"><div style=\"text-align: left;border-bottom: solid 2px #000; padding-bottom: 5px\">PL</div></td></tr><tr><td style=\"white-space: nowrap; max-width: 500px; overflow: hidden; text-overflow: ellipsis; text-align: left;\">locus&lt;GRCh37&gt;</td><td style=\"white-space: nowrap; max-width: 500px; overflow: hidden; text-overflow: ellipsis; text-align: left;\">array&lt;str&gt;</td><td style=\"white-space: nowrap; max-width: 500px; overflow: hidden; text-overflow: ellipsis; text-align: left;\">str</td><td style=\"white-space: nowrap; max-width: 500px; overflow: hidden; text-overflow: ellipsis; text-align: left;\">float64</td><td style=\"white-space: nowrap; max-width: 500px; overflow: hidden; text-overflow: ellipsis; text-align: left;\">set&lt;str&gt;</td><td style=\"white-space: nowrap; max-width: 500px; overflow: hidden; text-overflow: ellipsis; text-align: left;\">array&lt;int32&gt;</td><td style=\"white-space: nowrap; max-width: 500px; overflow: hidden; text-overflow: ellipsis; text-align: left;\">array&lt;float64&gt;</td><td style=\"white-space: nowrap; max-width: 500px; overflow: hidden; text-overflow: ellipsis; text-align: left;\">int32</td><td style=\"white-space: nowrap; max-width: 500px; overflow: hidden; text-overflow: ellipsis; text-align: left;\">float64</td><td style=\"white-space: nowrap; max-width: 500px; overflow: hidden; text-overflow: ellipsis; text-align: left;\">float64</td><td style=\"white-space: nowrap; max-width: 500px; overflow: hidden; text-overflow: ellipsis; text-align: left;\">int32</td><td style=\"white-space: nowrap; max-width: 500px; overflow: hidden; text-overflow: ellipsis; text-align: left;\">bool</td><td style=\"white-space: nowrap; max-width: 500px; overflow: hidden; text-overflow: ellipsis; text-align: left;\">float64</td><td style=\"white-space: nowrap; max-width: 500px; overflow: hidden; text-overflow: ellipsis; text-align: left;\">float64</td><td style=\"white-space: nowrap; max-width: 500px; overflow: hidden; text-overflow: ellipsis; text-align: left;\">float64</td><td style=\"white-space: nowrap; max-width: 500px; overflow: hidden; text-overflow: ellipsis; text-align: left;\">array&lt;int32&gt;</td><td style=\"white-space: nowrap; max-width: 500px; overflow: hidden; text-overflow: ellipsis; text-align: left;\">array&lt;float64&gt;</td><td style=\"white-space: nowrap; max-width: 500px; overflow: hidden; text-overflow: ellipsis; text-align: left;\">float64</td><td style=\"white-space: nowrap; max-width: 500px; overflow: hidden; text-overflow: ellipsis; text-align: left;\">int32</td><td style=\"white-space: nowrap; max-width: 500px; overflow: hidden; text-overflow: ellipsis; text-align: left;\">float64</td><td style=\"white-space: nowrap; max-width: 500px; overflow: hidden; text-overflow: ellipsis; text-align: left;\">float64</td><td style=\"white-space: nowrap; max-width: 500px; overflow: hidden; text-overflow: ellipsis; text-align: left;\">float64</td><td style=\"white-space: nowrap; max-width: 500px; overflow: hidden; text-overflow: ellipsis; text-align: left;\">str</td><td style=\"white-space: nowrap; max-width: 500px; overflow: hidden; text-overflow: ellipsis; text-align: left;\">str</td><td style=\"white-space: nowrap; max-width: 500px; overflow: hidden; text-overflow: ellipsis; text-align: left;\">str</td><td style=\"white-space: nowrap; max-width: 500px; overflow: hidden; text-overflow: ellipsis; text-align: left;\">str</td><td style=\"white-space: nowrap; max-width: 500px; overflow: hidden; text-overflow: ellipsis; text-align: left;\">bool</td><td style=\"white-space: nowrap; max-width: 500px; overflow: hidden; text-overflow: ellipsis; text-align: left;\">bool</td><td style=\"white-space: nowrap; max-width: 500px; overflow: hidden; text-overflow: ellipsis; text-align: left;\">int32</td><td style=\"white-space: nowrap; max-width: 500px; overflow: hidden; text-overflow: ellipsis; text-align: left;\">call</td><td style=\"white-space: nowrap; max-width: 500px; overflow: hidden; text-overflow: ellipsis; text-align: left;\">array&lt;int32&gt;</td><td style=\"white-space: nowrap; max-width: 500px; overflow: hidden; text-overflow: ellipsis; text-align: left;\">int32</td><td style=\"white-space: nowrap; max-width: 500px; overflow: hidden; text-overflow: ellipsis; text-align: left;\">int32</td><td style=\"white-space: nowrap; max-width: 500px; overflow: hidden; text-overflow: ellipsis; text-align: left;\">array&lt;int32&gt;</td></tr>\n",
       "</thead><tbody><tr><td style=\"white-space: nowrap; max-width: 500px; overflow: hidden; text-overflow: ellipsis; \">1:904165</td><td style=\"white-space: nowrap; max-width: 500px; overflow: hidden; text-overflow: ellipsis; \">[&quot;G&quot;,&quot;A&quot;]</td><td style=\"white-space: nowrap; max-width: 500px; overflow: hidden; text-overflow: ellipsis; \">NA</td><td style=\"white-space: nowrap; max-width: 500px; overflow: hidden; text-overflow: ellipsis; \">5.23e+04</td><td style=\"white-space: nowrap; max-width: 500px; overflow: hidden; text-overflow: ellipsis; \">NA</td><td style=\"white-space: nowrap; max-width: 500px; overflow: hidden; text-overflow: ellipsis; \">[518]</td><td style=\"white-space: nowrap; max-width: 500px; overflow: hidden; text-overflow: ellipsis; \">[1.03e-01]</td><td style=\"white-space: nowrap; max-width: 500px; overflow: hidden; text-overflow: ellipsis; \">5020</td><td style=\"white-space: nowrap; max-width: 500px; overflow: hidden; text-overflow: ellipsis; \">-3.39e+00</td><td style=\"white-space: nowrap; max-width: 500px; overflow: hidden; text-overflow: ellipsis; \">-1.70e-01</td><td style=\"white-space: nowrap; max-width: 500px; overflow: hidden; text-overflow: ellipsis; \">17827</td><td style=\"white-space: nowrap; max-width: 500px; overflow: hidden; text-overflow: ellipsis; \">false</td><td style=\"white-space: nowrap; max-width: 500px; overflow: hidden; text-overflow: ellipsis; \">2.23e+00</td><td style=\"white-space: nowrap; max-width: 500px; overflow: hidden; text-overflow: ellipsis; \">NA</td><td style=\"white-space: nowrap; max-width: 500px; overflow: hidden; text-overflow: ellipsis; \">9.88e-02</td><td style=\"white-space: nowrap; max-width: 500px; overflow: hidden; text-overflow: ellipsis; \">[514]</td><td style=\"white-space: nowrap; max-width: 500px; overflow: hidden; text-overflow: ellipsis; \">[1.02e-01]</td><td style=\"white-space: nowrap; max-width: 500px; overflow: hidden; text-overflow: ellipsis; \">5.91e+01</td><td style=\"white-space: nowrap; max-width: 500px; overflow: hidden; text-overflow: ellipsis; \">0</td><td style=\"white-space: nowrap; max-width: 500px; overflow: hidden; text-overflow: ellipsis; \">1.45e+00</td><td style=\"white-space: nowrap; max-width: 500px; overflow: hidden; text-overflow: ellipsis; \">1.50e+01</td><td style=\"white-space: nowrap; max-width: 500px; overflow: hidden; text-overflow: ellipsis; \">6.29e+00</td><td style=\"white-space: nowrap; max-width: 500px; overflow: hidden; text-overflow: ellipsis; \">NA</td><td style=\"white-space: nowrap; max-width: 500px; overflow: hidden; text-overflow: ellipsis; \">&quot;HG00607&quot;</td><td style=\"white-space: nowrap; max-width: 500px; overflow: hidden; text-overflow: ellipsis; \">&quot;CHS&quot;</td><td style=\"white-space: nowrap; max-width: 500px; overflow: hidden; text-overflow: ellipsis; \">&quot;EAS&quot;</td><td style=\"white-space: nowrap; max-width: 500px; overflow: hidden; text-overflow: ellipsis; \">false</td><td style=\"white-space: nowrap; max-width: 500px; overflow: hidden; text-overflow: ellipsis; \">false</td><td style=\"white-space: nowrap; max-width: 500px; overflow: hidden; text-overflow: ellipsis; \">5</td><td style=\"white-space: nowrap; max-width: 500px; overflow: hidden; text-overflow: ellipsis; \">0/1</td><td style=\"white-space: nowrap; max-width: 500px; overflow: hidden; text-overflow: ellipsis; \">[2,2]</td><td style=\"white-space: nowrap; max-width: 500px; overflow: hidden; text-overflow: ellipsis; \">4</td><td style=\"white-space: nowrap; max-width: 500px; overflow: hidden; text-overflow: ellipsis; \">25</td><td style=\"white-space: nowrap; max-width: 500px; overflow: hidden; text-overflow: ellipsis; \">[25,0,58]</td></tr>\n",
       "<tr><td style=\"white-space: nowrap; max-width: 500px; overflow: hidden; text-overflow: ellipsis; \">1:904165</td><td style=\"white-space: nowrap; max-width: 500px; overflow: hidden; text-overflow: ellipsis; \">[&quot;G&quot;,&quot;A&quot;]</td><td style=\"white-space: nowrap; max-width: 500px; overflow: hidden; text-overflow: ellipsis; \">NA</td><td style=\"white-space: nowrap; max-width: 500px; overflow: hidden; text-overflow: ellipsis; \">5.23e+04</td><td style=\"white-space: nowrap; max-width: 500px; overflow: hidden; text-overflow: ellipsis; \">NA</td><td style=\"white-space: nowrap; max-width: 500px; overflow: hidden; text-overflow: ellipsis; \">[518]</td><td style=\"white-space: nowrap; max-width: 500px; overflow: hidden; text-overflow: ellipsis; \">[1.03e-01]</td><td style=\"white-space: nowrap; max-width: 500px; overflow: hidden; text-overflow: ellipsis; \">5020</td><td style=\"white-space: nowrap; max-width: 500px; overflow: hidden; text-overflow: ellipsis; \">-3.39e+00</td><td style=\"white-space: nowrap; max-width: 500px; overflow: hidden; text-overflow: ellipsis; \">-1.70e-01</td><td style=\"white-space: nowrap; max-width: 500px; overflow: hidden; text-overflow: ellipsis; \">17827</td><td style=\"white-space: nowrap; max-width: 500px; overflow: hidden; text-overflow: ellipsis; \">false</td><td style=\"white-space: nowrap; max-width: 500px; overflow: hidden; text-overflow: ellipsis; \">2.23e+00</td><td style=\"white-space: nowrap; max-width: 500px; overflow: hidden; text-overflow: ellipsis; \">NA</td><td style=\"white-space: nowrap; max-width: 500px; overflow: hidden; text-overflow: ellipsis; \">9.88e-02</td><td style=\"white-space: nowrap; max-width: 500px; overflow: hidden; text-overflow: ellipsis; \">[514]</td><td style=\"white-space: nowrap; max-width: 500px; overflow: hidden; text-overflow: ellipsis; \">[1.02e-01]</td><td style=\"white-space: nowrap; max-width: 500px; overflow: hidden; text-overflow: ellipsis; \">5.91e+01</td><td style=\"white-space: nowrap; max-width: 500px; overflow: hidden; text-overflow: ellipsis; \">0</td><td style=\"white-space: nowrap; max-width: 500px; overflow: hidden; text-overflow: ellipsis; \">1.45e+00</td><td style=\"white-space: nowrap; max-width: 500px; overflow: hidden; text-overflow: ellipsis; \">1.50e+01</td><td style=\"white-space: nowrap; max-width: 500px; overflow: hidden; text-overflow: ellipsis; \">6.29e+00</td><td style=\"white-space: nowrap; max-width: 500px; overflow: hidden; text-overflow: ellipsis; \">NA</td><td style=\"white-space: nowrap; max-width: 500px; overflow: hidden; text-overflow: ellipsis; \">&quot;HG00705&quot;</td><td style=\"white-space: nowrap; max-width: 500px; overflow: hidden; text-overflow: ellipsis; \">&quot;CHS&quot;</td><td style=\"white-space: nowrap; max-width: 500px; overflow: hidden; text-overflow: ellipsis; \">&quot;EAS&quot;</td><td style=\"white-space: nowrap; max-width: 500px; overflow: hidden; text-overflow: ellipsis; \">true</td><td style=\"white-space: nowrap; max-width: 500px; overflow: hidden; text-overflow: ellipsis; \">true</td><td style=\"white-space: nowrap; max-width: 500px; overflow: hidden; text-overflow: ellipsis; \">5</td><td style=\"white-space: nowrap; max-width: 500px; overflow: hidden; text-overflow: ellipsis; \">0/1</td><td style=\"white-space: nowrap; max-width: 500px; overflow: hidden; text-overflow: ellipsis; \">[1,2]</td><td style=\"white-space: nowrap; max-width: 500px; overflow: hidden; text-overflow: ellipsis; \">3</td><td style=\"white-space: nowrap; max-width: 500px; overflow: hidden; text-overflow: ellipsis; \">25</td><td style=\"white-space: nowrap; max-width: 500px; overflow: hidden; text-overflow: ellipsis; \">[68,0,25]</td></tr>\n",
       "<tr><td style=\"white-space: nowrap; max-width: 500px; overflow: hidden; text-overflow: ellipsis; \">1:904165</td><td style=\"white-space: nowrap; max-width: 500px; overflow: hidden; text-overflow: ellipsis; \">[&quot;G&quot;,&quot;A&quot;]</td><td style=\"white-space: nowrap; max-width: 500px; overflow: hidden; text-overflow: ellipsis; \">NA</td><td style=\"white-space: nowrap; max-width: 500px; overflow: hidden; text-overflow: ellipsis; \">5.23e+04</td><td style=\"white-space: nowrap; max-width: 500px; overflow: hidden; text-overflow: ellipsis; \">NA</td><td style=\"white-space: nowrap; max-width: 500px; overflow: hidden; text-overflow: ellipsis; \">[518]</td><td style=\"white-space: nowrap; max-width: 500px; overflow: hidden; text-overflow: ellipsis; \">[1.03e-01]</td><td style=\"white-space: nowrap; max-width: 500px; overflow: hidden; text-overflow: ellipsis; \">5020</td><td style=\"white-space: nowrap; max-width: 500px; overflow: hidden; text-overflow: ellipsis; \">-3.39e+00</td><td style=\"white-space: nowrap; max-width: 500px; overflow: hidden; text-overflow: ellipsis; \">-1.70e-01</td><td style=\"white-space: nowrap; max-width: 500px; overflow: hidden; text-overflow: ellipsis; \">17827</td><td style=\"white-space: nowrap; max-width: 500px; overflow: hidden; text-overflow: ellipsis; \">false</td><td style=\"white-space: nowrap; max-width: 500px; overflow: hidden; text-overflow: ellipsis; \">2.23e+00</td><td style=\"white-space: nowrap; max-width: 500px; overflow: hidden; text-overflow: ellipsis; \">NA</td><td style=\"white-space: nowrap; max-width: 500px; overflow: hidden; text-overflow: ellipsis; \">9.88e-02</td><td style=\"white-space: nowrap; max-width: 500px; overflow: hidden; text-overflow: ellipsis; \">[514]</td><td style=\"white-space: nowrap; max-width: 500px; overflow: hidden; text-overflow: ellipsis; \">[1.02e-01]</td><td style=\"white-space: nowrap; max-width: 500px; overflow: hidden; text-overflow: ellipsis; \">5.91e+01</td><td style=\"white-space: nowrap; max-width: 500px; overflow: hidden; text-overflow: ellipsis; \">0</td><td style=\"white-space: nowrap; max-width: 500px; overflow: hidden; text-overflow: ellipsis; \">1.45e+00</td><td style=\"white-space: nowrap; max-width: 500px; overflow: hidden; text-overflow: ellipsis; \">1.50e+01</td><td style=\"white-space: nowrap; max-width: 500px; overflow: hidden; text-overflow: ellipsis; \">6.29e+00</td><td style=\"white-space: nowrap; max-width: 500px; overflow: hidden; text-overflow: ellipsis; \">NA</td><td style=\"white-space: nowrap; max-width: 500px; overflow: hidden; text-overflow: ellipsis; \">&quot;HG00881&quot;</td><td style=\"white-space: nowrap; max-width: 500px; overflow: hidden; text-overflow: ellipsis; \">&quot;CDX&quot;</td><td style=\"white-space: nowrap; max-width: 500px; overflow: hidden; text-overflow: ellipsis; \">&quot;EAS&quot;</td><td style=\"white-space: nowrap; max-width: 500px; overflow: hidden; text-overflow: ellipsis; \">false</td><td style=\"white-space: nowrap; max-width: 500px; overflow: hidden; text-overflow: ellipsis; \">false</td><td style=\"white-space: nowrap; max-width: 500px; overflow: hidden; text-overflow: ellipsis; \">6</td><td style=\"white-space: nowrap; max-width: 500px; overflow: hidden; text-overflow: ellipsis; \">0/1</td><td style=\"white-space: nowrap; max-width: 500px; overflow: hidden; text-overflow: ellipsis; \">[4,2]</td><td style=\"white-space: nowrap; max-width: 500px; overflow: hidden; text-overflow: ellipsis; \">6</td><td style=\"white-space: nowrap; max-width: 500px; overflow: hidden; text-overflow: ellipsis; \">52</td><td style=\"white-space: nowrap; max-width: 500px; overflow: hidden; text-overflow: ellipsis; \">[52,0,132]</td></tr>\n",
       "<tr><td style=\"white-space: nowrap; max-width: 500px; overflow: hidden; text-overflow: ellipsis; \">1:904165</td><td style=\"white-space: nowrap; max-width: 500px; overflow: hidden; text-overflow: ellipsis; \">[&quot;G&quot;,&quot;A&quot;]</td><td style=\"white-space: nowrap; max-width: 500px; overflow: hidden; text-overflow: ellipsis; \">NA</td><td style=\"white-space: nowrap; max-width: 500px; overflow: hidden; text-overflow: ellipsis; \">5.23e+04</td><td style=\"white-space: nowrap; max-width: 500px; overflow: hidden; text-overflow: ellipsis; \">NA</td><td style=\"white-space: nowrap; max-width: 500px; overflow: hidden; text-overflow: ellipsis; \">[518]</td><td style=\"white-space: nowrap; max-width: 500px; overflow: hidden; text-overflow: ellipsis; \">[1.03e-01]</td><td style=\"white-space: nowrap; max-width: 500px; overflow: hidden; text-overflow: ellipsis; \">5020</td><td style=\"white-space: nowrap; max-width: 500px; overflow: hidden; text-overflow: ellipsis; \">-3.39e+00</td><td style=\"white-space: nowrap; max-width: 500px; overflow: hidden; text-overflow: ellipsis; \">-1.70e-01</td><td style=\"white-space: nowrap; max-width: 500px; overflow: hidden; text-overflow: ellipsis; \">17827</td><td style=\"white-space: nowrap; max-width: 500px; overflow: hidden; text-overflow: ellipsis; \">false</td><td style=\"white-space: nowrap; max-width: 500px; overflow: hidden; text-overflow: ellipsis; \">2.23e+00</td><td style=\"white-space: nowrap; max-width: 500px; overflow: hidden; text-overflow: ellipsis; \">NA</td><td style=\"white-space: nowrap; max-width: 500px; overflow: hidden; text-overflow: ellipsis; \">9.88e-02</td><td style=\"white-space: nowrap; max-width: 500px; overflow: hidden; text-overflow: ellipsis; \">[514]</td><td style=\"white-space: nowrap; max-width: 500px; overflow: hidden; text-overflow: ellipsis; \">[1.02e-01]</td><td style=\"white-space: nowrap; max-width: 500px; overflow: hidden; text-overflow: ellipsis; \">5.91e+01</td><td style=\"white-space: nowrap; max-width: 500px; overflow: hidden; text-overflow: ellipsis; \">0</td><td style=\"white-space: nowrap; max-width: 500px; overflow: hidden; text-overflow: ellipsis; \">1.45e+00</td><td style=\"white-space: nowrap; max-width: 500px; overflow: hidden; text-overflow: ellipsis; \">1.50e+01</td><td style=\"white-space: nowrap; max-width: 500px; overflow: hidden; text-overflow: ellipsis; \">6.29e+00</td><td style=\"white-space: nowrap; max-width: 500px; overflow: hidden; text-overflow: ellipsis; \">NA</td><td style=\"white-space: nowrap; max-width: 500px; overflow: hidden; text-overflow: ellipsis; \">&quot;HG01241&quot;</td><td style=\"white-space: nowrap; max-width: 500px; overflow: hidden; text-overflow: ellipsis; \">&quot;PUR&quot;</td><td style=\"white-space: nowrap; max-width: 500px; overflow: hidden; text-overflow: ellipsis; \">&quot;AMR&quot;</td><td style=\"white-space: nowrap; max-width: 500px; overflow: hidden; text-overflow: ellipsis; \">false</td><td style=\"white-space: nowrap; max-width: 500px; overflow: hidden; text-overflow: ellipsis; \">true</td><td style=\"white-space: nowrap; max-width: 500px; overflow: hidden; text-overflow: ellipsis; \">5</td><td style=\"white-space: nowrap; max-width: 500px; overflow: hidden; text-overflow: ellipsis; \">0/1</td><td style=\"white-space: nowrap; max-width: 500px; overflow: hidden; text-overflow: ellipsis; \">[3,3]</td><td style=\"white-space: nowrap; max-width: 500px; overflow: hidden; text-overflow: ellipsis; \">6</td><td style=\"white-space: nowrap; max-width: 500px; overflow: hidden; text-overflow: ellipsis; \">87</td><td style=\"white-space: nowrap; max-width: 500px; overflow: hidden; text-overflow: ellipsis; \">[87,0,87]</td></tr>\n",
       "<tr><td style=\"white-space: nowrap; max-width: 500px; overflow: hidden; text-overflow: ellipsis; \">1:904165</td><td style=\"white-space: nowrap; max-width: 500px; overflow: hidden; text-overflow: ellipsis; \">[&quot;G&quot;,&quot;A&quot;]</td><td style=\"white-space: nowrap; max-width: 500px; overflow: hidden; text-overflow: ellipsis; \">NA</td><td style=\"white-space: nowrap; max-width: 500px; overflow: hidden; text-overflow: ellipsis; \">5.23e+04</td><td style=\"white-space: nowrap; max-width: 500px; overflow: hidden; text-overflow: ellipsis; \">NA</td><td style=\"white-space: nowrap; max-width: 500px; overflow: hidden; text-overflow: ellipsis; \">[518]</td><td style=\"white-space: nowrap; max-width: 500px; overflow: hidden; text-overflow: ellipsis; \">[1.03e-01]</td><td style=\"white-space: nowrap; max-width: 500px; overflow: hidden; text-overflow: ellipsis; \">5020</td><td style=\"white-space: nowrap; max-width: 500px; overflow: hidden; text-overflow: ellipsis; \">-3.39e+00</td><td style=\"white-space: nowrap; max-width: 500px; overflow: hidden; text-overflow: ellipsis; \">-1.70e-01</td><td style=\"white-space: nowrap; max-width: 500px; overflow: hidden; text-overflow: ellipsis; \">17827</td><td style=\"white-space: nowrap; max-width: 500px; overflow: hidden; text-overflow: ellipsis; \">false</td><td style=\"white-space: nowrap; max-width: 500px; overflow: hidden; text-overflow: ellipsis; \">2.23e+00</td><td style=\"white-space: nowrap; max-width: 500px; overflow: hidden; text-overflow: ellipsis; \">NA</td><td style=\"white-space: nowrap; max-width: 500px; overflow: hidden; text-overflow: ellipsis; \">9.88e-02</td><td style=\"white-space: nowrap; max-width: 500px; overflow: hidden; text-overflow: ellipsis; \">[514]</td><td style=\"white-space: nowrap; max-width: 500px; overflow: hidden; text-overflow: ellipsis; \">[1.02e-01]</td><td style=\"white-space: nowrap; max-width: 500px; overflow: hidden; text-overflow: ellipsis; \">5.91e+01</td><td style=\"white-space: nowrap; max-width: 500px; overflow: hidden; text-overflow: ellipsis; \">0</td><td style=\"white-space: nowrap; max-width: 500px; overflow: hidden; text-overflow: ellipsis; \">1.45e+00</td><td style=\"white-space: nowrap; max-width: 500px; overflow: hidden; text-overflow: ellipsis; \">1.50e+01</td><td style=\"white-space: nowrap; max-width: 500px; overflow: hidden; text-overflow: ellipsis; \">6.29e+00</td><td style=\"white-space: nowrap; max-width: 500px; overflow: hidden; text-overflow: ellipsis; \">NA</td><td style=\"white-space: nowrap; max-width: 500px; overflow: hidden; text-overflow: ellipsis; \">&quot;HG01275&quot;</td><td style=\"white-space: nowrap; max-width: 500px; overflow: hidden; text-overflow: ellipsis; \">&quot;CLM&quot;</td><td style=\"white-space: nowrap; max-width: 500px; overflow: hidden; text-overflow: ellipsis; \">&quot;AMR&quot;</td><td style=\"white-space: nowrap; max-width: 500px; overflow: hidden; text-overflow: ellipsis; \">true</td><td style=\"white-space: nowrap; max-width: 500px; overflow: hidden; text-overflow: ellipsis; \">false</td><td style=\"white-space: nowrap; max-width: 500px; overflow: hidden; text-overflow: ellipsis; \">5</td><td style=\"white-space: nowrap; max-width: 500px; overflow: hidden; text-overflow: ellipsis; \">0/1</td><td style=\"white-space: nowrap; max-width: 500px; overflow: hidden; text-overflow: ellipsis; \">[3,9]</td><td style=\"white-space: nowrap; max-width: 500px; overflow: hidden; text-overflow: ellipsis; \">12</td><td style=\"white-space: nowrap; max-width: 500px; overflow: hidden; text-overflow: ellipsis; \">79</td><td style=\"white-space: nowrap; max-width: 500px; overflow: hidden; text-overflow: ellipsis; \">[290,0,79]</td></tr>\n",
       "</tbody></table><p style=\"background: #fdd; padding: 0.4em;\">showing top 5 rows</p>\n"
      ],
      "text/plain": [
       "+---------------+------------+------+----------+----------+--------------+\n",
       "| locus         | alleles    | rsid |     qual | filters  | info.AC      |\n",
       "+---------------+------------+------+----------+----------+--------------+\n",
       "| locus<GRCh37> | array<str> | str  |  float64 | set<str> | array<int32> |\n",
       "+---------------+------------+------+----------+----------+--------------+\n",
       "| 1:904165      | [\"G\",\"A\"]  | NA   | 5.23e+04 | NA       | [518]        |\n",
       "| 1:904165      | [\"G\",\"A\"]  | NA   | 5.23e+04 | NA       | [518]        |\n",
       "| 1:904165      | [\"G\",\"A\"]  | NA   | 5.23e+04 | NA       | [518]        |\n",
       "| 1:904165      | [\"G\",\"A\"]  | NA   | 5.23e+04 | NA       | [518]        |\n",
       "| 1:904165      | [\"G\",\"A\"]  | NA   | 5.23e+04 | NA       | [518]        |\n",
       "+---------------+------------+------+----------+----------+--------------+\n",
       "\n",
       "+----------------+---------+-------------------+----------------------+\n",
       "| info.AF        | info.AN | info.BaseQRankSum | info.ClippingRankSum |\n",
       "+----------------+---------+-------------------+----------------------+\n",
       "| array<float64> |   int32 |           float64 |              float64 |\n",
       "+----------------+---------+-------------------+----------------------+\n",
       "| [1.03e-01]     |    5020 |         -3.39e+00 |            -1.70e-01 |\n",
       "| [1.03e-01]     |    5020 |         -3.39e+00 |            -1.70e-01 |\n",
       "| [1.03e-01]     |    5020 |         -3.39e+00 |            -1.70e-01 |\n",
       "| [1.03e-01]     |    5020 |         -3.39e+00 |            -1.70e-01 |\n",
       "| [1.03e-01]     |    5020 |         -3.39e+00 |            -1.70e-01 |\n",
       "+----------------+---------+-------------------+----------------------+\n",
       "\n",
       "+---------+---------+----------+---------------------+----------------------+\n",
       "| info.DP | info.DS |  info.FS | info.HaplotypeScore | info.InbreedingCoeff |\n",
       "+---------+---------+----------+---------------------+----------------------+\n",
       "|   int32 |    bool |  float64 |             float64 |              float64 |\n",
       "+---------+---------+----------+---------------------+----------------------+\n",
       "|   17827 |   false | 2.23e+00 |                  NA |             9.88e-02 |\n",
       "|   17827 |   false | 2.23e+00 |                  NA |             9.88e-02 |\n",
       "|   17827 |   false | 2.23e+00 |                  NA |             9.88e-02 |\n",
       "|   17827 |   false | 2.23e+00 |                  NA |             9.88e-02 |\n",
       "|   17827 |   false | 2.23e+00 |                  NA |             9.88e-02 |\n",
       "+---------+---------+----------+---------------------+----------------------+\n",
       "\n",
       "+--------------+----------------+----------+----------+----------------+\n",
       "| info.MLEAC   | info.MLEAF     |  info.MQ | info.MQ0 | info.MQRankSum |\n",
       "+--------------+----------------+----------+----------+----------------+\n",
       "| array<int32> | array<float64> |  float64 |    int32 |        float64 |\n",
       "+--------------+----------------+----------+----------+----------------+\n",
       "| [514]        | [1.02e-01]     | 5.91e+01 |        0 |       1.45e+00 |\n",
       "| [514]        | [1.02e-01]     | 5.91e+01 |        0 |       1.45e+00 |\n",
       "| [514]        | [1.02e-01]     | 5.91e+01 |        0 |       1.45e+00 |\n",
       "| [514]        | [1.02e-01]     | 5.91e+01 |        0 |       1.45e+00 |\n",
       "| [514]        | [1.02e-01]     | 5.91e+01 |        0 |       1.45e+00 |\n",
       "+--------------+----------------+----------+----------+----------------+\n",
       "\n",
       "+----------+---------------------+----------+-----------+------------------+\n",
       "|  info.QD | info.ReadPosRankSum | info.set | s         | pheno.Population |\n",
       "+----------+---------------------+----------+-----------+------------------+\n",
       "|  float64 |             float64 | str      | str       | str              |\n",
       "+----------+---------------------+----------+-----------+------------------+\n",
       "| 1.50e+01 |            6.29e+00 | NA       | \"HG00607\" | \"CHS\"            |\n",
       "| 1.50e+01 |            6.29e+00 | NA       | \"HG00705\" | \"CHS\"            |\n",
       "| 1.50e+01 |            6.29e+00 | NA       | \"HG00881\" | \"CDX\"            |\n",
       "| 1.50e+01 |            6.29e+00 | NA       | \"HG01241\" | \"PUR\"            |\n",
       "| 1.50e+01 |            6.29e+00 | NA       | \"HG01275\" | \"CLM\"            |\n",
       "+----------+---------------------+----------+-----------+------------------+\n",
       "\n",
       "+-----------------------+----------------+------------------+\n",
       "| pheno.SuperPopulation | pheno.isFemale | pheno.PurpleHair |\n",
       "+-----------------------+----------------+------------------+\n",
       "| str                   |           bool |             bool |\n",
       "+-----------------------+----------------+------------------+\n",
       "| \"EAS\"                 |          false |            false |\n",
       "| \"EAS\"                 |           true |             true |\n",
       "| \"EAS\"                 |          false |            false |\n",
       "| \"AMR\"                 |          false |             true |\n",
       "| \"AMR\"                 |           true |            false |\n",
       "+-----------------------+----------------+------------------+\n",
       "\n",
       "+---------------------------+------+--------------+-------+-------+\n",
       "| pheno.CaffeineConsumption | GT   | AD           |    DP |    GQ |\n",
       "+---------------------------+------+--------------+-------+-------+\n",
       "|                     int32 | call | array<int32> | int32 | int32 |\n",
       "+---------------------------+------+--------------+-------+-------+\n",
       "|                         5 | 0/1  | [2,2]        |     4 |    25 |\n",
       "|                         5 | 0/1  | [1,2]        |     3 |    25 |\n",
       "|                         6 | 0/1  | [4,2]        |     6 |    52 |\n",
       "|                         5 | 0/1  | [3,3]        |     6 |    87 |\n",
       "|                         5 | 0/1  | [3,9]        |    12 |    79 |\n",
       "+---------------------------+------+--------------+-------+-------+\n",
       "\n",
       "+--------------+\n",
       "| PL           |\n",
       "+--------------+\n",
       "| array<int32> |\n",
       "+--------------+\n",
       "| [25,0,58]    |\n",
       "| [68,0,25]    |\n",
       "| [52,0,132]   |\n",
       "| [87,0,87]    |\n",
       "| [290,0,79]   |\n",
       "+--------------+\n",
       "showing top 5 rows"
      ]
     },
     "metadata": {},
     "output_type": "display_data"
    },
    {
     "data": {
      "text/plain": [
       "741176"
      ]
     },
     "execution_count": 150,
     "metadata": {},
     "output_type": "execute_result"
    }
   ],
   "source": [
    "filt_mt = mt.filter_entries(mt.GT==hl.eval(hl.call(0, 1))) # where mt.GT is \"0/1\"\n",
    "filt_mt.entries().show(5)\n",
    "filt_mt.entries().count()"
   ]
  },
  {
   "cell_type": "code",
   "execution_count": 152,
   "id": "40b16a0f",
   "metadata": {
    "scrolled": true
   },
   "outputs": [
    {
     "name": "stderr",
     "output_type": "stream",
     "text": [
      "\r",
      "[Stage 138:>                                                        (0 + 1) / 1]"
     ]
    },
    {
     "data": {
      "text/plain": [
       "{Struct(ref='C', alt='A'): 33739,\n",
       " Struct(ref='A', alt='C'): 32260,\n",
       " Struct(ref='C', alt='T'): 159656,\n",
       " Struct(ref='C', alt='G'): 4191,\n",
       " Struct(ref='A', alt='T'): 1484,\n",
       " Struct(ref='G', alt='A'): 150667,\n",
       " Struct(ref='G', alt='C'): 2007,\n",
       " Struct(ref='T', alt='G'): 34197,\n",
       " Struct(ref='A', alt='G'): 146797,\n",
       " Struct(ref='G', alt='T'): 32929,\n",
       " Struct(ref='T', alt='C'): 141000,\n",
       " Struct(ref='T', alt='A'): 2249}"
      ]
     },
     "execution_count": 152,
     "metadata": {},
     "output_type": "execute_result"
    }
   ],
   "source": [
    "filt_et = filt_mt.entries()\n",
    "filt_et.aggregate(hl.agg.counter(hl.Struct(ref=filt_et.alleles[0], alt=filt_et.alleles[1])))"
   ]
  },
  {
   "cell_type": "code",
   "execution_count": 176,
   "id": "5da5d182",
   "metadata": {},
   "outputs": [
    {
     "data": {
      "text/html": [
       "<table><thead><tr><td style=\"white-space: nowrap; max-width: 500px; overflow: hidden; text-overflow: ellipsis; \" colspan=\"1\"><div style=\"text-align: left;\"></div></td><td style=\"white-space: nowrap; max-width: 500px; overflow: hidden; text-overflow: ellipsis; \" colspan=\"1\"><div style=\"text-align: left;\"></div></td><td style=\"white-space: nowrap; max-width: 500px; overflow: hidden; text-overflow: ellipsis; \" colspan=\"1\"><div style=\"text-align: left;\"></div></td></tr><tr><td style=\"white-space: nowrap; max-width: 500px; overflow: hidden; text-overflow: ellipsis; \" colspan=\"1\"><div style=\"text-align: left;border-bottom: solid 2px #000; padding-bottom: 5px\">locus</div></td><td style=\"white-space: nowrap; max-width: 500px; overflow: hidden; text-overflow: ellipsis; \" colspan=\"1\"><div style=\"text-align: left;border-bottom: solid 2px #000; padding-bottom: 5px\">alleles</div></td><td style=\"white-space: nowrap; max-width: 500px; overflow: hidden; text-overflow: ellipsis; \" colspan=\"1\"><div style=\"text-align: left;border-bottom: solid 2px #000; padding-bottom: 5px\">gt_counter</div></td></tr><tr><td style=\"white-space: nowrap; max-width: 500px; overflow: hidden; text-overflow: ellipsis; text-align: left;\">locus&lt;GRCh37&gt;</td><td style=\"white-space: nowrap; max-width: 500px; overflow: hidden; text-overflow: ellipsis; text-align: left;\">array&lt;str&gt;</td><td style=\"white-space: nowrap; max-width: 500px; overflow: hidden; text-overflow: ellipsis; text-align: left;\">dict&lt;call, int64&gt;</td></tr>\n",
       "</thead><tbody><tr><td style=\"white-space: nowrap; max-width: 500px; overflow: hidden; text-overflow: ellipsis; \">1:904165</td><td style=\"white-space: nowrap; max-width: 500px; overflow: hidden; text-overflow: ellipsis; \">[&quot;G&quot;,&quot;A&quot;]</td><td style=\"white-space: nowrap; max-width: 500px; overflow: hidden; text-overflow: ellipsis; \">{0/1:45}}</td></tr>\n",
       "<tr><td style=\"white-space: nowrap; max-width: 500px; overflow: hidden; text-overflow: ellipsis; \">1:909917</td><td style=\"white-space: nowrap; max-width: 500px; overflow: hidden; text-overflow: ellipsis; \">[&quot;G&quot;,&quot;A&quot;]</td><td style=\"white-space: nowrap; max-width: 500px; overflow: hidden; text-overflow: ellipsis; \">{0/1:3}}</td></tr>\n",
       "<tr><td style=\"white-space: nowrap; max-width: 500px; overflow: hidden; text-overflow: ellipsis; \">1:986963</td><td style=\"white-space: nowrap; max-width: 500px; overflow: hidden; text-overflow: ellipsis; \">[&quot;C&quot;,&quot;T&quot;]</td><td style=\"white-space: nowrap; max-width: 500px; overflow: hidden; text-overflow: ellipsis; \">{0/1:1}}</td></tr>\n",
       "<tr><td style=\"white-space: nowrap; max-width: 500px; overflow: hidden; text-overflow: ellipsis; \">1:1563691</td><td style=\"white-space: nowrap; max-width: 500px; overflow: hidden; text-overflow: ellipsis; \">[&quot;T&quot;,&quot;G&quot;]</td><td style=\"white-space: nowrap; max-width: 500px; overflow: hidden; text-overflow: ellipsis; \">{0/1:6}}</td></tr>\n",
       "<tr><td style=\"white-space: nowrap; max-width: 500px; overflow: hidden; text-overflow: ellipsis; \">1:1707740</td><td style=\"white-space: nowrap; max-width: 500px; overflow: hidden; text-overflow: ellipsis; \">[&quot;T&quot;,&quot;G&quot;]</td><td style=\"white-space: nowrap; max-width: 500px; overflow: hidden; text-overflow: ellipsis; \">{0/1:76}}</td></tr>\n",
       "<tr><td style=\"white-space: nowrap; max-width: 500px; overflow: hidden; text-overflow: ellipsis; \">1:2252970</td><td style=\"white-space: nowrap; max-width: 500px; overflow: hidden; text-overflow: ellipsis; \">[&quot;C&quot;,&quot;T&quot;]</td><td style=\"white-space: nowrap; max-width: 500px; overflow: hidden; text-overflow: ellipsis; \">{0/1:1}}</td></tr>\n",
       "<tr><td style=\"white-space: nowrap; max-width: 500px; overflow: hidden; text-overflow: ellipsis; \">1:2284195</td><td style=\"white-space: nowrap; max-width: 500px; overflow: hidden; text-overflow: ellipsis; \">[&quot;T&quot;,&quot;C&quot;]</td><td style=\"white-space: nowrap; max-width: 500px; overflow: hidden; text-overflow: ellipsis; \">{0/1:101}}</td></tr>\n",
       "<tr><td style=\"white-space: nowrap; max-width: 500px; overflow: hidden; text-overflow: ellipsis; \">1:2779043</td><td style=\"white-space: nowrap; max-width: 500px; overflow: hidden; text-overflow: ellipsis; \">[&quot;T&quot;,&quot;C&quot;]</td><td style=\"white-space: nowrap; max-width: 500px; overflow: hidden; text-overflow: ellipsis; \">{0/1:85}}</td></tr>\n",
       "<tr><td style=\"white-space: nowrap; max-width: 500px; overflow: hidden; text-overflow: ellipsis; \">1:2944527</td><td style=\"white-space: nowrap; max-width: 500px; overflow: hidden; text-overflow: ellipsis; \">[&quot;G&quot;,&quot;A&quot;]</td><td style=\"white-space: nowrap; max-width: 500px; overflow: hidden; text-overflow: ellipsis; \">{0/1:90}}</td></tr>\n",
       "<tr><td style=\"white-space: nowrap; max-width: 500px; overflow: hidden; text-overflow: ellipsis; \">1:3761547</td><td style=\"white-space: nowrap; max-width: 500px; overflow: hidden; text-overflow: ellipsis; \">[&quot;C&quot;,&quot;A&quot;]</td><td style=\"white-space: nowrap; max-width: 500px; overflow: hidden; text-overflow: ellipsis; \">{0/1:6}}</td></tr>\n",
       "</tbody></table><p style=\"background: #fdd; padding: 0.4em;\">showing top 10 rows</p>\n"
      ],
      "text/plain": [
       "+---------------+------------+-------------------+\n",
       "| locus         | alleles    | gt_counter        |\n",
       "+---------------+------------+-------------------+\n",
       "| locus<GRCh37> | array<str> | dict<call, int64> |\n",
       "+---------------+------------+-------------------+\n",
       "| 1:904165      | [\"G\",\"A\"]  | {0/1:45}}         |\n",
       "| 1:909917      | [\"G\",\"A\"]  | {0/1:3}}          |\n",
       "| 1:986963      | [\"C\",\"T\"]  | {0/1:1}}          |\n",
       "| 1:1563691     | [\"T\",\"G\"]  | {0/1:6}}          |\n",
       "| 1:1707740     | [\"T\",\"G\"]  | {0/1:76}}         |\n",
       "| 1:2252970     | [\"C\",\"T\"]  | {0/1:1}}          |\n",
       "| 1:2284195     | [\"T\",\"C\"]  | {0/1:101}}        |\n",
       "| 1:2779043     | [\"T\",\"C\"]  | {0/1:85}}         |\n",
       "| 1:2944527     | [\"G\",\"A\"]  | {0/1:90}}         |\n",
       "| 1:3761547     | [\"C\",\"A\"]  | {0/1:6}}          |\n",
       "+---------------+------------+-------------------+\n",
       "showing top 10 rows"
      ]
     },
     "metadata": {},
     "output_type": "display_data"
    }
   ],
   "source": [
    "result_mt = filt_mt.annotate_rows(gt_counter=hl.agg.counter(filt_mt.GT))\n",
    "result_mt.gt_counter.show()"
   ]
  },
  {
   "cell_type": "markdown",
   "id": "e663d7f2",
   "metadata": {},
   "source": [
    "#### Sort"
   ]
  },
  {
   "cell_type": "code",
   "execution_count": 158,
   "id": "5617ee4f",
   "metadata": {},
   "outputs": [
    {
     "data": {
      "text/plain": [
       "[(Struct(ref='C', alt='T'), 2418),\n",
       " (Struct(ref='G', alt='A'), 2367),\n",
       " (Struct(ref='A', alt='G'), 1929),\n",
       " (Struct(ref='T', alt='C'), 1864),\n",
       " (Struct(ref='C', alt='A'), 494),\n",
       " (Struct(ref='G', alt='T'), 477),\n",
       " (Struct(ref='T', alt='G'), 466),\n",
       " (Struct(ref='A', alt='C'), 451),\n",
       " (Struct(ref='C', alt='G'), 150),\n",
       " (Struct(ref='G', alt='C'), 111),\n",
       " (Struct(ref='T', alt='A'), 77),\n",
       " (Struct(ref='A', alt='T'), 75)]"
      ]
     },
     "execution_count": 158,
     "metadata": {},
     "output_type": "execute_result"
    }
   ],
   "source": [
    "from collections import Counter\n",
    "counts = Counter(snp_counts)\n",
    "counts.most_common()"
   ]
  },
  {
   "cell_type": "markdown",
   "id": "9114db41",
   "metadata": {},
   "source": [
    "#### Plot"
   ]
  },
  {
   "cell_type": "code",
   "execution_count": 159,
   "id": "2f64c440",
   "metadata": {},
   "outputs": [
    {
     "name": "stderr",
     "output_type": "stream",
     "text": [
      "\r",
      "[Stage 140:>                                                        (0 + 1) / 1]"
     ]
    },
    {
     "data": {
      "text/html": [
       "\n",
       "\n",
       "\n",
       "\n",
       "\n",
       "\n",
       "  <div class=\"bk-root\" id=\"88a87936-454f-416c-93be-0bfcd13fc5f1\" data-root-id=\"1002\"></div>\n"
      ]
     },
     "metadata": {},
     "output_type": "display_data"
    },
    {
     "data": {
      "application/javascript": [
       "(function(root) {\n",
       "  function embed_document(root) {\n",
       "    \n",
       "  var docs_json = {\"6e2c3cf9-464b-4916-868e-c14331c606d0\":{\"roots\":{\"references\":[{\"attributes\":{\"background_fill_color\":{\"value\":\"#EEEEEE\"},\"below\":[{\"id\":\"1013\",\"type\":\"LinearAxis\"}],\"center\":[{\"id\":\"1017\",\"type\":\"Grid\"},{\"id\":\"1022\",\"type\":\"Grid\"},{\"id\":\"1047\",\"type\":\"Legend\"}],\"left\":[{\"id\":\"1018\",\"type\":\"LinearAxis\"}],\"renderers\":[{\"id\":\"1039\",\"type\":\"GlyphRenderer\"},{\"id\":\"1052\",\"type\":\"GlyphRenderer\"}],\"title\":{\"id\":\"1003\",\"type\":\"Title\"},\"toolbar\":{\"id\":\"1029\",\"type\":\"Toolbar\"},\"x_range\":{\"id\":\"1005\",\"type\":\"Range1d\"},\"x_scale\":{\"id\":\"1009\",\"type\":\"LinearScale\"},\"y_range\":{\"id\":\"1007\",\"type\":\"DataRange1d\"},\"y_scale\":{\"id\":\"1011\",\"type\":\"LinearScale\"}},\"id\":\"1002\",\"subtype\":\"Figure\",\"type\":\"Plot\"},{\"attributes\":{\"overlay\":{\"id\":\"1046\",\"type\":\"BoxAnnotation\"}},\"id\":\"1025\",\"type\":\"BoxZoomTool\"},{\"attributes\":{\"bottom\":{\"value\":0},\"fill_alpha\":{\"value\":0.1},\"fill_color\":{\"value\":\"#1f77b4\"},\"left\":{\"field\":\"left\"},\"line_alpha\":{\"value\":0.1},\"line_color\":{\"value\":\"#1f77b4\"},\"right\":{\"field\":\"right\"},\"top\":{\"field\":\"top\"}},\"id\":\"1038\",\"type\":\"Quad\"},{\"attributes\":{\"ticker\":{\"id\":\"1014\",\"type\":\"BasicTicker\"}},\"id\":\"1017\",\"type\":\"Grid\"},{\"attributes\":{},\"id\":\"1009\",\"type\":\"LinearScale\"},{\"attributes\":{},\"id\":\"1026\",\"type\":\"SaveTool\"},{\"attributes\":{\"dimension\":1,\"ticker\":{\"id\":\"1019\",\"type\":\"BasicTicker\"}},\"id\":\"1022\",\"type\":\"Grid\"},{\"attributes\":{\"active_drag\":\"auto\",\"active_inspect\":\"auto\",\"active_multi\":null,\"active_scroll\":\"auto\",\"active_tap\":\"auto\",\"tools\":[{\"id\":\"1023\",\"type\":\"PanTool\"},{\"id\":\"1024\",\"type\":\"WheelZoomTool\"},{\"id\":\"1025\",\"type\":\"BoxZoomTool\"},{\"id\":\"1026\",\"type\":\"SaveTool\"},{\"id\":\"1027\",\"type\":\"ResetTool\"},{\"id\":\"1028\",\"type\":\"HelpTool\"}]},\"id\":\"1029\",\"type\":\"Toolbar\"},{\"attributes\":{},\"id\":\"1023\",\"type\":\"PanTool\"},{\"attributes\":{\"items\":[{\"id\":\"1048\",\"type\":\"LegendItem\"},{\"id\":\"1062\",\"type\":\"LegendItem\"}]},\"id\":\"1047\",\"type\":\"Legend\"},{\"attributes\":{},\"id\":\"1027\",\"type\":\"ResetTool\"},{\"attributes\":{},\"id\":\"1011\",\"type\":\"LinearScale\"},{\"attributes\":{\"data_source\":{\"id\":\"1036\",\"type\":\"ColumnDataSource\"},\"glyph\":{\"id\":\"1037\",\"type\":\"Quad\"},\"hover_glyph\":null,\"muted_glyph\":null,\"nonselection_glyph\":{\"id\":\"1038\",\"type\":\"Quad\"},\"selection_glyph\":null,\"view\":{\"id\":\"1040\",\"type\":\"CDSView\"}},\"id\":\"1039\",\"type\":\"GlyphRenderer\"},{\"attributes\":{},\"id\":\"1028\",\"type\":\"HelpTool\"},{\"attributes\":{},\"id\":\"1043\",\"type\":\"BasicTickFormatter\"},{\"attributes\":{\"callback\":null,\"data\":{\"left\":[0.0,1.0,2.0,3.0,4.0,5.0,6.0,7.0,8.0,9.0,10.0,11.0,12.0,13.0,14.0,15.0,16.0,17.0,18.0,19.0,20.0,21.0,22.0,23.0,24.0,25.0,26.0,27.0,28.0,29.0],\"right\":[1.0,2.0,3.0,4.0,5.0,6.0,7.0,8.0,9.0,10.0,11.0,12.0,13.0,14.0,15.0,16.0,17.0,18.0,19.0,20.0,21.0,22.0,23.0,24.0,25.0,26.0,27.0,28.0,29.0,30.0],\"top\":[164,109998,188947,260459,310216,330876,324341,300648,260992,219818,178399,141479,108442,82074,61468,44701,33076,24183,17693,12762,9403,6904,4964,3761,2728,1963,1505,1038,760,864]},\"selected\":{\"id\":\"1061\",\"type\":\"Selection\"},\"selection_policy\":{\"id\":\"1060\",\"type\":\"UnionRenderers\"}},\"id\":\"1036\",\"type\":\"ColumnDataSource\"},{\"attributes\":{},\"id\":\"1019\",\"type\":\"BasicTicker\"},{\"attributes\":{\"axis_label\":\"DP\",\"formatter\":{\"id\":\"1045\",\"type\":\"BasicTickFormatter\"},\"ticker\":{\"id\":\"1014\",\"type\":\"BasicTicker\"}},\"id\":\"1013\",\"type\":\"LinearAxis\"},{\"attributes\":{},\"id\":\"1045\",\"type\":\"BasicTickFormatter\"},{\"attributes\":{},\"id\":\"1060\",\"type\":\"UnionRenderers\"},{\"attributes\":{\"label\":{\"value\":\"Outliers Above\"},\"renderers\":[{\"id\":\"1052\",\"type\":\"GlyphRenderer\"}]},\"id\":\"1062\",\"type\":\"LegendItem\"},{\"attributes\":{},\"id\":\"1024\",\"type\":\"WheelZoomTool\"},{\"attributes\":{\"bottom\":{\"value\":0},\"fill_color\":{\"value\":\"green\"},\"left\":{\"value\":30.0},\"right\":{\"value\":31.0},\"top\":{\"value\":806}},\"id\":\"1050\",\"type\":\"Quad\"},{\"attributes\":{\"bottom\":{\"value\":0},\"fill_color\":{\"value\":\"#1f77b4\"},\"left\":{\"field\":\"left\"},\"right\":{\"field\":\"right\"},\"top\":{\"field\":\"top\"}},\"id\":\"1037\",\"type\":\"Quad\"},{\"attributes\":{\"source\":{\"id\":\"1049\",\"type\":\"ColumnDataSource\"}},\"id\":\"1053\",\"type\":\"CDSView\"},{\"attributes\":{\"data_source\":{\"id\":\"1049\",\"type\":\"ColumnDataSource\"},\"glyph\":{\"id\":\"1050\",\"type\":\"Quad\"},\"hover_glyph\":null,\"muted_glyph\":null,\"nonselection_glyph\":{\"id\":\"1051\",\"type\":\"Quad\"},\"selection_glyph\":null,\"view\":{\"id\":\"1053\",\"type\":\"CDSView\"}},\"id\":\"1052\",\"type\":\"GlyphRenderer\"},{\"attributes\":{\"callback\":null,\"data\":{},\"selected\":{\"id\":\"1072\",\"type\":\"Selection\"},\"selection_policy\":{\"id\":\"1071\",\"type\":\"UnionRenderers\"}},\"id\":\"1049\",\"type\":\"ColumnDataSource\"},{\"attributes\":{\"bottom_units\":\"screen\",\"fill_alpha\":{\"value\":0.5},\"fill_color\":{\"value\":\"lightgrey\"},\"left_units\":\"screen\",\"level\":\"overlay\",\"line_alpha\":{\"value\":1.0},\"line_color\":{\"value\":\"black\"},\"line_dash\":[4,4],\"line_width\":{\"value\":2},\"render_mode\":\"css\",\"right_units\":\"screen\",\"top_units\":\"screen\"},\"id\":\"1046\",\"type\":\"BoxAnnotation\"},{\"attributes\":{},\"id\":\"1061\",\"type\":\"Selection\"},{\"attributes\":{\"callback\":null,\"end\":31.5,\"start\":-1.5},\"id\":\"1005\",\"type\":\"Range1d\"},{\"attributes\":{\"label\":{\"value\":\"DP\"},\"renderers\":[{\"id\":\"1039\",\"type\":\"GlyphRenderer\"}]},\"id\":\"1048\",\"type\":\"LegendItem\"},{\"attributes\":{\"callback\":null},\"id\":\"1007\",\"type\":\"DataRange1d\"},{\"attributes\":{},\"id\":\"1014\",\"type\":\"BasicTicker\"},{\"attributes\":{\"source\":{\"id\":\"1036\",\"type\":\"ColumnDataSource\"}},\"id\":\"1040\",\"type\":\"CDSView\"},{\"attributes\":{},\"id\":\"1072\",\"type\":\"Selection\"},{\"attributes\":{\"axis_label\":\"Frequency\",\"formatter\":{\"id\":\"1043\",\"type\":\"BasicTickFormatter\"},\"ticker\":{\"id\":\"1019\",\"type\":\"BasicTicker\"}},\"id\":\"1018\",\"type\":\"LinearAxis\"},{\"attributes\":{\"bottom\":{\"value\":0},\"fill_alpha\":{\"value\":0.1},\"fill_color\":{\"value\":\"#1f77b4\"},\"left\":{\"value\":30.0},\"line_alpha\":{\"value\":0.1},\"line_color\":{\"value\":\"#1f77b4\"},\"right\":{\"value\":31.0},\"top\":{\"value\":806}},\"id\":\"1051\",\"type\":\"Quad\"},{\"attributes\":{},\"id\":\"1071\",\"type\":\"UnionRenderers\"},{\"attributes\":{\"text\":\"DP Histogram\"},\"id\":\"1003\",\"type\":\"Title\"}],\"root_ids\":[\"1002\"]},\"title\":\"Bokeh Application\",\"version\":\"1.2.0\"}};\n",
       "  var render_items = [{\"docid\":\"6e2c3cf9-464b-4916-868e-c14331c606d0\",\"roots\":{\"1002\":\"88a87936-454f-416c-93be-0bfcd13fc5f1\"}}];\n",
       "  root.Bokeh.embed.embed_items_notebook(docs_json, render_items);\n",
       "\n",
       "  }\n",
       "  if (root.Bokeh !== undefined) {\n",
       "    embed_document(root);\n",
       "  } else {\n",
       "    var attempts = 0;\n",
       "    var timer = setInterval(function(root) {\n",
       "      if (root.Bokeh !== undefined) {\n",
       "        embed_document(root);\n",
       "        clearInterval(timer);\n",
       "      }\n",
       "      attempts++;\n",
       "      if (attempts > 100) {\n",
       "        console.log(\"Bokeh: ERROR: Unable to run BokehJS code because BokehJS library is missing\");\n",
       "        clearInterval(timer);\n",
       "      }\n",
       "    }, 10, root)\n",
       "  }\n",
       "})(window);"
      ],
      "application/vnd.bokehjs_exec.v0+json": ""
     },
     "metadata": {
      "application/vnd.bokehjs_exec.v0+json": {
       "id": "1002"
      }
     },
     "output_type": "display_data"
    }
   ],
   "source": [
    "p = hl.plot.histogram(mt.DP, range=(0,30), bins=30, title='DP Histogram', legend='DP')\n",
    "show(p)"
   ]
  }
 ],
 "metadata": {
  "kernelspec": {
   "display_name": "Python 3 (ipykernel)",
   "language": "python",
   "name": "python3"
  },
  "language_info": {
   "codemirror_mode": {
    "name": "ipython",
    "version": 3
   },
   "file_extension": ".py",
   "mimetype": "text/x-python",
   "name": "python",
   "nbconvert_exporter": "python",
   "pygments_lexer": "ipython3",
   "version": "3.7.11"
  }
 },
 "nbformat": 4,
 "nbformat_minor": 5
}
